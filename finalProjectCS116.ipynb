{
  "cells": [
    {
      "cell_type": "markdown",
      "metadata": {
        "id": "view-in-github",
        "colab_type": "text"
      },
      "source": [
        "<a href=\"https://colab.research.google.com/github/vanviethieuanh/CS116.M11/blob/main/finalProjectCS116.ipynb\" target=\"_parent\"><img src=\"https://colab.research.google.com/assets/colab-badge.svg\" alt=\"Open In Colab\"/></a>"
      ]
    },
    {
      "cell_type": "markdown",
      "source": [
        "<h1 align=\"center\"><b>RANDOM FOREST CLASSIFIER</b></h1>"
      ],
      "metadata": {
        "id": "VASO98dGylpn"
      }
    },
    {
      "cell_type": "markdown",
      "source": [
        "\n",
        "| Tên thành viên    | MSSV     |\n",
        "| ----------------- | -------- |\n",
        "| Văn Viết Hiếu Anh | 19521225 |\n",
        "| Văn Viết Nhật     | 19521958 |\n",
        "| Lê Văn Phước      | 19522054 |"
      ],
      "metadata": {
        "id": "1Q5YTMSHy5OM"
      }
    },
    {
      "cell_type": "code",
      "execution_count": 1,
      "metadata": {
        "colab": {
          "base_uri": "https://localhost:8080/"
        },
        "id": "tGdzlPG7F9r3",
        "outputId": "b2c53a85-c8dc-4a19-c860-602a390dbc5d"
      },
      "outputs": [
        {
          "output_type": "execute_result",
          "data": {
            "text/plain": [
              "['Collecting sklearn-genetic-opt',\n",
              " '  Downloading sklearn_genetic_opt-0.7.0-py3-none-any.whl (29 kB)',\n",
              " 'Requirement already satisfied: tqdm>=4.61.1 in /usr/local/lib/python3.7/dist-packages (from sklearn-genetic-opt) (4.62.3)',\n",
              " 'Requirement already satisfied: scikit-learn>=0.21.3 in /usr/local/lib/python3.7/dist-packages (from sklearn-genetic-opt) (1.0.1)',\n",
              " 'Collecting deap>=1.3.1',\n",
              " '  Downloading deap-1.3.1-cp37-cp37m-manylinux_2_5_x86_64.manylinux1_x86_64.manylinux_2_12_x86_64.manylinux2010_x86_64.whl (160 kB)',\n",
              " '\\x1b[?25l',\n",
              " '\\x1b[K     |██                              | 10 kB 24.1 MB/s eta 0:00:01',\n",
              " '\\x1b[K     |████                            | 20 kB 31.0 MB/s eta 0:00:01',\n",
              " '\\x1b[K     |██████                          | 30 kB 33.8 MB/s eta 0:00:01',\n",
              " '\\x1b[K     |████████▏                       | 40 kB 17.3 MB/s eta 0:00:01',\n",
              " '\\x1b[K     |██████████▏                     | 51 kB 20.1 MB/s eta 0:00:01',\n",
              " '\\x1b[K     |████████████▏                   | 61 kB 5.7 MB/s eta 0:00:01',\n",
              " '\\x1b[K     |██████████████▎                 | 71 kB 6.3 MB/s eta 0:00:01',\n",
              " '\\x1b[K     |████████████████▎               | 81 kB 7.0 MB/s eta 0:00:01',\n",
              " '\\x1b[K     |██████████████████▎             | 92 kB 7.4 MB/s eta 0:00:01',\n",
              " '\\x1b[K     |████████████████████▍           | 102 kB 7.9 MB/s eta 0:00:01',\n",
              " '\\x1b[K     |██████████████████████▍         | 112 kB 7.9 MB/s eta 0:00:01',\n",
              " '\\x1b[K     |████████████████████████▍       | 122 kB 7.9 MB/s eta 0:00:01',\n",
              " '\\x1b[K     |██████████████████████████▌     | 133 kB 7.9 MB/s eta 0:00:01',\n",
              " '\\x1b[K     |████████████████████████████▌   | 143 kB 7.9 MB/s eta 0:00:01',\n",
              " '\\x1b[K     |██████████████████████████████▌ | 153 kB 7.9 MB/s eta 0:00:01',\n",
              " '\\x1b[K     |████████████████████████████████| 160 kB 7.9 MB/s ',\n",
              " '\\x1b[?25hRequirement already satisfied: numpy>=1.14.5 in /usr/local/lib/python3.7/dist-packages (from sklearn-genetic-opt) (1.19.5)',\n",
              " 'Requirement already satisfied: threadpoolctl>=2.0.0 in /usr/local/lib/python3.7/dist-packages (from scikit-learn>=0.21.3->sklearn-genetic-opt) (3.0.0)',\n",
              " 'Requirement already satisfied: joblib>=0.11 in /usr/local/lib/python3.7/dist-packages (from scikit-learn>=0.21.3->sklearn-genetic-opt) (1.1.0)',\n",
              " 'Requirement already satisfied: scipy>=1.1.0 in /usr/local/lib/python3.7/dist-packages (from scikit-learn>=0.21.3->sklearn-genetic-opt) (1.4.1)',\n",
              " 'Installing collected packages: deap, sklearn-genetic-opt',\n",
              " 'Successfully installed deap-1.3.1 sklearn-genetic-opt-0.7.0']"
            ]
          },
          "metadata": {},
          "execution_count": 1
        }
      ],
      "source": [
        "!!pip install sklearn-genetic-opt"
      ]
    },
    {
      "cell_type": "code",
      "execution_count": 2,
      "metadata": {
        "id": "FI06UOYzGKuZ"
      },
      "outputs": [],
      "source": [
        "from sklearn.ensemble import RandomForestClassifier\n",
        "from sklearn.model_selection import train_test_split\n",
        "from sklearn.metrics import accuracy_score\n",
        "\n",
        "from sklearn_genetic import GASearchCV\n",
        "from sklearn_genetic.space import Continuous, Categorical, Integer\n",
        "from sklearn_genetic.plots import plot_fitness_evolution, plot_search_space\n",
        "from sklearn.model_selection import StratifiedKFold\n",
        "from sklearn.model_selection import train_test_split\n",
        "from sklearn.metrics import confusion_matrix\n",
        "from sklearn.metrics import precision_score\n",
        "from sklearn.metrics import f1_score\n",
        "from sklearn.metrics import recall_score\n",
        "from sklearn.metrics import roc_curve\n",
        "from sklearn.metrics import auc\n",
        "from sklearn import metrics\n",
        "from sklearn.model_selection import KFold\n",
        "\n",
        "import matplotlib.pyplot as plt\n",
        "import time\n",
        "from math import cos, pi, exp, sqrt\n",
        "\n",
        "import pandas as pd\n",
        "import random as rand\n",
        "import numpy as np\n",
        "\n",
        "from sklearn.model_selection import GridSearchCV\n",
        "from sklearn.svm import SVC\n",
        "from sklearn.pipeline import make_pipeline\n",
        "from sklearn.preprocessing import StandardScaler"
      ]
    },
    {
      "cell_type": "code",
      "execution_count": 3,
      "metadata": {
        "id": "r83HfDtK3VPz"
      },
      "outputs": [],
      "source": [
        "DATASET_PATH = \"https://raw.githubusercontent.com/vanviethieuanh/CS116.M11/main/dataset/\"\n",
        "\n",
        "dataset_list = pd.read_csv(\"https://raw.githubusercontent.com/vanviethieuanh/CS116.M11/main/dataset_list.csv\")\n",
        "file_paths = [DATASET_PATH + file_name for file_name in dataset_list['file_name'].to_list()]"
      ]
    },
    {
      "cell_type": "markdown",
      "metadata": {
        "id": "YuBYfye2I0Eo"
      },
      "source": [
        "# heart_failure_clinical_records_dataset.csv"
      ]
    },
    {
      "cell_type": "code",
      "execution_count": 4,
      "metadata": {
        "id": "CRks1zDZ4HYE"
      },
      "outputs": [],
      "source": [
        "df1 = pd.read_csv(file_paths[1])\n",
        "df1 = df1.dropna()"
      ]
    },
    {
      "cell_type": "code",
      "source": [
        "df1.head(5)"
      ],
      "metadata": {
        "colab": {
          "base_uri": "https://localhost:8080/",
          "height": 226
        },
        "id": "yaxrThT7w9Yz",
        "outputId": "1aebd20f-081f-412c-d952-67a0a89a8e60"
      },
      "execution_count": 5,
      "outputs": [
        {
          "output_type": "execute_result",
          "data": {
            "text/html": [
              "<div>\n",
              "<style scoped>\n",
              "    .dataframe tbody tr th:only-of-type {\n",
              "        vertical-align: middle;\n",
              "    }\n",
              "\n",
              "    .dataframe tbody tr th {\n",
              "        vertical-align: top;\n",
              "    }\n",
              "\n",
              "    .dataframe thead th {\n",
              "        text-align: right;\n",
              "    }\n",
              "</style>\n",
              "<table border=\"1\" class=\"dataframe\">\n",
              "  <thead>\n",
              "    <tr style=\"text-align: right;\">\n",
              "      <th></th>\n",
              "      <th>age</th>\n",
              "      <th>anaemia</th>\n",
              "      <th>creatinine_phosphokinase</th>\n",
              "      <th>diabetes</th>\n",
              "      <th>ejection_fraction</th>\n",
              "      <th>high_blood_pressure</th>\n",
              "      <th>platelets</th>\n",
              "      <th>serum_creatinine</th>\n",
              "      <th>serum_sodium</th>\n",
              "      <th>sex</th>\n",
              "      <th>smoking</th>\n",
              "      <th>time</th>\n",
              "      <th>DEATH_EVENT</th>\n",
              "    </tr>\n",
              "  </thead>\n",
              "  <tbody>\n",
              "    <tr>\n",
              "      <th>0</th>\n",
              "      <td>75.0</td>\n",
              "      <td>0</td>\n",
              "      <td>582</td>\n",
              "      <td>0</td>\n",
              "      <td>20</td>\n",
              "      <td>1</td>\n",
              "      <td>265000.00</td>\n",
              "      <td>1.9</td>\n",
              "      <td>130</td>\n",
              "      <td>1</td>\n",
              "      <td>0</td>\n",
              "      <td>4</td>\n",
              "      <td>1</td>\n",
              "    </tr>\n",
              "    <tr>\n",
              "      <th>1</th>\n",
              "      <td>55.0</td>\n",
              "      <td>0</td>\n",
              "      <td>7861</td>\n",
              "      <td>0</td>\n",
              "      <td>38</td>\n",
              "      <td>0</td>\n",
              "      <td>263358.03</td>\n",
              "      <td>1.1</td>\n",
              "      <td>136</td>\n",
              "      <td>1</td>\n",
              "      <td>0</td>\n",
              "      <td>6</td>\n",
              "      <td>1</td>\n",
              "    </tr>\n",
              "    <tr>\n",
              "      <th>2</th>\n",
              "      <td>65.0</td>\n",
              "      <td>0</td>\n",
              "      <td>146</td>\n",
              "      <td>0</td>\n",
              "      <td>20</td>\n",
              "      <td>0</td>\n",
              "      <td>162000.00</td>\n",
              "      <td>1.3</td>\n",
              "      <td>129</td>\n",
              "      <td>1</td>\n",
              "      <td>1</td>\n",
              "      <td>7</td>\n",
              "      <td>1</td>\n",
              "    </tr>\n",
              "    <tr>\n",
              "      <th>3</th>\n",
              "      <td>50.0</td>\n",
              "      <td>1</td>\n",
              "      <td>111</td>\n",
              "      <td>0</td>\n",
              "      <td>20</td>\n",
              "      <td>0</td>\n",
              "      <td>210000.00</td>\n",
              "      <td>1.9</td>\n",
              "      <td>137</td>\n",
              "      <td>1</td>\n",
              "      <td>0</td>\n",
              "      <td>7</td>\n",
              "      <td>1</td>\n",
              "    </tr>\n",
              "    <tr>\n",
              "      <th>4</th>\n",
              "      <td>65.0</td>\n",
              "      <td>1</td>\n",
              "      <td>160</td>\n",
              "      <td>1</td>\n",
              "      <td>20</td>\n",
              "      <td>0</td>\n",
              "      <td>327000.00</td>\n",
              "      <td>2.7</td>\n",
              "      <td>116</td>\n",
              "      <td>0</td>\n",
              "      <td>0</td>\n",
              "      <td>8</td>\n",
              "      <td>1</td>\n",
              "    </tr>\n",
              "  </tbody>\n",
              "</table>\n",
              "</div>"
            ],
            "text/plain": [
              "    age  anaemia  creatinine_phosphokinase  ...  smoking  time  DEATH_EVENT\n",
              "0  75.0        0                       582  ...        0     4            1\n",
              "1  55.0        0                      7861  ...        0     6            1\n",
              "2  65.0        0                       146  ...        1     7            1\n",
              "3  50.0        1                       111  ...        0     7            1\n",
              "4  65.0        1                       160  ...        0     8            1\n",
              "\n",
              "[5 rows x 13 columns]"
            ]
          },
          "metadata": {},
          "execution_count": 5
        }
      ]
    },
    {
      "cell_type": "code",
      "source": [
        "df1.info()"
      ],
      "metadata": {
        "colab": {
          "base_uri": "https://localhost:8080/"
        },
        "id": "fu-t0OT0xHCN",
        "outputId": "2c121b45-4b41-432e-f4e4-398919175454"
      },
      "execution_count": 6,
      "outputs": [
        {
          "output_type": "stream",
          "name": "stdout",
          "text": [
            "<class 'pandas.core.frame.DataFrame'>\n",
            "Int64Index: 299 entries, 0 to 298\n",
            "Data columns (total 13 columns):\n",
            " #   Column                    Non-Null Count  Dtype  \n",
            "---  ------                    --------------  -----  \n",
            " 0   age                       299 non-null    float64\n",
            " 1   anaemia                   299 non-null    int64  \n",
            " 2   creatinine_phosphokinase  299 non-null    int64  \n",
            " 3   diabetes                  299 non-null    int64  \n",
            " 4   ejection_fraction         299 non-null    int64  \n",
            " 5   high_blood_pressure       299 non-null    int64  \n",
            " 6   platelets                 299 non-null    float64\n",
            " 7   serum_creatinine          299 non-null    float64\n",
            " 8   serum_sodium              299 non-null    int64  \n",
            " 9   sex                       299 non-null    int64  \n",
            " 10  smoking                   299 non-null    int64  \n",
            " 11  time                      299 non-null    int64  \n",
            " 12  DEATH_EVENT               299 non-null    int64  \n",
            "dtypes: float64(3), int64(10)\n",
            "memory usage: 32.7 KB\n"
          ]
        }
      ]
    },
    {
      "cell_type": "code",
      "execution_count": null,
      "metadata": {
        "id": "DLRxp10PHH6K"
      },
      "outputs": [],
      "source": [
        "y = df1['DEATH_EVENT']\n",
        "df1 = df1.drop(columns='DEATH_EVENT')"
      ]
    },
    {
      "cell_type": "code",
      "execution_count": null,
      "metadata": {
        "id": "6micWJbmHSJJ"
      },
      "outputs": [],
      "source": [
        "X = df1"
      ]
    },
    {
      "cell_type": "code",
      "execution_count": null,
      "metadata": {
        "id": "uxpsIZC1OEW2"
      },
      "outputs": [],
      "source": [
        "X_train, X_test, y_train, y_test = train_test_split(X, y, test_size=0.2, random_state=42)"
      ]
    },
    {
      "cell_type": "code",
      "source": [
        "clf = RandomForestClassifier()"
      ],
      "metadata": {
        "id": "55wP_QtqekKt"
      },
      "execution_count": null,
      "outputs": []
    },
    {
      "cell_type": "code",
      "source": [
        "clf.fit(X_train, y_train)"
      ],
      "metadata": {
        "colab": {
          "base_uri": "https://localhost:8080/"
        },
        "id": "c35fkY7w5lYV",
        "outputId": "355bb832-79cd-4c03-d3b6-7be76ae509a0"
      },
      "execution_count": null,
      "outputs": [
        {
          "output_type": "execute_result",
          "data": {
            "text/plain": [
              "RandomForestClassifier()"
            ]
          },
          "metadata": {},
          "execution_count": 14
        }
      ]
    },
    {
      "cell_type": "code",
      "source": [
        "y_pred = clf.predict(X_test)"
      ],
      "metadata": {
        "id": "cUdB1YZS5qgt"
      },
      "execution_count": null,
      "outputs": []
    },
    {
      "cell_type": "code",
      "source": [
        "accuracy_score(y_test,y_pred)"
      ],
      "metadata": {
        "colab": {
          "base_uri": "https://localhost:8080/"
        },
        "id": "7vxoMNg952Cv",
        "outputId": "a29bd4f3-1f91-48bd-d190-221e2b336203"
      },
      "execution_count": null,
      "outputs": [
        {
          "output_type": "execute_result",
          "data": {
            "text/plain": [
              "0.8"
            ]
          },
          "metadata": {},
          "execution_count": 16
        }
      ]
    },
    {
      "cell_type": "markdown",
      "source": [
        "### Compare SVM"
      ],
      "metadata": {
        "id": "88D9vb6MdyTP"
      }
    },
    {
      "cell_type": "code",
      "source": [
        "svm =  make_pipeline(StandardScaler(), SVC())"
      ],
      "metadata": {
        "id": "eetMZMbWd0JU"
      },
      "execution_count": null,
      "outputs": []
    },
    {
      "cell_type": "code",
      "source": [
        "svm.fit(X_train, y_train)"
      ],
      "metadata": {
        "colab": {
          "base_uri": "https://localhost:8080/"
        },
        "id": "eUtF334FeAw_",
        "outputId": "fbed3b77-13e3-46c9-bae9-952eefed022d"
      },
      "execution_count": null,
      "outputs": [
        {
          "output_type": "execute_result",
          "data": {
            "text/plain": [
              "Pipeline(steps=[('standardscaler', StandardScaler()), ('svc', SVC())])"
            ]
          },
          "metadata": {},
          "execution_count": 79
        }
      ]
    },
    {
      "cell_type": "code",
      "source": [
        "y_pred = svm.predict(X_test)"
      ],
      "metadata": {
        "id": "H0C4mZddeEkl"
      },
      "execution_count": null,
      "outputs": []
    },
    {
      "cell_type": "code",
      "source": [
        "accuracy_score(y_test,y_pred)"
      ],
      "metadata": {
        "colab": {
          "base_uri": "https://localhost:8080/"
        },
        "id": "A6x3-7dzeJrd",
        "outputId": "b0f72711-5e7f-4071-b46c-b1f0f3a7be24"
      },
      "execution_count": null,
      "outputs": [
        {
          "output_type": "execute_result",
          "data": {
            "text/plain": [
              "0.75"
            ]
          },
          "metadata": {},
          "execution_count": 81
        }
      ]
    },
    {
      "cell_type": "markdown",
      "source": [
        "### Grid Search"
      ],
      "metadata": {
        "id": "ZDgaZN1Q9BJ8"
      }
    },
    {
      "cell_type": "code",
      "source": [
        "# Tạo các mảng các giá trị của siêu tham số\n",
        "max_features_range = np.arange(1,6,1)\n",
        "n_estimators_range = np.arange(10,300,10)\n",
        "max_leaf_nodes_range = np.arange(2,35,1)"
      ],
      "metadata": {
        "id": "4hKBUUw49SFs"
      },
      "execution_count": null,
      "outputs": []
    },
    {
      "cell_type": "code",
      "source": [
        "# Tạo một lưới các tham số\n",
        "param_grid = dict(max_features=max_features_range, \n",
        "                  n_estimators=n_estimators_range,\n",
        "                  max_leaf_nodes=max_leaf_nodes_range)"
      ],
      "metadata": {
        "id": "EyllDSM69xtM"
      },
      "execution_count": null,
      "outputs": []
    },
    {
      "cell_type": "code",
      "source": [
        "# Khởi tạo mô hình cần tối ưu hóa các siêu tham số\n",
        "rf = RandomForestClassifier()"
      ],
      "metadata": {
        "id": "NPrkVp4b-Z-c"
      },
      "execution_count": null,
      "outputs": []
    },
    {
      "cell_type": "code",
      "source": [
        "# Sử dụng hàm GridSearch của thư viện sklearn để điểu chỉnh siêu tham số\n",
        "grid = GridSearchCV(estimator=rf, param_grid=param_grid, scoring='roc_auc', cv=5)"
      ],
      "metadata": {
        "id": "omDHoEPh-bc8"
      },
      "execution_count": null,
      "outputs": []
    },
    {
      "cell_type": "code",
      "source": [
        "# Tiến hành đào tạo\n",
        "grid.fit(X_train, y_train)"
      ],
      "metadata": {
        "id": "ddGADAp_cO9F",
        "colab": {
          "base_uri": "https://localhost:8080/"
        },
        "outputId": "e3d3fe16-a851-4ea1-bc5b-f33e5fb389fd"
      },
      "execution_count": null,
      "outputs": [
        {
          "output_type": "execute_result",
          "data": {
            "text/plain": [
              "GridSearchCV(cv=5, estimator=RandomForestClassifier(),\n",
              "             param_grid={'max_features': array([1, 2, 3, 4, 5]),\n",
              "                         'max_leaf_nodes': array([ 2,  3,  4,  5,  6,  7,  8,  9, 10, 11, 12, 13, 14, 15, 16, 17, 18,\n",
              "       19, 20, 21, 22, 23, 24, 25, 26, 27, 28, 29, 30, 31, 32, 33, 34]),\n",
              "                         'n_estimators': array([ 10,  20,  30,  40,  50,  60,  70,  80,  90, 100, 110, 120, 130,\n",
              "       140, 150, 160, 170, 180, 190, 200, 210, 220, 230, 240, 250, 260,\n",
              "       270, 280, 290])},\n",
              "             scoring='roc_auc')"
            ]
          },
          "metadata": {},
          "execution_count": 12
        }
      ]
    },
    {
      "cell_type": "code",
      "source": [
        "import json"
      ],
      "metadata": {
        "id": "fy1_kZyxsCB2"
      },
      "execution_count": null,
      "outputs": []
    },
    {
      "cell_type": "code",
      "source": [
        "grid.cv_results"
      ],
      "metadata": {
        "id": "5NuTJxA2sNNE"
      },
      "execution_count": null,
      "outputs": []
    },
    {
      "cell_type": "code",
      "source": [
        "with open('grid_heart.json', 'w') as fp:\n",
        "    json.dump(grid.cv_results_, fp)"
      ],
      "metadata": {
        "id": "yK3RWWqrLigh"
      },
      "execution_count": null,
      "outputs": []
    },
    {
      "cell_type": "code",
      "source": [
        "from google.colab import files\n",
        "files.download('grid_heart.json') "
      ],
      "metadata": {
        "id": "UHaFCA-uMIHU"
      },
      "execution_count": null,
      "outputs": []
    },
    {
      "cell_type": "code",
      "source": [
        "# In ra kết quả\n",
        "print(\"The best parameters are %s with a score of %0.2f\"\n",
        "      % (grid.best_params_, grid.best_score_))"
      ],
      "metadata": {
        "id": "wCNZgRj7cREe"
      },
      "execution_count": null,
      "outputs": []
    },
    {
      "cell_type": "markdown",
      "source": [
        "### GA Search"
      ],
      "metadata": {
        "id": "EuZw4y0F9HkD"
      }
    },
    {
      "cell_type": "code",
      "execution_count": null,
      "metadata": {
        "id": "YOXC88RiOoam"
      },
      "outputs": [],
      "source": [
        "param_grid = {'min_weight_fraction_leaf': Continuous(0.01, 0.5, distribution='log-uniform'),\n",
        "              #'bootstrap': Categorical([True, False]),\n",
        "              'max_depth': Integer(2, 30), \n",
        "              #'criterion': Categorical(['gini', 'entropy']),\n",
        "              #'max_features': Categorical(['auto', 'sqrt', 'log2']),\n",
        "              'max_leaf_nodes': Integer(2, 35), \n",
        "              'n_estimators': Integer(10, 300)}"
      ]
    },
    {
      "cell_type": "code",
      "execution_count": null,
      "metadata": {
        "id": "EMiNNZgU4lbS"
      },
      "outputs": [],
      "source": [
        "clf = RandomForestClassifier()"
      ]
    },
    {
      "cell_type": "code",
      "execution_count": null,
      "metadata": {
        "id": "VNT4xSOhPnPm"
      },
      "outputs": [],
      "source": [
        "cv = StratifiedKFold(n_splits=3, shuffle=True)"
      ]
    },
    {
      "cell_type": "code",
      "execution_count": null,
      "metadata": {
        "id": "xzhDddu3P8D6"
      },
      "outputs": [],
      "source": [
        "evolved_estimator = GASearchCV(estimator=clf,\n",
        "                               cv=cv,\n",
        "                               scoring='accuracy',\n",
        "                               population_size=10,\n",
        "                               generations=25,\n",
        "                               tournament_size=3,\n",
        "                               elitism=True,\n",
        "                               crossover_probability=0.8,\n",
        "                               mutation_probability=0.1,\n",
        "                               param_grid=param_grid,\n",
        "                               criteria='max',\n",
        "                               algorithm='eaMuPlusLambda',\n",
        "                               n_jobs=-1,\n",
        "                               verbose=True,\n",
        "                               keep_top_k=4)"
      ]
    },
    {
      "cell_type": "code",
      "execution_count": null,
      "metadata": {
        "colab": {
          "base_uri": "https://localhost:8080/"
        },
        "id": "gri_2iLBQYfA",
        "outputId": "f9ea0bbe-8acf-4bdd-e226-38ef32db9cc3"
      },
      "outputs": [
        {
          "name": "stdout",
          "output_type": "stream",
          "text": [
            "gen\tnevals\tfitness \tfitness_std\tfitness_max\tfitness_min\n",
            "0  \t10    \t0.830976\t0.0569577  \t0.891086   \t0.702954   \n",
            "1  \t19    \t0.882336\t0.00897978 \t0.891086   \t0.862025   \n",
            "2  \t16    \t0.888228\t0.00594448 \t0.895517   \t0.878639   \n",
            "3  \t19    \t0.890369\t0.00315136 \t0.895517   \t0.886814   \n",
            "4  \t18    \t0.887004\t0.00672948 \t0.895517   \t0.874367   \n",
            "5  \t18    \t0.889061\t0.00332355 \t0.891139   \t0.882859   \n",
            "6  \t18    \t0.88866 \t0.00327718 \t0.891139   \t0.882859   \n",
            "7  \t16    \t0.890285\t0.00169579 \t0.891139   \t0.886867   \n",
            "8  \t18    \t0.890332\t0.00252714 \t0.891297   \t0.882753   \n",
            "9  \t18    \t0.889109\t0.00286623 \t0.891297   \t0.8827     \n",
            "10 \t19    \t0.889119\t0.00339926 \t0.891297   \t0.8827     \n",
            "11 \t19    \t0.890037\t0.00270467 \t0.891403   \t0.882911   \n",
            "12 \t19    \t0.889225\t0.00433158 \t0.891403   \t0.878639   \n",
            "13 \t18    \t0.89009 \t0.0037295  \t0.891403   \t0.878903   \n",
            "14 \t19    \t0.892184\t0.00161444 \t0.895411   \t0.891297   \n",
            "15 \t20    \t0.887616\t0.00760057 \t0.891403   \t0.870517   \n",
            "16 \t19    \t0.888022\t0.00701078 \t0.891403   \t0.8702     \n",
            "17 \t16    \t0.890949\t0.00136076 \t0.891403   \t0.886867   \n",
            "18 \t17    \t0.888834\t0.00387298 \t0.891403   \t0.878797   \n",
            "19 \t17    \t0.886656\t0.00640057 \t0.891403   \t0.874473   \n",
            "20 \t16    \t0.891714\t0.00299432 \t0.895464   \t0.886867   \n",
            "21 \t20    \t0.890396\t0.00489953 \t0.895464   \t0.878639   \n",
            "22 \t16    \t0.889172\t0.00432323 \t0.895464   \t0.878745   \n",
            "23 \t17    \t0.884151\t0.00771173 \t0.891403   \t0.870306   \n",
            "24 \t19    \t0.888797\t0.00283009 \t0.891403   \t0.88307    \n",
            "25 \t20    \t0.889958\t0.00494005 \t0.895253   \t0.878692   \n"
          ]
        },
        {
          "data": {
            "text/plain": [
              "GASearchCV(cv=StratifiedKFold(n_splits=3, random_state=None, shuffle=True),\n",
              "           estimator=RandomForestClassifier(max_depth=19, max_leaf_nodes=26,\n",
              "                                            min_weight_fraction_leaf=0.03491406999734386,\n",
              "                                            n_estimators=253),\n",
              "           generations=25, keep_top_k=4, n_jobs=-1,\n",
              "           param_grid={'bootstrap': <sklearn_genetic.space.space.Categorical object at 0x7fb02b516ad0>,\n",
              "                       'criterion': <sklearn_gen...\n",
              "                       'max_features': <sklearn_genetic.space.space.Categorical object at 0x7fb02b516b90>,\n",
              "                       'max_leaf_nodes': <sklearn_genetic.space.space.Integer object at 0x7fb02b516bd0>,\n",
              "                       'min_weight_fraction_leaf': <sklearn_genetic.space.space.Continuous object at 0x7fb02b516a10>,\n",
              "                       'n_estimators': <sklearn_genetic.space.space.Integer object at 0x7fb02b516c10>},\n",
              "           return_train_score=True, scoring='accuracy')"
            ]
          },
          "execution_count": 13,
          "metadata": {},
          "output_type": "execute_result"
        }
      ],
      "source": [
        "evolved_estimator.fit(X_train,y_train.to_numpy())"
      ]
    },
    {
      "cell_type": "code",
      "execution_count": null,
      "metadata": {
        "id": "sFcub60yVa3f"
      },
      "outputs": [],
      "source": [
        "y_predicy_ga = evolved_estimator.predict(X_test)"
      ]
    },
    {
      "cell_type": "code",
      "execution_count": null,
      "metadata": {
        "colab": {
          "base_uri": "https://localhost:8080/"
        },
        "id": "fgp5eEkDWrto",
        "outputId": "e47688f6-6282-4724-fdce-6dca75952310"
      },
      "outputs": [
        {
          "data": {
            "text/plain": [
              "0.75"
            ]
          },
          "execution_count": 15,
          "metadata": {},
          "output_type": "execute_result"
        }
      ],
      "source": [
        "accuracy_score(y_test,y_predicy_ga)"
      ]
    },
    {
      "cell_type": "code",
      "execution_count": null,
      "metadata": {
        "colab": {
          "base_uri": "https://localhost:8080/",
          "height": 627
        },
        "id": "Ipq86Vvq5zMy",
        "outputId": "699960d6-46a3-4a4e-9e04-91fdbb99b812"
      },
      "outputs": [
        {
          "data": {
            "image/png": "[encoded data removed]",
            "text/plain": [
              "<Figure size 720x720 with 1 Axes>"
            ]
          },
          "metadata": {},
          "output_type": "display_data"
        }
      ],
      "source": [
        "plot_fitness_evolution(evolved_estimator)\n",
        "plt.show()"
      ]
    },
    {
      "cell_type": "code",
      "execution_count": null,
      "metadata": {
        "colab": {
          "base_uri": "https://localhost:8080/"
        },
        "id": "uzy2DCIL6Jwq",
        "outputId": "affe8125-3c87-4898-c10b-a1abc481f65d"
      },
      "outputs": [
        {
          "data": {
            "text/plain": [
              "RandomForestClassifier(max_depth=19, max_leaf_nodes=26,\n",
              "                       min_weight_fraction_leaf=0.03491406999734386,\n",
              "                       n_estimators=253)"
            ]
          },
          "execution_count": 17,
          "metadata": {},
          "output_type": "execute_result"
        }
      ],
      "source": [
        "evolved_estimator.best_estimator_"
      ]
    },
    {
      "cell_type": "code",
      "execution_count": null,
      "metadata": {
        "colab": {
          "base_uri": "https://localhost:8080/"
        },
        "id": "2LKPTd9r6Paa",
        "outputId": "ceeeee54-a092-4ae0-a6ba-d31c2198fb95"
      },
      "outputs": [
        {
          "data": {
            "text/plain": [
              "{'bootstrap': True,\n",
              " 'criterion': 'gini',\n",
              " 'max_depth': 19,\n",
              " 'max_features': 'auto',\n",
              " 'max_leaf_nodes': 26,\n",
              " 'min_weight_fraction_leaf': 0.03491406999734386,\n",
              " 'n_estimators': 253}"
            ]
          },
          "execution_count": 18,
          "metadata": {},
          "output_type": "execute_result"
        }
      ],
      "source": [
        "evolved_estimator.best_params_"
      ]
    },
    {
      "cell_type": "code",
      "execution_count": null,
      "metadata": {
        "colab": {
          "base_uri": "https://localhost:8080/"
        },
        "id": "_rvR-cQ86nhy",
        "outputId": "60501383-219a-411b-9679-50c97533dbe8"
      },
      "outputs": [
        {
          "name": "stdout",
          "output_type": "stream",
          "text": [
            "Best k solutions:\n"
          ]
        },
        {
          "data": {
            "text/plain": [
              "{0: {'bootstrap': True,\n",
              "  'criterion': 'gini',\n",
              "  'max_depth': 19,\n",
              "  'max_features': 'auto',\n",
              "  'max_leaf_nodes': 26,\n",
              "  'min_weight_fraction_leaf': 0.03491406999734386,\n",
              "  'n_estimators': 253},\n",
              " 1: {'bootstrap': False,\n",
              "  'criterion': 'gini',\n",
              "  'max_depth': 7,\n",
              "  'max_features': 'auto',\n",
              "  'max_leaf_nodes': 7,\n",
              "  'min_weight_fraction_leaf': 0.05422729611001322,\n",
              "  'n_estimators': 276},\n",
              " 2: {'bootstrap': True,\n",
              "  'criterion': 'gini',\n",
              "  'max_depth': 19,\n",
              "  'max_features': 'auto',\n",
              "  'max_leaf_nodes': 7,\n",
              "  'min_weight_fraction_leaf': 0.05422729611001322,\n",
              "  'n_estimators': 276},\n",
              " 3: {'bootstrap': True,\n",
              "  'criterion': 'gini',\n",
              "  'max_depth': 19,\n",
              "  'max_features': 'auto',\n",
              "  'max_leaf_nodes': 26,\n",
              "  'min_weight_fraction_leaf': 0.03491406999734386,\n",
              "  'n_estimators': 276}}"
            ]
          },
          "execution_count": 19,
          "metadata": {},
          "output_type": "execute_result"
        }
      ],
      "source": [
        "print(\"Best k solutions:\")\n",
        "evolved_estimator.hof"
      ]
    },
    {
      "cell_type": "markdown",
      "metadata": {
        "id": "NicJULyHFQgU"
      },
      "source": [
        "### Tuning Using Evolutionary Algorithms"
      ]
    },
    {
      "cell_type": "code",
      "execution_count": null,
      "metadata": {
        "id": "bmPSYtdeFcIr"
      },
      "outputs": [],
      "source": [
        "def DE(f_,f_score, bounds, F_scale = 0.8, cross_prob = 0.7, popsize = 256, max_evaluation=10000):\n",
        "  dimensions = len(bounds)\n",
        "\n",
        "  lower_bound, upper_bound = np.asarray(bounds).T\n",
        "\n",
        "  diff = np.fabs(lower_bound - upper_bound)\n",
        "\n",
        "  pop = lower_bound + diff * np.random.rand(popsize, dimensions)\n",
        "\n",
        "  \n",
        "  fitness = np.asarray([-f_(*covert_array(ind)) for ind in pop])\n",
        "  best_idx = np.argmin(fitness)\n",
        "  count_evaluations = len(pop)\n",
        "  count_gen = 1\n",
        "  best = np.copy(pop[best_idx])\n",
        "  results = []\n",
        "  results.append((np.copy(best), -fitness[best_idx]))\n",
        "  #fobj.write(f\"{popsize},{count_gen},{-np.mean(fitness)},{0} \\n\")\n",
        "  min_weight_fraction_leaf, bootstrap,max_depth,criterion,max_features,max_leaf_nodes,n_estimators = covert_array(best)\n",
        "  fobj.write(f\"{count_gen},{count_evaluations},{min_weight_fraction_leaf},{bootstrap},{max_depth},{criterion},{max_features},{max_leaf_nodes},{n_estimators},{-fitness[best_idx]},\\n\")\n",
        "  done = True \n",
        "\n",
        "  while done:\n",
        "    count_gen += 1\n",
        "    for j in range(popsize):\n",
        "      idxs = [idx for idx in range(popsize) if idx != j]\n",
        "      a,b,c = pop[np.random.choice(idxs, 3, replace=False)]\n",
        "      mutant = np.clip(a + F_scale*(b-c), lower_bound, upper_bound)\n",
        "\n",
        "      cross_points = np.random.rand(dimensions) < cross_prob\n",
        "      if not np.any(cross_points):\n",
        "        cross_points[np.random.randint(0,dimensions)] = True\n",
        "\n",
        "      trial = np.where(cross_points, mutant, pop[j])\n",
        "      \n",
        "      f = -f_(*covert_array(trial))\n",
        "      count_evaluations += 1\n",
        "      \n",
        "      if f < fitness[j]:\n",
        "        fitness[j] = f\n",
        "        pop[j] = trial\n",
        "        if f < fitness[best_idx]:\n",
        "          best_idx = j\n",
        "          best = trial\n",
        "\n",
        "    print(count_evaluations)\n",
        "    print(-fitness[best_idx])\n",
        "    min_weight_fraction_leaf, bootstrap,max_depth,criterion,max_features,max_leaf_nodes,n_estimators = covert_array(best) \n",
        "    fobj.write(f\"{count_gen},{count_evaluations},{min_weight_fraction_leaf},{bootstrap},{max_depth},{criterion},{max_features},{max_leaf_nodes},{n_estimators},{-fitness[best_idx]},\\n\")\n",
        "    if count_evaluations + len(pop) > max_evaluation:\n",
        "      done = False\n",
        "      all_paramater = f_score(*covert_array(best))\n",
        "    results.append((np.copy(best), -fitness[best_idx])) \n",
        "\n",
        "\n",
        "  return [results,all_paramater]"
      ]
    },
    {
      "cell_type": "code",
      "execution_count": null,
      "metadata": {
        "id": "7Bd9-8taF86h"
      },
      "outputs": [],
      "source": [
        "def covert_array(array_):\n",
        "  list_index_element_to_round=[1,2,3,4,5,6]\n",
        "  list_index_element_to_string=[1,3,4]\n",
        "  array_ = list(array_)\n",
        "  #print(array_)\n",
        "  for i in range(len(array_)):\n",
        "    if i in list_index_element_to_round: \n",
        "      array_[i] = round(array_[i])\n",
        "    if i in list_index_element_to_string:\n",
        "      if i == 1: \n",
        "        if array_[i] == 1: array_[i] = True\n",
        "        if array_[i] == 2: array_[i] = False\n",
        "      if i == 3: \n",
        "        if array_[i] == 1: array_[i] = 'gini'\n",
        "        if array_[i] == 2: array_[i] = 'entropy'\n",
        "      if i == 4: \n",
        "        if array_[i] == 1: array_[i] = 'auto'\n",
        "        if array_[i] == 2: array_[i] = 'sqrt'\n",
        "        if array_[i] == 3: array_[i] = 'log2'\n",
        "    \n",
        "  \n",
        "  return array_"
      ]
    },
    {
      "cell_type": "code",
      "execution_count": null,
      "metadata": {
        "id": "A8twzZ7tGFs9"
      },
      "outputs": [],
      "source": [
        "def Randomforest(min_weight_fraction_leaf_, bootstrap_,max_depth_,criterion_,max_features_,max_leaf_nodes_,n_estimators_):\n",
        "  clf = RandomForestClassifier(min_weight_fraction_leaf = min_weight_fraction_leaf_,bootstrap = bootstrap_,max_depth = max_depth_,criterion=criterion_,\\\n",
        "                               max_features=max_features_,max_leaf_nodes=max_leaf_nodes_,n_estimators=int(n_estimators_))\n",
        "  clf.fit(X_train, y_train)\n",
        "  y_pred = clf.predict(X_test)\n",
        "  return [min_weight_fraction_leaf_, bootstrap_,max_depth_,criterion_,max_features_,max_leaf_nodes_,n_estimators_,metrics.accuracy_score(y_test, y_pred),\\\n",
        "          metrics.recall_score(y_test, y_pred, average=None),precision_score (y_test, y_pred, average=None),\\\n",
        "          f1_score(y_test, y_pred, average=None),confusion_matrix(y_test, y_pred), y_pred]"
      ]
    },
    {
      "cell_type": "code",
      "execution_count": null,
      "metadata": {
        "id": "lwZc4qkFTChg"
      },
      "outputs": [],
      "source": [
        "def RandomforestWithK_fold(min_weight_fraction_leaf_, bootstrap_,max_depth_,criterion_,max_features_,max_leaf_nodes_,n_estimators_):\n",
        "  kfold = KFold(n_splits=5, shuffle=True)\n",
        "\n",
        "  fold_idx = 1\n",
        "  scores = []\n",
        "  for train_ids, val_ids in kfold.split(X_train, y_train):\n",
        "\n",
        "    clf = RandomForestClassifier(min_weight_fraction_leaf = min_weight_fraction_leaf_,bootstrap = bootstrap_,max_depth = max_depth_,criterion=criterion_,\\\n",
        "                                 max_features=max_features_,max_leaf_nodes=max_leaf_nodes_,n_estimators=int(n_estimators_))\n",
        "\n",
        "    clf.fit(X_train.iloc[train_ids], y_train.iloc[train_ids])\n",
        "    y_val_pred = clf.predict(X_train.iloc[val_ids])\n",
        "    \n",
        "    scores.append(metrics.accuracy_score(y_train.iloc[val_ids], y_val_pred))\n",
        "\n",
        "\n",
        "  fold_idx = fold_idx + 1\n",
        "  \n",
        "  sum_num = 0\n",
        "  avg = 0\n",
        "  for t in scores:\n",
        "    sum_num = sum_num + t           \n",
        "  avg = sum_num / len(scores)\n",
        "\n",
        "  \n",
        "  \n",
        "  return avg"
      ]
    },
    {
      "cell_type": "code",
      "execution_count": null,
      "metadata": {
        "colab": {
          "base_uri": "https://localhost:8080/"
        },
        "id": "f_4CWAP-7kVE",
        "outputId": "e622b79b-e91a-4155-afc6-ad11b8b684b4"
      },
      "outputs": [
        {
          "output_type": "stream",
          "name": "stdout",
          "text": [
            "Mounted at /content/drive\n"
          ]
        }
      ],
      "source": [
        "from google.colab import drive\n",
        "drive.mount('/content/drive')"
      ]
    },
    {
      "cell_type": "markdown",
      "metadata": {
        "id": "Ut2fNDmKYddy"
      },
      "source": [
        "#### optimize "
      ]
    },
    {
      "cell_type": "code",
      "execution_count": null,
      "metadata": {
        "colab": {
          "base_uri": "https://localhost:8080/"
        },
        "id": "la3PihwKGHxV",
        "outputId": "b7157d13-f6d2-4c81-8f04-05aff303e8db"
      },
      "outputs": [
        {
          "output_type": "stream",
          "name": "stdout",
          "text": [
            "512\n",
            "0.899468085106383\n",
            "768\n",
            "0.899468085106383\n",
            "1024\n",
            "0.899468085106383\n",
            "1280\n",
            "0.899645390070922\n",
            "1536\n",
            "0.899822695035461\n",
            "1792\n",
            "0.899822695035461\n",
            "2048\n",
            "0.9081560283687944\n",
            "2304\n",
            "0.9081560283687944\n",
            "2560\n",
            "0.9081560283687944\n"
          ]
        }
      ],
      "source": [
        "tic = time.perf_counter()\n",
        "fobj = open('/content/drive/MyDrive/LogForPython/heart_failure_clinical_records_dataset.txt', 'w')\n",
        "fobj.write(\"number gen,num of evaluations,min weight fraction leaf,bootstrap,max depth,criterion,max features,max leaf nodes,n estimators,fitness\\n\")\n",
        "result_and_allParamater = DE(RandomforestWithK_fold,Randomforest, bounds = [(0,0.5),(1,2),(2,30),(1,2),(1,3),(2,35),(10,300)], popsize=256, max_evaluation=2600)\n",
        "fobj.close()\n",
        "toc = time.perf_counter()"
      ]
    },
    {
      "cell_type": "code",
      "execution_count": null,
      "metadata": {
        "colab": {
          "base_uri": "https://localhost:8080/"
        },
        "id": "f55wD1HgGNVr",
        "outputId": "e8a1550d-2deb-4c52-b0f1-1bc5369d450d"
      },
      "outputs": [
        {
          "output_type": "stream",
          "name": "stdout",
          "text": [
            "(10, 2)\n",
            "[(array([4.82682724e-02, 1.46981727e+00, 1.70059307e+01, 1.43306348e+00,\n",
            "       1.26047310e+00, 2.71184233e+01, 2.44388231e+02]), 0.899468085106383), (array([4.82682724e-02, 1.46981727e+00, 1.70059307e+01, 1.43306348e+00,\n",
            "       1.26047310e+00, 2.71184233e+01, 2.44388231e+02]), 0.899468085106383), (array([4.82682724e-02, 1.46981727e+00, 1.70059307e+01, 1.43306348e+00,\n",
            "       1.26047310e+00, 2.71184233e+01, 2.44388231e+02]), 0.899468085106383), (array([4.82682724e-02, 1.46981727e+00, 1.70059307e+01, 1.43306348e+00,\n",
            "       1.26047310e+00, 2.71184233e+01, 2.44388231e+02]), 0.899468085106383), (array([3.75510568e-02, 1.65219757e+00, 2.19477982e+01, 1.00000000e+00,\n",
            "       2.10622462e+00, 3.45936563e+01, 1.74837016e+02]), 0.899645390070922), (array([  0.        ,   1.48786519,  23.49572961,   2.        ,\n",
            "         1.        ,  35.        , 300.        ]), 0.899822695035461), (array([  0.        ,   1.48786519,  23.49572961,   2.        ,\n",
            "         1.        ,  35.        , 300.        ]), 0.899822695035461), (array([1.21126330e-02, 1.42466190e+00, 1.68602541e+01, 2.00000000e+00,\n",
            "       1.00000000e+00, 3.10947046e+01, 2.23091448e+02]), 0.9081560283687944), (array([1.21126330e-02, 1.42466190e+00, 1.68602541e+01, 2.00000000e+00,\n",
            "       1.00000000e+00, 3.10947046e+01, 2.23091448e+02]), 0.9081560283687944), (array([1.21126330e-02, 1.42466190e+00, 1.68602541e+01, 2.00000000e+00,\n",
            "       1.00000000e+00, 3.10947046e+01, 2.23091448e+02]), 0.9081560283687944)]\n",
            "0.899468085106383\n",
            "0.899468085106383\n",
            "0.899468085106383\n",
            "0.899468085106383\n",
            "0.899645390070922\n",
            "0.899822695035461\n",
            "0.899822695035461\n",
            "0.9081560283687944\n",
            "0.9081560283687944\n",
            "0.9081560283687944\n"
          ]
        },
        {
          "output_type": "stream",
          "name": "stderr",
          "text": [
            "/usr/local/lib/python3.7/dist-packages/numpy/core/_asarray.py:83: VisibleDeprecationWarning: Creating an ndarray from ragged nested sequences (which is a list-or-tuple of lists-or-tuples-or ndarrays with different lengths or shapes) is deprecated. If you meant to do this, you must specify 'dtype=object' when creating the ndarray\n",
            "  return array(a, dtype, copy=False, order=order)\n"
          ]
        }
      ],
      "source": [
        "result = result_and_allParamater[0]\n",
        "print(np.asarray(result).shape)\n",
        "print(result)\n",
        "for res in result:\n",
        "  print(res[-1])"
      ]
    },
    {
      "cell_type": "code",
      "execution_count": null,
      "metadata": {
        "colab": {
          "base_uri": "https://localhost:8080/"
        },
        "id": "3QxctXFhGSVo",
        "outputId": "747fb1f9-95aa-4670-bdc7-3b1e6967d5ba"
      },
      "outputs": [
        {
          "output_type": "execute_result",
          "data": {
            "text/plain": [
              "[0.012112633026162833,\n",
              " True,\n",
              " 17,\n",
              " 'entropy',\n",
              " 'auto',\n",
              " 31,\n",
              " 223,\n",
              " 0.7333333333333333,\n",
              " array([0.94285714, 0.44      ]),\n",
              " array([0.70212766, 0.84615385]),\n",
              " array([0.80487805, 0.57894737]),\n",
              " array([[33,  2],\n",
              "        [14, 11]]),\n",
              " array([0, 0, 0, 1, 0, 0, 0, 0, 1, 0, 0, 0, 0, 0, 1, 1, 0, 0, 0, 0, 0, 0,\n",
              "        0, 1, 1, 0, 0, 0, 0, 0, 1, 0, 1, 1, 1, 1, 0, 0, 0, 0, 0, 0, 0, 0,\n",
              "        0, 0, 0, 0, 0, 0, 0, 0, 0, 0, 0, 0, 0, 1, 0, 1])]"
            ]
          },
          "metadata": {},
          "execution_count": 30
        }
      ],
      "source": [
        "all_paramater = result_and_allParamater[1]\n",
        "all_paramater\n",
        "#[min_weight_fraction_leaf, bootstrap,max_depth,criterion,max_features,max_leaf_nodes,n_estimators,accuracy_score,recall_score,precision_score,f1_score,confusion_matrix]"
      ]
    },
    {
      "cell_type": "code",
      "execution_count": null,
      "metadata": {
        "colab": {
          "base_uri": "https://localhost:8080/"
        },
        "id": "88I2gvzGuwyu",
        "outputId": "71055c39-9b36-44fa-d4e1-f00a9b8f43d5"
      },
      "outputs": [
        {
          "output_type": "stream",
          "name": "stdout",
          "text": [
            "Accuracy: 0.7333333333333333\n"
          ]
        }
      ],
      "source": [
        "print(f\"Accuracy: {all_paramater[7]}\")"
      ]
    },
    {
      "cell_type": "code",
      "execution_count": null,
      "metadata": {
        "colab": {
          "base_uri": "https://localhost:8080/"
        },
        "id": "6fes6aUZGTo6",
        "outputId": "55d0641f-983b-487a-d7da-a5a1ac5f9710"
      },
      "outputs": [
        {
          "output_type": "stream",
          "name": "stdout",
          "text": [
            "second:3165.4884744129995-minute:52.75814124021666\n"
          ]
        }
      ],
      "source": [
        "time_run = toc-tic\n",
        "print(f\"second:{time_run}-minute:{time_run/60}\")"
      ]
    },
    {
      "cell_type": "markdown",
      "source": [
        "## Compare Decision tree"
      ],
      "metadata": {
        "id": "uxHU6aw0yB-M"
      }
    },
    {
      "cell_type": "code",
      "source": [
        "tic = time.perf_counter()\n",
        "print(Randomforest(0.012112633026162833,\n",
        " True,\n",
        " 17,\n",
        " 'entropy',\n",
        " 'auto',\n",
        " 31,\n",
        " 223)[7])\n",
        "toc = time.perf_counter()\n",
        "print(toc-tic)"
      ],
      "metadata": {
        "colab": {
          "base_uri": "https://localhost:8080/"
        },
        "id": "-lGyBHiZzsH0",
        "outputId": "52f2e47a-9332-4392-feb9-0deb9beff38f"
      },
      "execution_count": null,
      "outputs": [
        {
          "output_type": "stream",
          "name": "stdout",
          "text": [
            "0.7333333333333333\n",
            "0.3863098199999513\n"
          ]
        }
      ]
    },
    {
      "cell_type": "code",
      "source": [
        "\n",
        "from sklearn.tree import DecisionTreeClassifier\n",
        "tic = time.perf_counter()\n",
        "clf = DecisionTreeClassifier()\n",
        "clf.fit(X_train, y_train)\n",
        "y_pred = clf.predict(X_test)\n",
        "toc = time.perf_counter()\n",
        "print(metrics.accuracy_score(y_test, y_pred))\n",
        "print(toc-tic)"
      ],
      "metadata": {
        "colab": {
          "base_uri": "https://localhost:8080/"
        },
        "id": "96k_Zkj9yFML",
        "outputId": "49bf3ff9-dfd0-432a-de87-63cdbe43ff36"
      },
      "execution_count": null,
      "outputs": [
        {
          "output_type": "stream",
          "name": "stdout",
          "text": [
            "0.6333333333333333\n",
            "0.008426526999755879\n"
          ]
        }
      ]
    },
    {
      "cell_type": "markdown",
      "metadata": {
        "id": "nE-ndljV7F1k"
      },
      "source": [
        "# pokemon.csv"
      ]
    },
    {
      "cell_type": "code",
      "execution_count": 8,
      "metadata": {
        "id": "StMeF9697Rsz"
      },
      "outputs": [],
      "source": [
        "df2 = pd.read_csv(file_paths[4])\n",
        "df2 = df2.dropna()"
      ]
    },
    {
      "cell_type": "code",
      "source": [
        "df2.head(5)"
      ],
      "metadata": {
        "colab": {
          "base_uri": "https://localhost:8080/",
          "height": 223
        },
        "id": "bkltACc5xRhU",
        "outputId": "d8ab4f37-b5d9-4435-c27c-9a75dfeb5328"
      },
      "execution_count": 9,
      "outputs": [
        {
          "output_type": "execute_result",
          "data": {
            "text/html": [
              "<div>\n",
              "<style scoped>\n",
              "    .dataframe tbody tr th:only-of-type {\n",
              "        vertical-align: middle;\n",
              "    }\n",
              "\n",
              "    .dataframe tbody tr th {\n",
              "        vertical-align: top;\n",
              "    }\n",
              "\n",
              "    .dataframe thead th {\n",
              "        text-align: right;\n",
              "    }\n",
              "</style>\n",
              "<table border=\"1\" class=\"dataframe\">\n",
              "  <thead>\n",
              "    <tr style=\"text-align: right;\">\n",
              "      <th></th>\n",
              "      <th>fixed acidity</th>\n",
              "      <th>volatile acidity</th>\n",
              "      <th>citric acid</th>\n",
              "      <th>residual sugar</th>\n",
              "      <th>chlorides</th>\n",
              "      <th>free sulfur dioxide</th>\n",
              "      <th>total sulfur dioxide</th>\n",
              "      <th>density</th>\n",
              "      <th>pH</th>\n",
              "      <th>sulphates</th>\n",
              "      <th>alcohol</th>\n",
              "      <th>quality</th>\n",
              "    </tr>\n",
              "  </thead>\n",
              "  <tbody>\n",
              "    <tr>\n",
              "      <th>0</th>\n",
              "      <td>7.4</td>\n",
              "      <td>0.70</td>\n",
              "      <td>0.00</td>\n",
              "      <td>1.9</td>\n",
              "      <td>0.076</td>\n",
              "      <td>11.0</td>\n",
              "      <td>34.0</td>\n",
              "      <td>0.9978</td>\n",
              "      <td>3.51</td>\n",
              "      <td>0.56</td>\n",
              "      <td>9.4</td>\n",
              "      <td>5</td>\n",
              "    </tr>\n",
              "    <tr>\n",
              "      <th>1</th>\n",
              "      <td>7.8</td>\n",
              "      <td>0.88</td>\n",
              "      <td>0.00</td>\n",
              "      <td>2.6</td>\n",
              "      <td>0.098</td>\n",
              "      <td>25.0</td>\n",
              "      <td>67.0</td>\n",
              "      <td>0.9968</td>\n",
              "      <td>3.20</td>\n",
              "      <td>0.68</td>\n",
              "      <td>9.8</td>\n",
              "      <td>5</td>\n",
              "    </tr>\n",
              "    <tr>\n",
              "      <th>2</th>\n",
              "      <td>7.8</td>\n",
              "      <td>0.76</td>\n",
              "      <td>0.04</td>\n",
              "      <td>2.3</td>\n",
              "      <td>0.092</td>\n",
              "      <td>15.0</td>\n",
              "      <td>54.0</td>\n",
              "      <td>0.9970</td>\n",
              "      <td>3.26</td>\n",
              "      <td>0.65</td>\n",
              "      <td>9.8</td>\n",
              "      <td>5</td>\n",
              "    </tr>\n",
              "    <tr>\n",
              "      <th>3</th>\n",
              "      <td>11.2</td>\n",
              "      <td>0.28</td>\n",
              "      <td>0.56</td>\n",
              "      <td>1.9</td>\n",
              "      <td>0.075</td>\n",
              "      <td>17.0</td>\n",
              "      <td>60.0</td>\n",
              "      <td>0.9980</td>\n",
              "      <td>3.16</td>\n",
              "      <td>0.58</td>\n",
              "      <td>9.8</td>\n",
              "      <td>6</td>\n",
              "    </tr>\n",
              "    <tr>\n",
              "      <th>4</th>\n",
              "      <td>7.4</td>\n",
              "      <td>0.70</td>\n",
              "      <td>0.00</td>\n",
              "      <td>1.9</td>\n",
              "      <td>0.076</td>\n",
              "      <td>11.0</td>\n",
              "      <td>34.0</td>\n",
              "      <td>0.9978</td>\n",
              "      <td>3.51</td>\n",
              "      <td>0.56</td>\n",
              "      <td>9.4</td>\n",
              "      <td>5</td>\n",
              "    </tr>\n",
              "  </tbody>\n",
              "</table>\n",
              "</div>"
            ],
            "text/plain": [
              "   fixed acidity  volatile acidity  citric acid  ...  sulphates  alcohol  quality\n",
              "0            7.4              0.70         0.00  ...       0.56      9.4        5\n",
              "1            7.8              0.88         0.00  ...       0.68      9.8        5\n",
              "2            7.8              0.76         0.04  ...       0.65      9.8        5\n",
              "3           11.2              0.28         0.56  ...       0.58      9.8        6\n",
              "4            7.4              0.70         0.00  ...       0.56      9.4        5\n",
              "\n",
              "[5 rows x 12 columns]"
            ]
          },
          "metadata": {},
          "execution_count": 9
        }
      ]
    },
    {
      "cell_type": "code",
      "source": [
        "df2.info()"
      ],
      "metadata": {
        "colab": {
          "base_uri": "https://localhost:8080/"
        },
        "id": "k5_PoBJhxTUa",
        "outputId": "6dddcf9d-e6bf-4f7b-c990-59158419113d"
      },
      "execution_count": 10,
      "outputs": [
        {
          "output_type": "stream",
          "name": "stdout",
          "text": [
            "<class 'pandas.core.frame.DataFrame'>\n",
            "Int64Index: 1599 entries, 0 to 1598\n",
            "Data columns (total 12 columns):\n",
            " #   Column                Non-Null Count  Dtype  \n",
            "---  ------                --------------  -----  \n",
            " 0   fixed acidity         1599 non-null   float64\n",
            " 1   volatile acidity      1599 non-null   float64\n",
            " 2   citric acid           1599 non-null   float64\n",
            " 3   residual sugar        1599 non-null   float64\n",
            " 4   chlorides             1599 non-null   float64\n",
            " 5   free sulfur dioxide   1599 non-null   float64\n",
            " 6   total sulfur dioxide  1599 non-null   float64\n",
            " 7   density               1599 non-null   float64\n",
            " 8   pH                    1599 non-null   float64\n",
            " 9   sulphates             1599 non-null   float64\n",
            " 10  alcohol               1599 non-null   float64\n",
            " 11  quality               1599 non-null   int64  \n",
            "dtypes: float64(11), int64(1)\n",
            "memory usage: 162.4 KB\n"
          ]
        }
      ]
    },
    {
      "cell_type": "code",
      "execution_count": null,
      "metadata": {
        "id": "hmWbqSTc99M6"
      },
      "outputs": [],
      "source": [
        "y = df2['quality']\n",
        "df2 = df2.drop(columns='quality')"
      ]
    },
    {
      "cell_type": "code",
      "execution_count": null,
      "metadata": {
        "id": "yvfqyF7f-F7y"
      },
      "outputs": [],
      "source": [
        "X = df2"
      ]
    },
    {
      "cell_type": "code",
      "execution_count": null,
      "metadata": {
        "id": "Mo6vzwBc-JPS"
      },
      "outputs": [],
      "source": [
        "X_train, X_test, y_train, y_test = train_test_split(X, y, test_size=0.2, random_state=42)"
      ]
    },
    {
      "cell_type": "code",
      "source": [
        "clf = RandomForestClassifier()"
      ],
      "metadata": {
        "id": "aayCkmtseor0"
      },
      "execution_count": null,
      "outputs": []
    },
    {
      "cell_type": "code",
      "source": [
        "clf.fit(X_train, y_train)"
      ],
      "metadata": {
        "colab": {
          "base_uri": "https://localhost:8080/"
        },
        "id": "0xMQAIET6imN",
        "outputId": "cb1597af-0b8b-424a-b32e-83544e76825b"
      },
      "execution_count": null,
      "outputs": [
        {
          "output_type": "execute_result",
          "data": {
            "text/plain": [
              "RandomForestClassifier()"
            ]
          },
          "metadata": {},
          "execution_count": 30
        }
      ]
    },
    {
      "cell_type": "code",
      "source": [
        "y_pred = clf.predict(X_test)\n",
        "accuracy_score(y_test,y_pred)"
      ],
      "metadata": {
        "colab": {
          "base_uri": "https://localhost:8080/"
        },
        "id": "UUQbKqaA6k6V",
        "outputId": "b2124199-73d6-477e-d391-1d0ff12eeda1"
      },
      "execution_count": null,
      "outputs": [
        {
          "output_type": "execute_result",
          "data": {
            "text/plain": [
              "0.665625"
            ]
          },
          "metadata": {},
          "execution_count": 31
        }
      ]
    },
    {
      "cell_type": "markdown",
      "source": [
        "### Compare SVM"
      ],
      "metadata": {
        "id": "k3Fimmk7flN8"
      }
    },
    {
      "cell_type": "code",
      "source": [
        "svm =  make_pipeline(StandardScaler(), SVC())"
      ],
      "metadata": {
        "id": "ahDlyfI2flN8"
      },
      "execution_count": null,
      "outputs": []
    },
    {
      "cell_type": "code",
      "source": [
        "svm.fit(X_train, y_train)"
      ],
      "metadata": {
        "colab": {
          "base_uri": "https://localhost:8080/"
        },
        "outputId": "5e2b7dbc-f9b5-4116-9845-6d82ebf89f04",
        "id": "2Xu1S8lEflN8"
      },
      "execution_count": null,
      "outputs": [
        {
          "output_type": "execute_result",
          "data": {
            "text/plain": [
              "Pipeline(steps=[('standardscaler', StandardScaler()), ('svc', SVC())])"
            ]
          },
          "metadata": {},
          "execution_count": 97
        }
      ]
    },
    {
      "cell_type": "code",
      "source": [
        "y_pred = svm.predict(X_test)"
      ],
      "metadata": {
        "id": "NbcaWNJaflN9"
      },
      "execution_count": null,
      "outputs": []
    },
    {
      "cell_type": "code",
      "source": [
        "accuracy_score(y_test,y_pred)"
      ],
      "metadata": {
        "colab": {
          "base_uri": "https://localhost:8080/"
        },
        "outputId": "771a5150-71ef-42f4-c48b-b93f76ee1243",
        "id": "xgCIZMgmflN9"
      },
      "execution_count": null,
      "outputs": [
        {
          "output_type": "execute_result",
          "data": {
            "text/plain": [
              "0.603125"
            ]
          },
          "metadata": {},
          "execution_count": 99
        }
      ]
    },
    {
      "cell_type": "markdown",
      "source": [
        "### Grid Search"
      ],
      "metadata": {
        "id": "AzomRxN8dO_f"
      }
    },
    {
      "cell_type": "code",
      "source": [
        "# Tạo các mảng các giá trị của siêu tham số\n",
        "max_features_range = np.arange(1,6,1)\n",
        "n_estimators_range = np.arange(10,300,10)\n",
        "max_leaf_nodes_range = np.arange(2,35,1)"
      ],
      "metadata": {
        "id": "kdarZTQudWzR"
      },
      "execution_count": null,
      "outputs": []
    },
    {
      "cell_type": "code",
      "source": [
        "# Tạo một lưới các tham số\n",
        "param_grid = dict(max_features=max_features_range, \n",
        "                  n_estimators=n_estimators_range,\n",
        "                  max_leaf_nodes=max_leaf_nodes_range)"
      ],
      "metadata": {
        "id": "ntcIDrk2dWzS"
      },
      "execution_count": null,
      "outputs": []
    },
    {
      "cell_type": "code",
      "source": [
        "# Khởi tạo mô hình cần tối ưu hóa các siêu tham số\n",
        "rf = RandomForestClassifier()"
      ],
      "metadata": {
        "id": "bwBFswj8dWzS"
      },
      "execution_count": null,
      "outputs": []
    },
    {
      "cell_type": "code",
      "source": [
        "# Sử dụng hàm GridSearch của thư viện sklearn để điểu chỉnh siêu tham số\n",
        "grid = GridSearchCV(estimator=rf, param_grid=param_grid, scoring='roc_auc', cv=5)"
      ],
      "metadata": {
        "id": "c1C3q0uGdWzS"
      },
      "execution_count": null,
      "outputs": []
    },
    {
      "cell_type": "code",
      "source": [
        "# Tiến hành đào tạo\n",
        "grid.fit(X_train, y_train)"
      ],
      "metadata": {
        "id": "5PCPjsaddWzT"
      },
      "execution_count": null,
      "outputs": []
    },
    {
      "cell_type": "code",
      "source": [
        "# In ra kết quả\n",
        "print(\"The best parameters are %s with a score of %0.2f\"\n",
        "      % (grid.best_params_, grid.best_score_))"
      ],
      "metadata": {
        "id": "olP-uhcHdWzV"
      },
      "execution_count": null,
      "outputs": []
    },
    {
      "cell_type": "markdown",
      "source": [
        "### GA Search"
      ],
      "metadata": {
        "id": "m-4gbHdMdTO5"
      }
    },
    {
      "cell_type": "code",
      "execution_count": null,
      "metadata": {
        "id": "DsCiKqWM-QUx"
      },
      "outputs": [],
      "source": [
        "param_grid = {'min_weight_fraction_leaf': Continuous(0.01, 0.5, distribution='log-uniform'),\n",
        "              'bootstrap': Categorical([True, False]),\n",
        "              'max_depth': Integer(2, 30), \n",
        "              'criterion': Categorical(['gini', 'entropy']),\n",
        "              'max_features': Categorical(['auto', 'sqrt', 'log2']),\n",
        "              'max_leaf_nodes': Integer(2, 35), \n",
        "              'n_estimators': Integer(10, 300)}"
      ]
    },
    {
      "cell_type": "code",
      "execution_count": null,
      "metadata": {
        "id": "kaiGBT4T-Rn6"
      },
      "outputs": [],
      "source": [
        "clf = RandomForestClassifier()"
      ]
    },
    {
      "cell_type": "code",
      "execution_count": null,
      "metadata": {
        "id": "CgShWQRB-UmV"
      },
      "outputs": [],
      "source": [
        "cv = StratifiedKFold(n_splits=3, shuffle=True)"
      ]
    },
    {
      "cell_type": "code",
      "execution_count": null,
      "metadata": {
        "id": "XvjYEA0G-W9u"
      },
      "outputs": [],
      "source": [
        "evolved_estimator = GASearchCV(estimator=clf,\n",
        "                               cv=cv,\n",
        "                               scoring='accuracy',\n",
        "                               population_size=10,\n",
        "                               generations=25,\n",
        "                               tournament_size=3,\n",
        "                               elitism=True,\n",
        "                               crossover_probability=0.8,\n",
        "                               mutation_probability=0.1,\n",
        "                               param_grid=param_grid,\n",
        "                               criteria='max',\n",
        "                               algorithm='eaMuPlusLambda',\n",
        "                               n_jobs=-1,\n",
        "                               verbose=True,\n",
        "                               keep_top_k=4)"
      ]
    },
    {
      "cell_type": "code",
      "execution_count": null,
      "metadata": {
        "colab": {
          "base_uri": "https://localhost:8080/"
        },
        "id": "yCqsxdtR-a1k",
        "outputId": "f8e4c5e2-d9e8-4c21-e3cf-006b9b728c31"
      },
      "outputs": [
        {
          "name": "stdout",
          "output_type": "stream",
          "text": [
            "gen\tnevals\tfitness \tfitness_std\tfitness_max\tfitness_min\n",
            "0  \t10    \t0.589524\t0.0279871  \t0.623937   \t0.55043    \n",
            "1  \t19    \t0.61017 \t0.0194268  \t0.622372   \t0.560577   \n",
            "2  \t19    \t0.621041\t0.00646039 \t0.631765   \t0.60672    \n",
            "3  \t19    \t0.624089\t0.00333434 \t0.631765   \t0.62003    \n",
            "4  \t19    \t0.626196\t0.00472116 \t0.636436   \t0.62003    \n",
            "5  \t17    \t0.629084\t0.00558747 \t0.636436   \t0.622361   \n",
            "6  \t17    \t0.636119\t0.00356716 \t0.642674   \t0.62782    \n",
            "7  \t20    \t0.630409\t0.00457246 \t0.637988   \t0.623147   \n",
            "8  \t19    \t0.636673\t0.00437613 \t0.648972   \t0.632537   \n",
            "9  \t18    \t0.638393\t0.0054431  \t0.648972   \t0.633299   \n",
            "10 \t16    \t0.639336\t0.00657268 \t0.648972   \t0.631743   \n",
            "11 \t18    \t0.643178\t0.00741254 \t0.648972   \t0.628624   \n",
            "12 \t19    \t0.64161 \t0.00768231 \t0.648972   \t0.629394   \n",
            "13 \t18    \t0.641377\t0.00790795 \t0.648972   \t0.628617   \n",
            "14 \t19    \t0.642239\t0.00843297 \t0.648972   \t0.628617   \n",
            "15 \t18    \t0.63871 \t0.00705251 \t0.648972   \t0.630193   \n",
            "16 \t18    \t0.641217\t0.00789226 \t0.648972   \t0.630171   \n",
            "17 \t17    \t0.638478\t0.00689202 \t0.648972   \t0.632522   \n",
            "18 \t15    \t0.636833\t0.00610972 \t0.648972   \t0.632522   \n",
            "19 \t18    \t0.637305\t0.00659381 \t0.648972   \t0.62861    \n",
            "20 \t18    \t0.635499\t0.00889293 \t0.648972   \t0.617673   \n",
            "21 \t18    \t0.637773\t0.00788557 \t0.648972   \t0.627823   \n",
            "22 \t18    \t0.637378\t0.00557945 \t0.648972   \t0.627823   \n",
            "23 \t17    \t0.640356\t0.00640097 \t0.648972   \t0.631745   \n",
            "24 \t19    \t0.642234\t0.00649722 \t0.648972   \t0.629403   \n",
            "25 \t19    \t0.636987\t0.00766194 \t0.648972   \t0.627065   \n"
          ]
        },
        {
          "data": {
            "text/plain": [
              "GASearchCV(cv=StratifiedKFold(n_splits=3, random_state=None, shuffle=True),\n",
              "           estimator=RandomForestClassifier(bootstrap=False, max_depth=24,\n",
              "                                            max_features='log2',\n",
              "                                            max_leaf_nodes=27,\n",
              "                                            min_weight_fraction_leaf=0.01485284373775305,\n",
              "                                            n_estimators=111),\n",
              "           generations=25, keep_top_k=4, n_jobs=-1,\n",
              "           param_grid={'bootstrap': <sklearn_genetic.space.space.Categorical object at 0x7f...\n",
              "                       'max_features': <sklearn_genetic.space.space.Categorical object at 0x7fa13fb64890>,\n",
              "                       'max_leaf_nodes': <sklearn_genetic.space.space.Integer object at 0x7fa13fb648d0>,\n",
              "                       'min_weight_fraction_leaf': <sklearn_genetic.space.space.Continuous object at 0x7fa13fb64710>,\n",
              "                       'n_estimators': <sklearn_genetic.space.space.Integer object at 0x7fa13fb64910>},\n",
              "           return_train_score=True, scoring='accuracy')"
            ]
          },
          "execution_count": 12,
          "metadata": {},
          "output_type": "execute_result"
        }
      ],
      "source": [
        "evolved_estimator.fit(X_train,y_train.to_numpy())"
      ]
    },
    {
      "cell_type": "code",
      "execution_count": null,
      "metadata": {
        "id": "LXSnFRrY-jNy"
      },
      "outputs": [],
      "source": [
        "y_predicy_ga = evolved_estimator.predict(X_test)"
      ]
    },
    {
      "cell_type": "code",
      "execution_count": null,
      "metadata": {
        "colab": {
          "base_uri": "https://localhost:8080/"
        },
        "id": "5CaAn9B2-lza",
        "outputId": "50bea704-c00c-477e-a29c-3b9971caaa05"
      },
      "outputs": [
        {
          "data": {
            "text/plain": [
              "0.575"
            ]
          },
          "execution_count": 14,
          "metadata": {},
          "output_type": "execute_result"
        }
      ],
      "source": [
        "accuracy_score(y_test,y_predicy_ga)"
      ]
    },
    {
      "cell_type": "code",
      "execution_count": null,
      "metadata": {
        "colab": {
          "base_uri": "https://localhost:8080/",
          "height": 627
        },
        "id": "vF6tFHvl-nNn",
        "outputId": "06faf663-12f1-42a5-c1a3-7cd5d72ef3ea"
      },
      "outputs": [
        {
          "data": {
            "image/png": "[encoded data removed]",
            "text/plain": [
              "<Figure size 720x720 with 1 Axes>"
            ]
          },
          "metadata": {},
          "output_type": "display_data"
        }
      ],
      "source": [
        "plot_fitness_evolution(evolved_estimator)\n",
        "plt.show()"
      ]
    },
    {
      "cell_type": "code",
      "execution_count": null,
      "metadata": {
        "colab": {
          "base_uri": "https://localhost:8080/"
        },
        "id": "0o2u_xMm-pDB",
        "outputId": "6b5620b1-d98a-4d52-bf9d-ebf9704e7ead"
      },
      "outputs": [
        {
          "data": {
            "text/plain": [
              "RandomForestClassifier(bootstrap=False, max_depth=24, max_features='log2',\n",
              "                       max_leaf_nodes=27,\n",
              "                       min_weight_fraction_leaf=0.01485284373775305,\n",
              "                       n_estimators=111)"
            ]
          },
          "execution_count": 16,
          "metadata": {},
          "output_type": "execute_result"
        }
      ],
      "source": [
        "evolved_estimator.best_estimator_"
      ]
    },
    {
      "cell_type": "code",
      "execution_count": null,
      "metadata": {
        "colab": {
          "base_uri": "https://localhost:8080/"
        },
        "id": "43hre0NE-qsh",
        "outputId": "23982119-ff48-4826-e9ef-e44b9de0c302"
      },
      "outputs": [
        {
          "data": {
            "text/plain": [
              "{'bootstrap': False,\n",
              " 'criterion': 'gini',\n",
              " 'max_depth': 24,\n",
              " 'max_features': 'log2',\n",
              " 'max_leaf_nodes': 27,\n",
              " 'min_weight_fraction_leaf': 0.01485284373775305,\n",
              " 'n_estimators': 111}"
            ]
          },
          "execution_count": 17,
          "metadata": {},
          "output_type": "execute_result"
        }
      ],
      "source": [
        "evolved_estimator.best_params_"
      ]
    },
    {
      "cell_type": "code",
      "execution_count": null,
      "metadata": {
        "colab": {
          "base_uri": "https://localhost:8080/"
        },
        "id": "OdPNWC3U-saB",
        "outputId": "0e7f9430-aa9f-4f84-9dd5-9ccd91f5c2ba"
      },
      "outputs": [
        {
          "name": "stdout",
          "output_type": "stream",
          "text": [
            "Best k solutions:\n"
          ]
        },
        {
          "data": {
            "text/plain": [
              "{0: {'bootstrap': False,\n",
              "  'criterion': 'gini',\n",
              "  'max_depth': 24,\n",
              "  'max_features': 'log2',\n",
              "  'max_leaf_nodes': 27,\n",
              "  'min_weight_fraction_leaf': 0.01485284373775305,\n",
              "  'n_estimators': 111},\n",
              " 1: {'bootstrap': False,\n",
              "  'criterion': 'gini',\n",
              "  'max_depth': 23,\n",
              "  'max_features': 'log2',\n",
              "  'max_leaf_nodes': 27,\n",
              "  'min_weight_fraction_leaf': 0.01485284373775305,\n",
              "  'n_estimators': 111},\n",
              " 2: {'bootstrap': False,\n",
              "  'criterion': 'gini',\n",
              "  'max_depth': 24,\n",
              "  'max_features': 'log2',\n",
              "  'max_leaf_nodes': 27,\n",
              "  'min_weight_fraction_leaf': 0.01485284373775305,\n",
              "  'n_estimators': 43},\n",
              " 3: {'bootstrap': False,\n",
              "  'criterion': 'gini',\n",
              "  'max_depth': 24,\n",
              "  'max_features': 'log2',\n",
              "  'max_leaf_nodes': 27,\n",
              "  'min_weight_fraction_leaf': 0.01485284373775305,\n",
              "  'n_estimators': 250}}"
            ]
          },
          "execution_count": 18,
          "metadata": {},
          "output_type": "execute_result"
        }
      ],
      "source": [
        "print(\"Best k solutions:\")\n",
        "evolved_estimator.hof"
      ]
    },
    {
      "cell_type": "markdown",
      "metadata": {
        "id": "qMMPD-fzaBtJ"
      },
      "source": [
        "###Tuning Using Evolutionary Algorithms"
      ]
    },
    {
      "cell_type": "code",
      "execution_count": null,
      "metadata": {
        "colab": {
          "base_uri": "https://localhost:8080/"
        },
        "id": "7-WBvgv2aDTl",
        "outputId": "2e5ecc9f-b637-4cee-eb2d-4eae9371c517"
      },
      "outputs": [
        {
          "name": "stdout",
          "output_type": "stream",
          "text": [
            "512\n",
            "0.646593137254902\n",
            "768\n",
            "0.646593137254902\n",
            "1024\n",
            "0.646593137254902\n",
            "1280\n",
            "0.6473713235294117\n"
          ]
        },
        {
          "name": "stderr",
          "output_type": "stream",
          "text": [
            "/usr/local/lib/python3.7/dist-packages/sklearn/metrics/_classification.py:1308: UndefinedMetricWarning: Precision is ill-defined and being set to 0.0 in labels with no predicted samples. Use `zero_division` parameter to control this behavior.\n",
            "  _warn_prf(average, modifier, msg_start, len(result))\n"
          ]
        }
      ],
      "source": [
        "tic = time.perf_counter()\n",
        "fobj = open('/content/drive/MyDrive/LogForPython/pokemon.txt', 'w')\n",
        "fobj.write(\"number gen,num of evaluations,min weight fraction leaf,bootstrap,max depth,criterion,max features,max leaf nodes,n estimators,fitness\\n\")\n",
        "result_and_allParamater = DE(RandomforestWithK_fold,Randomforest, bounds = [(0,0.5),(1,2),(2,30),(1,2),(1,3),(2,35),(10,300)], popsize=256, max_evaluation=1300)\n",
        "fobj.close()\n",
        "toc = time.perf_counter()"
      ]
    },
    {
      "cell_type": "code",
      "execution_count": null,
      "metadata": {
        "colab": {
          "base_uri": "https://localhost:8080/"
        },
        "id": "h_IX8tZGaeXi",
        "outputId": "fca7dc01-3372-4f87-b090-450d0c8d5712"
      },
      "outputs": [
        {
          "name": "stdout",
          "output_type": "stream",
          "text": [
            "(5, 2)\n",
            "[(array([1.95291788e-02, 1.28254741e+00, 1.58242893e+01, 1.07084438e+00,\n",
            "       2.86351908e+00, 3.25555493e+01, 1.10360467e+02]), 0.6325428921568628), (array([7.35397869e-03, 1.16720277e+00, 1.11286385e+01, 1.84209337e+00,\n",
            "       2.58236042e+00, 3.50000000e+01, 2.94418433e+02]), 0.646593137254902), (array([7.35397869e-03, 1.16720277e+00, 1.11286385e+01, 1.84209337e+00,\n",
            "       2.58236042e+00, 3.50000000e+01, 2.94418433e+02]), 0.646593137254902), (array([7.35397869e-03, 1.16720277e+00, 1.11286385e+01, 1.84209337e+00,\n",
            "       2.58236042e+00, 3.50000000e+01, 2.94418433e+02]), 0.646593137254902), (array([  0.        ,   1.3593274 ,  16.38060694,   1.28130955,\n",
            "         2.53843349,  32.75249981, 300.        ]), 0.6473713235294117)]\n",
            "0.6325428921568628\n",
            "0.646593137254902\n",
            "0.646593137254902\n",
            "0.646593137254902\n",
            "0.6473713235294117\n"
          ]
        },
        {
          "name": "stderr",
          "output_type": "stream",
          "text": [
            "/usr/local/lib/python3.7/dist-packages/numpy/core/_asarray.py:83: VisibleDeprecationWarning: Creating an ndarray from ragged nested sequences (which is a list-or-tuple of lists-or-tuples-or ndarrays with different lengths or shapes) is deprecated. If you meant to do this, you must specify 'dtype=object' when creating the ndarray\n",
            "  return array(a, dtype, copy=False, order=order)\n"
          ]
        }
      ],
      "source": [
        "result = result_and_allParamater[0]\n",
        "print(np.asarray(result).shape)\n",
        "print(result)\n",
        "for res in result:\n",
        "  print(res[-1])"
      ]
    },
    {
      "cell_type": "code",
      "execution_count": null,
      "metadata": {
        "colab": {
          "base_uri": "https://localhost:8080/"
        },
        "id": "ORSQubHUaiRd",
        "outputId": "52c82c9c-725b-471a-cb10-ef3fb6abab61"
      },
      "outputs": [
        {
          "data": {
            "text/plain": [
              "[0.0,\n",
              " True,\n",
              " 16,\n",
              " 'gini',\n",
              " 'log2',\n",
              " 33,\n",
              " 300,\n",
              " 0.578125,\n",
              " array([0.        , 0.        , 0.74615385, 0.61363636, 0.16666667,\n",
              "        0.        ]),\n",
              " array([0.        , 0.        , 0.64666667, 0.51923077, 0.5       ,\n",
              "        0.        ]),\n",
              " array([0.        , 0.        , 0.69285714, 0.5625    , 0.25      ,\n",
              "        0.        ]),\n",
              " array([[ 0,  0,  1,  0,  0,  0],\n",
              "        [ 0,  0,  6,  4,  0,  0],\n",
              "        [ 0,  0, 97, 33,  0,  0],\n",
              "        [ 0,  0, 46, 81,  5,  0],\n",
              "        [ 0,  0,  0, 35,  7,  0],\n",
              "        [ 0,  0,  0,  3,  2,  0]]),\n",
              " array([5, 5, 5, 5, 6, 5, 5, 5, 6, 6, 6, 5, 6, 5, 5, 6, 5, 6, 7, 5, 5, 5,\n",
              "        6, 6, 5, 6, 6, 6, 5, 6, 5, 6, 6, 5, 5, 5, 6, 6, 6, 6, 5, 5, 6, 5,\n",
              "        6, 6, 6, 6, 5, 6, 5, 5, 6, 7, 5, 5, 6, 6, 6, 5, 6, 6, 5, 5, 7, 5,\n",
              "        7, 5, 7, 5, 6, 5, 6, 6, 6, 5, 7, 5, 6, 7, 5, 7, 5, 5, 6, 6, 5, 6,\n",
              "        6, 5, 6, 6, 5, 5, 5, 5, 5, 6, 5, 5, 5, 5, 6, 6, 6, 6, 6, 5, 6, 5,\n",
              "        6, 5, 6, 5, 5, 6, 6, 5, 5, 6, 6, 5, 6, 5, 5, 5, 6, 5, 6, 6, 6, 5,\n",
              "        5, 6, 6, 5, 5, 5, 5, 6, 6, 6, 6, 6, 6, 5, 6, 5, 6, 5, 6, 6, 5, 6,\n",
              "        6, 6, 5, 6, 5, 6, 6, 6, 6, 5, 5, 6, 5, 5, 5, 5, 5, 5, 6, 5, 6, 6,\n",
              "        6, 5, 5, 6, 5, 6, 5, 6, 5, 6, 6, 6, 7, 5, 6, 6, 5, 6, 6, 5, 5, 5,\n",
              "        5, 6, 5, 5, 5, 5, 7, 6, 5, 6, 6, 6, 7, 5, 6, 6, 6, 6, 6, 5, 6, 6,\n",
              "        5, 6, 6, 6, 6, 5, 5, 7, 5, 5, 5, 5, 6, 6, 5, 6, 5, 6, 5, 5, 5, 5,\n",
              "        6, 6, 5, 6, 6, 5, 6, 5, 6, 5, 5, 6, 6, 5, 6, 6, 6, 6, 6, 6, 5, 6,\n",
              "        6, 6, 5, 5, 6, 6, 5, 6, 5, 5, 6, 5, 6, 6, 6, 5, 7, 5, 5, 5, 5, 6,\n",
              "        5, 6, 5, 6, 5, 6, 6, 5, 5, 6, 5, 6, 6, 6, 5, 5, 6, 5, 5, 5, 6, 6,\n",
              "        6, 7, 5, 5, 6, 6, 5, 6, 5, 5, 6, 5])]"
            ]
          },
          "execution_count": 27,
          "metadata": {},
          "output_type": "execute_result"
        }
      ],
      "source": [
        "all_paramater = result_and_allParamater[1]\n",
        "all_paramater\n",
        "#[min_weight_fraction_leaf, bootstrap,max_depth,criterion,max_features,max_leaf_nodes,n_estimators,accuracy_score,recall_score,precision_score,f1_score,confusion_matrix]"
      ]
    },
    {
      "cell_type": "code",
      "execution_count": null,
      "metadata": {
        "colab": {
          "base_uri": "https://localhost:8080/"
        },
        "id": "RYKOVCkDvi9t",
        "outputId": "48071bd0-59e1-46a0-c8eb-ccec03643c89"
      },
      "outputs": [
        {
          "name": "stdout",
          "output_type": "stream",
          "text": [
            "Accuracy: 0.578125\n"
          ]
        }
      ],
      "source": [
        "print(f\"Accuracy: {all_paramater[7]}\")"
      ]
    },
    {
      "cell_type": "code",
      "execution_count": null,
      "metadata": {
        "colab": {
          "base_uri": "https://localhost:8080/"
        },
        "id": "3NC2iVKaaip3",
        "outputId": "f7595d74-46aa-4e34-f767-6ba1d6557e86"
      },
      "outputs": [
        {
          "name": "stdout",
          "output_type": "stream",
          "text": [
            "second:1913.0628036070048-minute:31.884380060116747\n"
          ]
        }
      ],
      "source": [
        "time_run = toc-tic\n",
        "print(f\"second:{time_run}-minute:{time_run/60}\")"
      ]
    },
    {
      "cell_type": "markdown",
      "source": [
        "## Compare Decision tree"
      ],
      "metadata": {
        "id": "07nE38kU1LjJ"
      }
    },
    {
      "cell_type": "code",
      "source": [
        "tic = time.perf_counter()\n",
        "print(Randomforest(0.0,\n",
        " False,\n",
        " 30,\n",
        " 'gini',\n",
        " 'sqrt',\n",
        " 35,\n",
        " 203)[7])\n",
        "toc = time.perf_counter()\n",
        "print(toc-tic)"
      ],
      "metadata": {
        "colab": {
          "base_uri": "https://localhost:8080/"
        },
        "outputId": "66a53781-b26c-4afb-fe50-910da7c62054",
        "id": "S8N2V5g51LjK"
      },
      "execution_count": null,
      "outputs": [
        {
          "output_type": "stream",
          "name": "stdout",
          "text": [
            "0.575\n",
            "0.6119963129999633\n"
          ]
        },
        {
          "output_type": "stream",
          "name": "stderr",
          "text": [
            "/usr/local/lib/python3.7/dist-packages/sklearn/metrics/_classification.py:1308: UndefinedMetricWarning: Precision is ill-defined and being set to 0.0 in labels with no predicted samples. Use `zero_division` parameter to control this behavior.\n",
            "  _warn_prf(average, modifier, msg_start, len(result))\n"
          ]
        }
      ]
    },
    {
      "cell_type": "code",
      "source": [
        "\n",
        "from sklearn.tree import DecisionTreeClassifier\n",
        "tic = time.perf_counter()\n",
        "clf = DecisionTreeClassifier()\n",
        "clf.fit(X_train, y_train)\n",
        "y_pred = clf.predict(X_test)\n",
        "toc = time.perf_counter()\n",
        "print(metrics.accuracy_score(y_test, y_pred))\n",
        "print(toc-tic)"
      ],
      "metadata": {
        "colab": {
          "base_uri": "https://localhost:8080/"
        },
        "outputId": "e2ea779e-2855-4cc2-c603-bb219f67712a",
        "id": "U6pCQfgk1LjK"
      },
      "execution_count": null,
      "outputs": [
        {
          "output_type": "stream",
          "name": "stdout",
          "text": [
            "0.5625\n",
            "0.017404136000095605\n"
          ]
        }
      ]
    },
    {
      "cell_type": "markdown",
      "metadata": {
        "id": "angpQuKnbfNa"
      },
      "source": [
        "# weatherAUS.csv"
      ]
    },
    {
      "cell_type": "code",
      "execution_count": 11,
      "metadata": {
        "id": "l2bIXV5OcKGa"
      },
      "outputs": [],
      "source": [
        "df3 = pd.read_csv(file_paths[3])\n",
        "df3 = df3.dropna()"
      ]
    },
    {
      "cell_type": "code",
      "source": [
        "df3.head(5)"
      ],
      "metadata": {
        "colab": {
          "base_uri": "https://localhost:8080/",
          "height": 313
        },
        "id": "Zg9p-vXYxXx6",
        "outputId": "665b7a8a-2b06-4407-ce73-3cc381605b02"
      },
      "execution_count": 12,
      "outputs": [
        {
          "output_type": "execute_result",
          "data": {
            "text/html": [
              "<div>\n",
              "<style scoped>\n",
              "    .dataframe tbody tr th:only-of-type {\n",
              "        vertical-align: middle;\n",
              "    }\n",
              "\n",
              "    .dataframe tbody tr th {\n",
              "        vertical-align: top;\n",
              "    }\n",
              "\n",
              "    .dataframe thead th {\n",
              "        text-align: right;\n",
              "    }\n",
              "</style>\n",
              "<table border=\"1\" class=\"dataframe\">\n",
              "  <thead>\n",
              "    <tr style=\"text-align: right;\">\n",
              "      <th></th>\n",
              "      <th>Date</th>\n",
              "      <th>Location</th>\n",
              "      <th>MinTemp</th>\n",
              "      <th>MaxTemp</th>\n",
              "      <th>Rainfall</th>\n",
              "      <th>Evaporation</th>\n",
              "      <th>Sunshine</th>\n",
              "      <th>WindGustDir</th>\n",
              "      <th>WindGustSpeed</th>\n",
              "      <th>WindDir9am</th>\n",
              "      <th>WindDir3pm</th>\n",
              "      <th>WindSpeed9am</th>\n",
              "      <th>WindSpeed3pm</th>\n",
              "      <th>Humidity9am</th>\n",
              "      <th>Humidity3pm</th>\n",
              "      <th>Pressure9am</th>\n",
              "      <th>Pressure3pm</th>\n",
              "      <th>Cloud9am</th>\n",
              "      <th>Cloud3pm</th>\n",
              "      <th>Temp9am</th>\n",
              "      <th>Temp3pm</th>\n",
              "      <th>RainToday</th>\n",
              "      <th>RainTomorrow</th>\n",
              "    </tr>\n",
              "  </thead>\n",
              "  <tbody>\n",
              "    <tr>\n",
              "      <th>6049</th>\n",
              "      <td>2009-01-01</td>\n",
              "      <td>Cobar</td>\n",
              "      <td>17.9</td>\n",
              "      <td>35.2</td>\n",
              "      <td>0.0</td>\n",
              "      <td>12.0</td>\n",
              "      <td>12.3</td>\n",
              "      <td>SSW</td>\n",
              "      <td>48.0</td>\n",
              "      <td>ENE</td>\n",
              "      <td>SW</td>\n",
              "      <td>6.0</td>\n",
              "      <td>20.0</td>\n",
              "      <td>20.0</td>\n",
              "      <td>13.0</td>\n",
              "      <td>1006.3</td>\n",
              "      <td>1004.4</td>\n",
              "      <td>2.0</td>\n",
              "      <td>5.0</td>\n",
              "      <td>26.6</td>\n",
              "      <td>33.4</td>\n",
              "      <td>No</td>\n",
              "      <td>No</td>\n",
              "    </tr>\n",
              "    <tr>\n",
              "      <th>6050</th>\n",
              "      <td>2009-01-02</td>\n",
              "      <td>Cobar</td>\n",
              "      <td>18.4</td>\n",
              "      <td>28.9</td>\n",
              "      <td>0.0</td>\n",
              "      <td>14.8</td>\n",
              "      <td>13.0</td>\n",
              "      <td>S</td>\n",
              "      <td>37.0</td>\n",
              "      <td>SSE</td>\n",
              "      <td>SSE</td>\n",
              "      <td>19.0</td>\n",
              "      <td>19.0</td>\n",
              "      <td>30.0</td>\n",
              "      <td>8.0</td>\n",
              "      <td>1012.9</td>\n",
              "      <td>1012.1</td>\n",
              "      <td>1.0</td>\n",
              "      <td>1.0</td>\n",
              "      <td>20.3</td>\n",
              "      <td>27.0</td>\n",
              "      <td>No</td>\n",
              "      <td>No</td>\n",
              "    </tr>\n",
              "    <tr>\n",
              "      <th>6052</th>\n",
              "      <td>2009-01-04</td>\n",
              "      <td>Cobar</td>\n",
              "      <td>19.4</td>\n",
              "      <td>37.6</td>\n",
              "      <td>0.0</td>\n",
              "      <td>10.8</td>\n",
              "      <td>10.6</td>\n",
              "      <td>NNE</td>\n",
              "      <td>46.0</td>\n",
              "      <td>NNE</td>\n",
              "      <td>NNW</td>\n",
              "      <td>30.0</td>\n",
              "      <td>15.0</td>\n",
              "      <td>42.0</td>\n",
              "      <td>22.0</td>\n",
              "      <td>1012.3</td>\n",
              "      <td>1009.2</td>\n",
              "      <td>1.0</td>\n",
              "      <td>6.0</td>\n",
              "      <td>28.7</td>\n",
              "      <td>34.9</td>\n",
              "      <td>No</td>\n",
              "      <td>No</td>\n",
              "    </tr>\n",
              "    <tr>\n",
              "      <th>6053</th>\n",
              "      <td>2009-01-05</td>\n",
              "      <td>Cobar</td>\n",
              "      <td>21.9</td>\n",
              "      <td>38.4</td>\n",
              "      <td>0.0</td>\n",
              "      <td>11.4</td>\n",
              "      <td>12.2</td>\n",
              "      <td>WNW</td>\n",
              "      <td>31.0</td>\n",
              "      <td>WNW</td>\n",
              "      <td>WSW</td>\n",
              "      <td>6.0</td>\n",
              "      <td>6.0</td>\n",
              "      <td>37.0</td>\n",
              "      <td>22.0</td>\n",
              "      <td>1012.7</td>\n",
              "      <td>1009.1</td>\n",
              "      <td>1.0</td>\n",
              "      <td>5.0</td>\n",
              "      <td>29.1</td>\n",
              "      <td>35.6</td>\n",
              "      <td>No</td>\n",
              "      <td>No</td>\n",
              "    </tr>\n",
              "    <tr>\n",
              "      <th>6054</th>\n",
              "      <td>2009-01-06</td>\n",
              "      <td>Cobar</td>\n",
              "      <td>24.2</td>\n",
              "      <td>41.0</td>\n",
              "      <td>0.0</td>\n",
              "      <td>11.2</td>\n",
              "      <td>8.4</td>\n",
              "      <td>WNW</td>\n",
              "      <td>35.0</td>\n",
              "      <td>NW</td>\n",
              "      <td>WNW</td>\n",
              "      <td>17.0</td>\n",
              "      <td>13.0</td>\n",
              "      <td>19.0</td>\n",
              "      <td>15.0</td>\n",
              "      <td>1010.7</td>\n",
              "      <td>1007.4</td>\n",
              "      <td>1.0</td>\n",
              "      <td>6.0</td>\n",
              "      <td>33.6</td>\n",
              "      <td>37.6</td>\n",
              "      <td>No</td>\n",
              "      <td>No</td>\n",
              "    </tr>\n",
              "  </tbody>\n",
              "</table>\n",
              "</div>"
            ],
            "text/plain": [
              "            Date Location  MinTemp  ...  Temp3pm  RainToday  RainTomorrow\n",
              "6049  2009-01-01    Cobar     17.9  ...     33.4         No            No\n",
              "6050  2009-01-02    Cobar     18.4  ...     27.0         No            No\n",
              "6052  2009-01-04    Cobar     19.4  ...     34.9         No            No\n",
              "6053  2009-01-05    Cobar     21.9  ...     35.6         No            No\n",
              "6054  2009-01-06    Cobar     24.2  ...     37.6         No            No\n",
              "\n",
              "[5 rows x 23 columns]"
            ]
          },
          "metadata": {},
          "execution_count": 12
        }
      ]
    },
    {
      "cell_type": "code",
      "source": [
        "df3.info()"
      ],
      "metadata": {
        "colab": {
          "base_uri": "https://localhost:8080/"
        },
        "id": "59yuECyoxbv6",
        "outputId": "9e6d2d9e-4708-4dd3-9cca-7132eaef3f58"
      },
      "execution_count": 13,
      "outputs": [
        {
          "output_type": "stream",
          "name": "stdout",
          "text": [
            "<class 'pandas.core.frame.DataFrame'>\n",
            "Int64Index: 56420 entries, 6049 to 142302\n",
            "Data columns (total 23 columns):\n",
            " #   Column         Non-Null Count  Dtype  \n",
            "---  ------         --------------  -----  \n",
            " 0   Date           56420 non-null  object \n",
            " 1   Location       56420 non-null  object \n",
            " 2   MinTemp        56420 non-null  float64\n",
            " 3   MaxTemp        56420 non-null  float64\n",
            " 4   Rainfall       56420 non-null  float64\n",
            " 5   Evaporation    56420 non-null  float64\n",
            " 6   Sunshine       56420 non-null  float64\n",
            " 7   WindGustDir    56420 non-null  object \n",
            " 8   WindGustSpeed  56420 non-null  float64\n",
            " 9   WindDir9am     56420 non-null  object \n",
            " 10  WindDir3pm     56420 non-null  object \n",
            " 11  WindSpeed9am   56420 non-null  float64\n",
            " 12  WindSpeed3pm   56420 non-null  float64\n",
            " 13  Humidity9am    56420 non-null  float64\n",
            " 14  Humidity3pm    56420 non-null  float64\n",
            " 15  Pressure9am    56420 non-null  float64\n",
            " 16  Pressure3pm    56420 non-null  float64\n",
            " 17  Cloud9am       56420 non-null  float64\n",
            " 18  Cloud3pm       56420 non-null  float64\n",
            " 19  Temp9am        56420 non-null  float64\n",
            " 20  Temp3pm        56420 non-null  float64\n",
            " 21  RainToday      56420 non-null  object \n",
            " 22  RainTomorrow   56420 non-null  object \n",
            "dtypes: float64(16), object(7)\n",
            "memory usage: 10.3+ MB\n"
          ]
        }
      ]
    },
    {
      "cell_type": "code",
      "execution_count": null,
      "metadata": {
        "id": "Euf634TWfqL8"
      },
      "outputs": [],
      "source": [
        "y = df3['RainTomorrow']\n",
        "df3 = df3.drop(columns='RainTomorrow')"
      ]
    },
    {
      "cell_type": "code",
      "execution_count": null,
      "metadata": {
        "id": "ux8nV63rgF2a"
      },
      "outputs": [],
      "source": [
        "df3 = df3.drop(columns='Date')\n",
        "\n",
        "df3 = pd.concat([df3, pd.get_dummies(df3['Location'])], axis=1)\n",
        "df3 = df3.drop(columns='Location')\n",
        "\n",
        "df3 = pd.concat([df3, pd.get_dummies(df3['WindGustDir'])], axis=1)\n",
        "df3 = df3.drop(columns='WindGustDir')\n",
        "\n",
        "df3 = pd.concat([df3, pd.get_dummies(df3['WindDir9am'])], axis=1)\n",
        "df3 = df3.drop(columns='WindDir9am')\n",
        "\n",
        "df3 = pd.concat([df3, pd.get_dummies(df3['WindDir3pm'])], axis=1)\n",
        "df3 = df3.drop(columns='WindDir3pm')\n",
        "\n",
        "df3 = pd.concat([df3, pd.get_dummies(df3['RainToday'])], axis=1)\n",
        "df3 = df3.drop(columns='RainToday')"
      ]
    },
    {
      "cell_type": "code",
      "execution_count": null,
      "metadata": {
        "id": "DmfOp62-h-ax"
      },
      "outputs": [],
      "source": [
        "X = df3"
      ]
    },
    {
      "cell_type": "code",
      "execution_count": null,
      "metadata": {
        "colab": {
          "base_uri": "https://localhost:8080/",
          "height": 444
        },
        "id": "4dbFWH3of6-L",
        "outputId": "1c1676c4-e1c3-4876-cb90-e7a0d81ba7b0"
      },
      "outputs": [
        {
          "output_type": "execute_result",
          "data": {
            "text/html": [
              "<div>\n",
              "<style scoped>\n",
              "    .dataframe tbody tr th:only-of-type {\n",
              "        vertical-align: middle;\n",
              "    }\n",
              "\n",
              "    .dataframe tbody tr th {\n",
              "        vertical-align: top;\n",
              "    }\n",
              "\n",
              "    .dataframe thead th {\n",
              "        text-align: right;\n",
              "    }\n",
              "</style>\n",
              "<table border=\"1\" class=\"dataframe\">\n",
              "  <thead>\n",
              "    <tr style=\"text-align: right;\">\n",
              "      <th></th>\n",
              "      <th>MinTemp</th>\n",
              "      <th>MaxTemp</th>\n",
              "      <th>Rainfall</th>\n",
              "      <th>Evaporation</th>\n",
              "      <th>Sunshine</th>\n",
              "      <th>WindGustSpeed</th>\n",
              "      <th>WindSpeed9am</th>\n",
              "      <th>WindSpeed3pm</th>\n",
              "      <th>Humidity9am</th>\n",
              "      <th>Humidity3pm</th>\n",
              "      <th>Pressure9am</th>\n",
              "      <th>Pressure3pm</th>\n",
              "      <th>Cloud9am</th>\n",
              "      <th>Cloud3pm</th>\n",
              "      <th>Temp9am</th>\n",
              "      <th>Temp3pm</th>\n",
              "      <th>AliceSprings</th>\n",
              "      <th>Brisbane</th>\n",
              "      <th>Cairns</th>\n",
              "      <th>Canberra</th>\n",
              "      <th>Cobar</th>\n",
              "      <th>CoffsHarbour</th>\n",
              "      <th>Darwin</th>\n",
              "      <th>Hobart</th>\n",
              "      <th>Melbourne</th>\n",
              "      <th>MelbourneAirport</th>\n",
              "      <th>Mildura</th>\n",
              "      <th>Moree</th>\n",
              "      <th>MountGambier</th>\n",
              "      <th>NorfolkIsland</th>\n",
              "      <th>Nuriootpa</th>\n",
              "      <th>Perth</th>\n",
              "      <th>PerthAirport</th>\n",
              "      <th>Portland</th>\n",
              "      <th>Sale</th>\n",
              "      <th>Sydney</th>\n",
              "      <th>SydneyAirport</th>\n",
              "      <th>Townsville</th>\n",
              "      <th>WaggaWagga</th>\n",
              "      <th>Watsonia</th>\n",
              "      <th>...</th>\n",
              "      <th>SSE</th>\n",
              "      <th>SSW</th>\n",
              "      <th>SW</th>\n",
              "      <th>W</th>\n",
              "      <th>WNW</th>\n",
              "      <th>WSW</th>\n",
              "      <th>E</th>\n",
              "      <th>ENE</th>\n",
              "      <th>ESE</th>\n",
              "      <th>N</th>\n",
              "      <th>NE</th>\n",
              "      <th>NNE</th>\n",
              "      <th>NNW</th>\n",
              "      <th>NW</th>\n",
              "      <th>S</th>\n",
              "      <th>SE</th>\n",
              "      <th>SSE</th>\n",
              "      <th>SSW</th>\n",
              "      <th>SW</th>\n",
              "      <th>W</th>\n",
              "      <th>WNW</th>\n",
              "      <th>WSW</th>\n",
              "      <th>E</th>\n",
              "      <th>ENE</th>\n",
              "      <th>ESE</th>\n",
              "      <th>N</th>\n",
              "      <th>NE</th>\n",
              "      <th>NNE</th>\n",
              "      <th>NNW</th>\n",
              "      <th>NW</th>\n",
              "      <th>S</th>\n",
              "      <th>SE</th>\n",
              "      <th>SSE</th>\n",
              "      <th>SSW</th>\n",
              "      <th>SW</th>\n",
              "      <th>W</th>\n",
              "      <th>WNW</th>\n",
              "      <th>WSW</th>\n",
              "      <th>No</th>\n",
              "      <th>Yes</th>\n",
              "    </tr>\n",
              "  </thead>\n",
              "  <tbody>\n",
              "    <tr>\n",
              "      <th>6049</th>\n",
              "      <td>17.9</td>\n",
              "      <td>35.2</td>\n",
              "      <td>0.0</td>\n",
              "      <td>12.0</td>\n",
              "      <td>12.3</td>\n",
              "      <td>48.0</td>\n",
              "      <td>6.0</td>\n",
              "      <td>20.0</td>\n",
              "      <td>20.0</td>\n",
              "      <td>13.0</td>\n",
              "      <td>1006.3</td>\n",
              "      <td>1004.4</td>\n",
              "      <td>2.0</td>\n",
              "      <td>5.0</td>\n",
              "      <td>26.6</td>\n",
              "      <td>33.4</td>\n",
              "      <td>0</td>\n",
              "      <td>0</td>\n",
              "      <td>0</td>\n",
              "      <td>0</td>\n",
              "      <td>1</td>\n",
              "      <td>0</td>\n",
              "      <td>0</td>\n",
              "      <td>0</td>\n",
              "      <td>0</td>\n",
              "      <td>0</td>\n",
              "      <td>0</td>\n",
              "      <td>0</td>\n",
              "      <td>0</td>\n",
              "      <td>0</td>\n",
              "      <td>0</td>\n",
              "      <td>0</td>\n",
              "      <td>0</td>\n",
              "      <td>0</td>\n",
              "      <td>0</td>\n",
              "      <td>0</td>\n",
              "      <td>0</td>\n",
              "      <td>0</td>\n",
              "      <td>0</td>\n",
              "      <td>0</td>\n",
              "      <td>...</td>\n",
              "      <td>0</td>\n",
              "      <td>1</td>\n",
              "      <td>0</td>\n",
              "      <td>0</td>\n",
              "      <td>0</td>\n",
              "      <td>0</td>\n",
              "      <td>0</td>\n",
              "      <td>1</td>\n",
              "      <td>0</td>\n",
              "      <td>0</td>\n",
              "      <td>0</td>\n",
              "      <td>0</td>\n",
              "      <td>0</td>\n",
              "      <td>0</td>\n",
              "      <td>0</td>\n",
              "      <td>0</td>\n",
              "      <td>0</td>\n",
              "      <td>0</td>\n",
              "      <td>0</td>\n",
              "      <td>0</td>\n",
              "      <td>0</td>\n",
              "      <td>0</td>\n",
              "      <td>0</td>\n",
              "      <td>0</td>\n",
              "      <td>0</td>\n",
              "      <td>0</td>\n",
              "      <td>0</td>\n",
              "      <td>0</td>\n",
              "      <td>0</td>\n",
              "      <td>0</td>\n",
              "      <td>0</td>\n",
              "      <td>0</td>\n",
              "      <td>0</td>\n",
              "      <td>0</td>\n",
              "      <td>1</td>\n",
              "      <td>0</td>\n",
              "      <td>0</td>\n",
              "      <td>0</td>\n",
              "      <td>1</td>\n",
              "      <td>0</td>\n",
              "    </tr>\n",
              "    <tr>\n",
              "      <th>6050</th>\n",
              "      <td>18.4</td>\n",
              "      <td>28.9</td>\n",
              "      <td>0.0</td>\n",
              "      <td>14.8</td>\n",
              "      <td>13.0</td>\n",
              "      <td>37.0</td>\n",
              "      <td>19.0</td>\n",
              "      <td>19.0</td>\n",
              "      <td>30.0</td>\n",
              "      <td>8.0</td>\n",
              "      <td>1012.9</td>\n",
              "      <td>1012.1</td>\n",
              "      <td>1.0</td>\n",
              "      <td>1.0</td>\n",
              "      <td>20.3</td>\n",
              "      <td>27.0</td>\n",
              "      <td>0</td>\n",
              "      <td>0</td>\n",
              "      <td>0</td>\n",
              "      <td>0</td>\n",
              "      <td>1</td>\n",
              "      <td>0</td>\n",
              "      <td>0</td>\n",
              "      <td>0</td>\n",
              "      <td>0</td>\n",
              "      <td>0</td>\n",
              "      <td>0</td>\n",
              "      <td>0</td>\n",
              "      <td>0</td>\n",
              "      <td>0</td>\n",
              "      <td>0</td>\n",
              "      <td>0</td>\n",
              "      <td>0</td>\n",
              "      <td>0</td>\n",
              "      <td>0</td>\n",
              "      <td>0</td>\n",
              "      <td>0</td>\n",
              "      <td>0</td>\n",
              "      <td>0</td>\n",
              "      <td>0</td>\n",
              "      <td>...</td>\n",
              "      <td>0</td>\n",
              "      <td>0</td>\n",
              "      <td>0</td>\n",
              "      <td>0</td>\n",
              "      <td>0</td>\n",
              "      <td>0</td>\n",
              "      <td>0</td>\n",
              "      <td>0</td>\n",
              "      <td>0</td>\n",
              "      <td>0</td>\n",
              "      <td>0</td>\n",
              "      <td>0</td>\n",
              "      <td>0</td>\n",
              "      <td>0</td>\n",
              "      <td>0</td>\n",
              "      <td>0</td>\n",
              "      <td>1</td>\n",
              "      <td>0</td>\n",
              "      <td>0</td>\n",
              "      <td>0</td>\n",
              "      <td>0</td>\n",
              "      <td>0</td>\n",
              "      <td>0</td>\n",
              "      <td>0</td>\n",
              "      <td>0</td>\n",
              "      <td>0</td>\n",
              "      <td>0</td>\n",
              "      <td>0</td>\n",
              "      <td>0</td>\n",
              "      <td>0</td>\n",
              "      <td>0</td>\n",
              "      <td>0</td>\n",
              "      <td>1</td>\n",
              "      <td>0</td>\n",
              "      <td>0</td>\n",
              "      <td>0</td>\n",
              "      <td>0</td>\n",
              "      <td>0</td>\n",
              "      <td>1</td>\n",
              "      <td>0</td>\n",
              "    </tr>\n",
              "    <tr>\n",
              "      <th>6052</th>\n",
              "      <td>19.4</td>\n",
              "      <td>37.6</td>\n",
              "      <td>0.0</td>\n",
              "      <td>10.8</td>\n",
              "      <td>10.6</td>\n",
              "      <td>46.0</td>\n",
              "      <td>30.0</td>\n",
              "      <td>15.0</td>\n",
              "      <td>42.0</td>\n",
              "      <td>22.0</td>\n",
              "      <td>1012.3</td>\n",
              "      <td>1009.2</td>\n",
              "      <td>1.0</td>\n",
              "      <td>6.0</td>\n",
              "      <td>28.7</td>\n",
              "      <td>34.9</td>\n",
              "      <td>0</td>\n",
              "      <td>0</td>\n",
              "      <td>0</td>\n",
              "      <td>0</td>\n",
              "      <td>1</td>\n",
              "      <td>0</td>\n",
              "      <td>0</td>\n",
              "      <td>0</td>\n",
              "      <td>0</td>\n",
              "      <td>0</td>\n",
              "      <td>0</td>\n",
              "      <td>0</td>\n",
              "      <td>0</td>\n",
              "      <td>0</td>\n",
              "      <td>0</td>\n",
              "      <td>0</td>\n",
              "      <td>0</td>\n",
              "      <td>0</td>\n",
              "      <td>0</td>\n",
              "      <td>0</td>\n",
              "      <td>0</td>\n",
              "      <td>0</td>\n",
              "      <td>0</td>\n",
              "      <td>0</td>\n",
              "      <td>...</td>\n",
              "      <td>0</td>\n",
              "      <td>0</td>\n",
              "      <td>0</td>\n",
              "      <td>0</td>\n",
              "      <td>0</td>\n",
              "      <td>0</td>\n",
              "      <td>0</td>\n",
              "      <td>0</td>\n",
              "      <td>0</td>\n",
              "      <td>0</td>\n",
              "      <td>0</td>\n",
              "      <td>1</td>\n",
              "      <td>0</td>\n",
              "      <td>0</td>\n",
              "      <td>0</td>\n",
              "      <td>0</td>\n",
              "      <td>0</td>\n",
              "      <td>0</td>\n",
              "      <td>0</td>\n",
              "      <td>0</td>\n",
              "      <td>0</td>\n",
              "      <td>0</td>\n",
              "      <td>0</td>\n",
              "      <td>0</td>\n",
              "      <td>0</td>\n",
              "      <td>0</td>\n",
              "      <td>0</td>\n",
              "      <td>0</td>\n",
              "      <td>1</td>\n",
              "      <td>0</td>\n",
              "      <td>0</td>\n",
              "      <td>0</td>\n",
              "      <td>0</td>\n",
              "      <td>0</td>\n",
              "      <td>0</td>\n",
              "      <td>0</td>\n",
              "      <td>0</td>\n",
              "      <td>0</td>\n",
              "      <td>1</td>\n",
              "      <td>0</td>\n",
              "    </tr>\n",
              "    <tr>\n",
              "      <th>6053</th>\n",
              "      <td>21.9</td>\n",
              "      <td>38.4</td>\n",
              "      <td>0.0</td>\n",
              "      <td>11.4</td>\n",
              "      <td>12.2</td>\n",
              "      <td>31.0</td>\n",
              "      <td>6.0</td>\n",
              "      <td>6.0</td>\n",
              "      <td>37.0</td>\n",
              "      <td>22.0</td>\n",
              "      <td>1012.7</td>\n",
              "      <td>1009.1</td>\n",
              "      <td>1.0</td>\n",
              "      <td>5.0</td>\n",
              "      <td>29.1</td>\n",
              "      <td>35.6</td>\n",
              "      <td>0</td>\n",
              "      <td>0</td>\n",
              "      <td>0</td>\n",
              "      <td>0</td>\n",
              "      <td>1</td>\n",
              "      <td>0</td>\n",
              "      <td>0</td>\n",
              "      <td>0</td>\n",
              "      <td>0</td>\n",
              "      <td>0</td>\n",
              "      <td>0</td>\n",
              "      <td>0</td>\n",
              "      <td>0</td>\n",
              "      <td>0</td>\n",
              "      <td>0</td>\n",
              "      <td>0</td>\n",
              "      <td>0</td>\n",
              "      <td>0</td>\n",
              "      <td>0</td>\n",
              "      <td>0</td>\n",
              "      <td>0</td>\n",
              "      <td>0</td>\n",
              "      <td>0</td>\n",
              "      <td>0</td>\n",
              "      <td>...</td>\n",
              "      <td>0</td>\n",
              "      <td>0</td>\n",
              "      <td>0</td>\n",
              "      <td>0</td>\n",
              "      <td>1</td>\n",
              "      <td>0</td>\n",
              "      <td>0</td>\n",
              "      <td>0</td>\n",
              "      <td>0</td>\n",
              "      <td>0</td>\n",
              "      <td>0</td>\n",
              "      <td>0</td>\n",
              "      <td>0</td>\n",
              "      <td>0</td>\n",
              "      <td>0</td>\n",
              "      <td>0</td>\n",
              "      <td>0</td>\n",
              "      <td>0</td>\n",
              "      <td>0</td>\n",
              "      <td>0</td>\n",
              "      <td>1</td>\n",
              "      <td>0</td>\n",
              "      <td>0</td>\n",
              "      <td>0</td>\n",
              "      <td>0</td>\n",
              "      <td>0</td>\n",
              "      <td>0</td>\n",
              "      <td>0</td>\n",
              "      <td>0</td>\n",
              "      <td>0</td>\n",
              "      <td>0</td>\n",
              "      <td>0</td>\n",
              "      <td>0</td>\n",
              "      <td>0</td>\n",
              "      <td>0</td>\n",
              "      <td>0</td>\n",
              "      <td>0</td>\n",
              "      <td>1</td>\n",
              "      <td>1</td>\n",
              "      <td>0</td>\n",
              "    </tr>\n",
              "    <tr>\n",
              "      <th>6054</th>\n",
              "      <td>24.2</td>\n",
              "      <td>41.0</td>\n",
              "      <td>0.0</td>\n",
              "      <td>11.2</td>\n",
              "      <td>8.4</td>\n",
              "      <td>35.0</td>\n",
              "      <td>17.0</td>\n",
              "      <td>13.0</td>\n",
              "      <td>19.0</td>\n",
              "      <td>15.0</td>\n",
              "      <td>1010.7</td>\n",
              "      <td>1007.4</td>\n",
              "      <td>1.0</td>\n",
              "      <td>6.0</td>\n",
              "      <td>33.6</td>\n",
              "      <td>37.6</td>\n",
              "      <td>0</td>\n",
              "      <td>0</td>\n",
              "      <td>0</td>\n",
              "      <td>0</td>\n",
              "      <td>1</td>\n",
              "      <td>0</td>\n",
              "      <td>0</td>\n",
              "      <td>0</td>\n",
              "      <td>0</td>\n",
              "      <td>0</td>\n",
              "      <td>0</td>\n",
              "      <td>0</td>\n",
              "      <td>0</td>\n",
              "      <td>0</td>\n",
              "      <td>0</td>\n",
              "      <td>0</td>\n",
              "      <td>0</td>\n",
              "      <td>0</td>\n",
              "      <td>0</td>\n",
              "      <td>0</td>\n",
              "      <td>0</td>\n",
              "      <td>0</td>\n",
              "      <td>0</td>\n",
              "      <td>0</td>\n",
              "      <td>...</td>\n",
              "      <td>0</td>\n",
              "      <td>0</td>\n",
              "      <td>0</td>\n",
              "      <td>0</td>\n",
              "      <td>1</td>\n",
              "      <td>0</td>\n",
              "      <td>0</td>\n",
              "      <td>0</td>\n",
              "      <td>0</td>\n",
              "      <td>0</td>\n",
              "      <td>0</td>\n",
              "      <td>0</td>\n",
              "      <td>0</td>\n",
              "      <td>1</td>\n",
              "      <td>0</td>\n",
              "      <td>0</td>\n",
              "      <td>0</td>\n",
              "      <td>0</td>\n",
              "      <td>0</td>\n",
              "      <td>0</td>\n",
              "      <td>0</td>\n",
              "      <td>0</td>\n",
              "      <td>0</td>\n",
              "      <td>0</td>\n",
              "      <td>0</td>\n",
              "      <td>0</td>\n",
              "      <td>0</td>\n",
              "      <td>0</td>\n",
              "      <td>0</td>\n",
              "      <td>0</td>\n",
              "      <td>0</td>\n",
              "      <td>0</td>\n",
              "      <td>0</td>\n",
              "      <td>0</td>\n",
              "      <td>0</td>\n",
              "      <td>0</td>\n",
              "      <td>1</td>\n",
              "      <td>0</td>\n",
              "      <td>1</td>\n",
              "      <td>0</td>\n",
              "    </tr>\n",
              "    <tr>\n",
              "      <th>...</th>\n",
              "      <td>...</td>\n",
              "      <td>...</td>\n",
              "      <td>...</td>\n",
              "      <td>...</td>\n",
              "      <td>...</td>\n",
              "      <td>...</td>\n",
              "      <td>...</td>\n",
              "      <td>...</td>\n",
              "      <td>...</td>\n",
              "      <td>...</td>\n",
              "      <td>...</td>\n",
              "      <td>...</td>\n",
              "      <td>...</td>\n",
              "      <td>...</td>\n",
              "      <td>...</td>\n",
              "      <td>...</td>\n",
              "      <td>...</td>\n",
              "      <td>...</td>\n",
              "      <td>...</td>\n",
              "      <td>...</td>\n",
              "      <td>...</td>\n",
              "      <td>...</td>\n",
              "      <td>...</td>\n",
              "      <td>...</td>\n",
              "      <td>...</td>\n",
              "      <td>...</td>\n",
              "      <td>...</td>\n",
              "      <td>...</td>\n",
              "      <td>...</td>\n",
              "      <td>...</td>\n",
              "      <td>...</td>\n",
              "      <td>...</td>\n",
              "      <td>...</td>\n",
              "      <td>...</td>\n",
              "      <td>...</td>\n",
              "      <td>...</td>\n",
              "      <td>...</td>\n",
              "      <td>...</td>\n",
              "      <td>...</td>\n",
              "      <td>...</td>\n",
              "      <td>...</td>\n",
              "      <td>...</td>\n",
              "      <td>...</td>\n",
              "      <td>...</td>\n",
              "      <td>...</td>\n",
              "      <td>...</td>\n",
              "      <td>...</td>\n",
              "      <td>...</td>\n",
              "      <td>...</td>\n",
              "      <td>...</td>\n",
              "      <td>...</td>\n",
              "      <td>...</td>\n",
              "      <td>...</td>\n",
              "      <td>...</td>\n",
              "      <td>...</td>\n",
              "      <td>...</td>\n",
              "      <td>...</td>\n",
              "      <td>...</td>\n",
              "      <td>...</td>\n",
              "      <td>...</td>\n",
              "      <td>...</td>\n",
              "      <td>...</td>\n",
              "      <td>...</td>\n",
              "      <td>...</td>\n",
              "      <td>...</td>\n",
              "      <td>...</td>\n",
              "      <td>...</td>\n",
              "      <td>...</td>\n",
              "      <td>...</td>\n",
              "      <td>...</td>\n",
              "      <td>...</td>\n",
              "      <td>...</td>\n",
              "      <td>...</td>\n",
              "      <td>...</td>\n",
              "      <td>...</td>\n",
              "      <td>...</td>\n",
              "      <td>...</td>\n",
              "      <td>...</td>\n",
              "      <td>...</td>\n",
              "      <td>...</td>\n",
              "      <td>...</td>\n",
              "    </tr>\n",
              "    <tr>\n",
              "      <th>142298</th>\n",
              "      <td>19.3</td>\n",
              "      <td>33.4</td>\n",
              "      <td>0.0</td>\n",
              "      <td>6.0</td>\n",
              "      <td>11.0</td>\n",
              "      <td>35.0</td>\n",
              "      <td>9.0</td>\n",
              "      <td>20.0</td>\n",
              "      <td>63.0</td>\n",
              "      <td>32.0</td>\n",
              "      <td>1013.9</td>\n",
              "      <td>1010.5</td>\n",
              "      <td>0.0</td>\n",
              "      <td>1.0</td>\n",
              "      <td>24.5</td>\n",
              "      <td>32.3</td>\n",
              "      <td>0</td>\n",
              "      <td>0</td>\n",
              "      <td>0</td>\n",
              "      <td>0</td>\n",
              "      <td>0</td>\n",
              "      <td>0</td>\n",
              "      <td>1</td>\n",
              "      <td>0</td>\n",
              "      <td>0</td>\n",
              "      <td>0</td>\n",
              "      <td>0</td>\n",
              "      <td>0</td>\n",
              "      <td>0</td>\n",
              "      <td>0</td>\n",
              "      <td>0</td>\n",
              "      <td>0</td>\n",
              "      <td>0</td>\n",
              "      <td>0</td>\n",
              "      <td>0</td>\n",
              "      <td>0</td>\n",
              "      <td>0</td>\n",
              "      <td>0</td>\n",
              "      <td>0</td>\n",
              "      <td>0</td>\n",
              "      <td>...</td>\n",
              "      <td>0</td>\n",
              "      <td>0</td>\n",
              "      <td>0</td>\n",
              "      <td>0</td>\n",
              "      <td>0</td>\n",
              "      <td>0</td>\n",
              "      <td>0</td>\n",
              "      <td>0</td>\n",
              "      <td>0</td>\n",
              "      <td>0</td>\n",
              "      <td>0</td>\n",
              "      <td>0</td>\n",
              "      <td>0</td>\n",
              "      <td>0</td>\n",
              "      <td>0</td>\n",
              "      <td>1</td>\n",
              "      <td>0</td>\n",
              "      <td>0</td>\n",
              "      <td>0</td>\n",
              "      <td>0</td>\n",
              "      <td>0</td>\n",
              "      <td>0</td>\n",
              "      <td>0</td>\n",
              "      <td>0</td>\n",
              "      <td>0</td>\n",
              "      <td>0</td>\n",
              "      <td>1</td>\n",
              "      <td>0</td>\n",
              "      <td>0</td>\n",
              "      <td>0</td>\n",
              "      <td>0</td>\n",
              "      <td>0</td>\n",
              "      <td>0</td>\n",
              "      <td>0</td>\n",
              "      <td>0</td>\n",
              "      <td>0</td>\n",
              "      <td>0</td>\n",
              "      <td>0</td>\n",
              "      <td>1</td>\n",
              "      <td>0</td>\n",
              "    </tr>\n",
              "    <tr>\n",
              "      <th>142299</th>\n",
              "      <td>21.2</td>\n",
              "      <td>32.6</td>\n",
              "      <td>0.0</td>\n",
              "      <td>7.6</td>\n",
              "      <td>8.6</td>\n",
              "      <td>37.0</td>\n",
              "      <td>13.0</td>\n",
              "      <td>11.0</td>\n",
              "      <td>56.0</td>\n",
              "      <td>28.0</td>\n",
              "      <td>1014.6</td>\n",
              "      <td>1011.2</td>\n",
              "      <td>7.0</td>\n",
              "      <td>0.0</td>\n",
              "      <td>24.8</td>\n",
              "      <td>32.0</td>\n",
              "      <td>0</td>\n",
              "      <td>0</td>\n",
              "      <td>0</td>\n",
              "      <td>0</td>\n",
              "      <td>0</td>\n",
              "      <td>0</td>\n",
              "      <td>1</td>\n",
              "      <td>0</td>\n",
              "      <td>0</td>\n",
              "      <td>0</td>\n",
              "      <td>0</td>\n",
              "      <td>0</td>\n",
              "      <td>0</td>\n",
              "      <td>0</td>\n",
              "      <td>0</td>\n",
              "      <td>0</td>\n",
              "      <td>0</td>\n",
              "      <td>0</td>\n",
              "      <td>0</td>\n",
              "      <td>0</td>\n",
              "      <td>0</td>\n",
              "      <td>0</td>\n",
              "      <td>0</td>\n",
              "      <td>0</td>\n",
              "      <td>...</td>\n",
              "      <td>0</td>\n",
              "      <td>0</td>\n",
              "      <td>0</td>\n",
              "      <td>0</td>\n",
              "      <td>0</td>\n",
              "      <td>0</td>\n",
              "      <td>0</td>\n",
              "      <td>0</td>\n",
              "      <td>0</td>\n",
              "      <td>0</td>\n",
              "      <td>0</td>\n",
              "      <td>0</td>\n",
              "      <td>0</td>\n",
              "      <td>0</td>\n",
              "      <td>0</td>\n",
              "      <td>1</td>\n",
              "      <td>0</td>\n",
              "      <td>0</td>\n",
              "      <td>0</td>\n",
              "      <td>0</td>\n",
              "      <td>0</td>\n",
              "      <td>0</td>\n",
              "      <td>0</td>\n",
              "      <td>0</td>\n",
              "      <td>0</td>\n",
              "      <td>0</td>\n",
              "      <td>0</td>\n",
              "      <td>0</td>\n",
              "      <td>0</td>\n",
              "      <td>0</td>\n",
              "      <td>0</td>\n",
              "      <td>1</td>\n",
              "      <td>0</td>\n",
              "      <td>0</td>\n",
              "      <td>0</td>\n",
              "      <td>0</td>\n",
              "      <td>0</td>\n",
              "      <td>0</td>\n",
              "      <td>1</td>\n",
              "      <td>0</td>\n",
              "    </tr>\n",
              "    <tr>\n",
              "      <th>142300</th>\n",
              "      <td>20.7</td>\n",
              "      <td>32.8</td>\n",
              "      <td>0.0</td>\n",
              "      <td>5.6</td>\n",
              "      <td>11.0</td>\n",
              "      <td>33.0</td>\n",
              "      <td>17.0</td>\n",
              "      <td>11.0</td>\n",
              "      <td>46.0</td>\n",
              "      <td>23.0</td>\n",
              "      <td>1015.3</td>\n",
              "      <td>1011.8</td>\n",
              "      <td>0.0</td>\n",
              "      <td>0.0</td>\n",
              "      <td>24.8</td>\n",
              "      <td>32.1</td>\n",
              "      <td>0</td>\n",
              "      <td>0</td>\n",
              "      <td>0</td>\n",
              "      <td>0</td>\n",
              "      <td>0</td>\n",
              "      <td>0</td>\n",
              "      <td>1</td>\n",
              "      <td>0</td>\n",
              "      <td>0</td>\n",
              "      <td>0</td>\n",
              "      <td>0</td>\n",
              "      <td>0</td>\n",
              "      <td>0</td>\n",
              "      <td>0</td>\n",
              "      <td>0</td>\n",
              "      <td>0</td>\n",
              "      <td>0</td>\n",
              "      <td>0</td>\n",
              "      <td>0</td>\n",
              "      <td>0</td>\n",
              "      <td>0</td>\n",
              "      <td>0</td>\n",
              "      <td>0</td>\n",
              "      <td>0</td>\n",
              "      <td>...</td>\n",
              "      <td>0</td>\n",
              "      <td>0</td>\n",
              "      <td>0</td>\n",
              "      <td>0</td>\n",
              "      <td>0</td>\n",
              "      <td>0</td>\n",
              "      <td>1</td>\n",
              "      <td>0</td>\n",
              "      <td>0</td>\n",
              "      <td>0</td>\n",
              "      <td>0</td>\n",
              "      <td>0</td>\n",
              "      <td>0</td>\n",
              "      <td>0</td>\n",
              "      <td>0</td>\n",
              "      <td>0</td>\n",
              "      <td>0</td>\n",
              "      <td>0</td>\n",
              "      <td>0</td>\n",
              "      <td>0</td>\n",
              "      <td>0</td>\n",
              "      <td>0</td>\n",
              "      <td>0</td>\n",
              "      <td>0</td>\n",
              "      <td>0</td>\n",
              "      <td>0</td>\n",
              "      <td>0</td>\n",
              "      <td>0</td>\n",
              "      <td>0</td>\n",
              "      <td>0</td>\n",
              "      <td>0</td>\n",
              "      <td>0</td>\n",
              "      <td>0</td>\n",
              "      <td>0</td>\n",
              "      <td>0</td>\n",
              "      <td>1</td>\n",
              "      <td>0</td>\n",
              "      <td>0</td>\n",
              "      <td>1</td>\n",
              "      <td>0</td>\n",
              "    </tr>\n",
              "    <tr>\n",
              "      <th>142301</th>\n",
              "      <td>19.5</td>\n",
              "      <td>31.8</td>\n",
              "      <td>0.0</td>\n",
              "      <td>6.2</td>\n",
              "      <td>10.6</td>\n",
              "      <td>26.0</td>\n",
              "      <td>9.0</td>\n",
              "      <td>17.0</td>\n",
              "      <td>62.0</td>\n",
              "      <td>58.0</td>\n",
              "      <td>1014.9</td>\n",
              "      <td>1010.7</td>\n",
              "      <td>1.0</td>\n",
              "      <td>1.0</td>\n",
              "      <td>24.8</td>\n",
              "      <td>29.2</td>\n",
              "      <td>0</td>\n",
              "      <td>0</td>\n",
              "      <td>0</td>\n",
              "      <td>0</td>\n",
              "      <td>0</td>\n",
              "      <td>0</td>\n",
              "      <td>1</td>\n",
              "      <td>0</td>\n",
              "      <td>0</td>\n",
              "      <td>0</td>\n",
              "      <td>0</td>\n",
              "      <td>0</td>\n",
              "      <td>0</td>\n",
              "      <td>0</td>\n",
              "      <td>0</td>\n",
              "      <td>0</td>\n",
              "      <td>0</td>\n",
              "      <td>0</td>\n",
              "      <td>0</td>\n",
              "      <td>0</td>\n",
              "      <td>0</td>\n",
              "      <td>0</td>\n",
              "      <td>0</td>\n",
              "      <td>0</td>\n",
              "      <td>...</td>\n",
              "      <td>0</td>\n",
              "      <td>0</td>\n",
              "      <td>0</td>\n",
              "      <td>0</td>\n",
              "      <td>0</td>\n",
              "      <td>0</td>\n",
              "      <td>0</td>\n",
              "      <td>0</td>\n",
              "      <td>0</td>\n",
              "      <td>0</td>\n",
              "      <td>0</td>\n",
              "      <td>0</td>\n",
              "      <td>0</td>\n",
              "      <td>0</td>\n",
              "      <td>0</td>\n",
              "      <td>1</td>\n",
              "      <td>0</td>\n",
              "      <td>0</td>\n",
              "      <td>0</td>\n",
              "      <td>0</td>\n",
              "      <td>0</td>\n",
              "      <td>0</td>\n",
              "      <td>0</td>\n",
              "      <td>0</td>\n",
              "      <td>0</td>\n",
              "      <td>0</td>\n",
              "      <td>0</td>\n",
              "      <td>0</td>\n",
              "      <td>1</td>\n",
              "      <td>0</td>\n",
              "      <td>0</td>\n",
              "      <td>0</td>\n",
              "      <td>0</td>\n",
              "      <td>0</td>\n",
              "      <td>0</td>\n",
              "      <td>0</td>\n",
              "      <td>0</td>\n",
              "      <td>0</td>\n",
              "      <td>1</td>\n",
              "      <td>0</td>\n",
              "    </tr>\n",
              "    <tr>\n",
              "      <th>142302</th>\n",
              "      <td>20.2</td>\n",
              "      <td>31.7</td>\n",
              "      <td>0.0</td>\n",
              "      <td>5.6</td>\n",
              "      <td>10.7</td>\n",
              "      <td>30.0</td>\n",
              "      <td>15.0</td>\n",
              "      <td>7.0</td>\n",
              "      <td>73.0</td>\n",
              "      <td>32.0</td>\n",
              "      <td>1013.9</td>\n",
              "      <td>1009.7</td>\n",
              "      <td>6.0</td>\n",
              "      <td>5.0</td>\n",
              "      <td>25.4</td>\n",
              "      <td>31.0</td>\n",
              "      <td>0</td>\n",
              "      <td>0</td>\n",
              "      <td>0</td>\n",
              "      <td>0</td>\n",
              "      <td>0</td>\n",
              "      <td>0</td>\n",
              "      <td>1</td>\n",
              "      <td>0</td>\n",
              "      <td>0</td>\n",
              "      <td>0</td>\n",
              "      <td>0</td>\n",
              "      <td>0</td>\n",
              "      <td>0</td>\n",
              "      <td>0</td>\n",
              "      <td>0</td>\n",
              "      <td>0</td>\n",
              "      <td>0</td>\n",
              "      <td>0</td>\n",
              "      <td>0</td>\n",
              "      <td>0</td>\n",
              "      <td>0</td>\n",
              "      <td>0</td>\n",
              "      <td>0</td>\n",
              "      <td>0</td>\n",
              "      <td>...</td>\n",
              "      <td>0</td>\n",
              "      <td>0</td>\n",
              "      <td>0</td>\n",
              "      <td>0</td>\n",
              "      <td>0</td>\n",
              "      <td>0</td>\n",
              "      <td>0</td>\n",
              "      <td>1</td>\n",
              "      <td>0</td>\n",
              "      <td>0</td>\n",
              "      <td>0</td>\n",
              "      <td>0</td>\n",
              "      <td>0</td>\n",
              "      <td>0</td>\n",
              "      <td>0</td>\n",
              "      <td>0</td>\n",
              "      <td>0</td>\n",
              "      <td>0</td>\n",
              "      <td>0</td>\n",
              "      <td>0</td>\n",
              "      <td>0</td>\n",
              "      <td>0</td>\n",
              "      <td>0</td>\n",
              "      <td>0</td>\n",
              "      <td>0</td>\n",
              "      <td>0</td>\n",
              "      <td>0</td>\n",
              "      <td>0</td>\n",
              "      <td>1</td>\n",
              "      <td>0</td>\n",
              "      <td>0</td>\n",
              "      <td>0</td>\n",
              "      <td>0</td>\n",
              "      <td>0</td>\n",
              "      <td>0</td>\n",
              "      <td>0</td>\n",
              "      <td>0</td>\n",
              "      <td>0</td>\n",
              "      <td>1</td>\n",
              "      <td>0</td>\n",
              "    </tr>\n",
              "  </tbody>\n",
              "</table>\n",
              "<p>56420 rows × 92 columns</p>\n",
              "</div>"
            ],
            "text/plain": [
              "        MinTemp  MaxTemp  Rainfall  Evaporation  Sunshine  ...  W  WNW  WSW  No  Yes\n",
              "6049       17.9     35.2       0.0         12.0      12.3  ...  0    0    0   1    0\n",
              "6050       18.4     28.9       0.0         14.8      13.0  ...  0    0    0   1    0\n",
              "6052       19.4     37.6       0.0         10.8      10.6  ...  0    0    0   1    0\n",
              "6053       21.9     38.4       0.0         11.4      12.2  ...  0    0    1   1    0\n",
              "6054       24.2     41.0       0.0         11.2       8.4  ...  0    1    0   1    0\n",
              "...         ...      ...       ...          ...       ...  ... ..  ...  ...  ..  ...\n",
              "142298     19.3     33.4       0.0          6.0      11.0  ...  0    0    0   1    0\n",
              "142299     21.2     32.6       0.0          7.6       8.6  ...  0    0    0   1    0\n",
              "142300     20.7     32.8       0.0          5.6      11.0  ...  1    0    0   1    0\n",
              "142301     19.5     31.8       0.0          6.2      10.6  ...  0    0    0   1    0\n",
              "142302     20.2     31.7       0.0          5.6      10.7  ...  0    0    0   1    0\n",
              "\n",
              "[56420 rows x 92 columns]"
            ]
          },
          "metadata": {},
          "execution_count": 27
        }
      ],
      "source": [
        "df3"
      ]
    },
    {
      "cell_type": "code",
      "execution_count": null,
      "metadata": {
        "id": "dXeBJWrCiLHo"
      },
      "outputs": [],
      "source": [
        "X_train, X_test, y_train, y_test = train_test_split(X, y, test_size=0.2, random_state=42)"
      ]
    },
    {
      "cell_type": "code",
      "source": [
        "clf = RandomForestClassifier()"
      ],
      "metadata": {
        "id": "_0fxw82BexeW"
      },
      "execution_count": null,
      "outputs": []
    },
    {
      "cell_type": "code",
      "source": [
        "clf.fit(X_train, y_train)"
      ],
      "metadata": {
        "colab": {
          "base_uri": "https://localhost:8080/"
        },
        "id": "Zfw_rAh67JLV",
        "outputId": "adda151b-f7e5-48b5-b0b7-73146d276941"
      },
      "execution_count": null,
      "outputs": [
        {
          "output_type": "execute_result",
          "data": {
            "text/plain": [
              "RandomForestClassifier()"
            ]
          },
          "metadata": {},
          "execution_count": 39
        }
      ]
    },
    {
      "cell_type": "code",
      "source": [
        "y_pred = clf.predict(X_test)\n",
        "accuracy_score(y_test,y_pred)"
      ],
      "metadata": {
        "colab": {
          "base_uri": "https://localhost:8080/"
        },
        "id": "PkWzBAEm7HtN",
        "outputId": "8cd9a46e-0a05-4c7a-c21d-c52147e5efb4"
      },
      "execution_count": null,
      "outputs": [
        {
          "output_type": "execute_result",
          "data": {
            "text/plain": [
              "0.859092520382843"
            ]
          },
          "metadata": {},
          "execution_count": 40
        }
      ]
    },
    {
      "cell_type": "markdown",
      "source": [
        "### Compare SVM"
      ],
      "metadata": {
        "id": "wJ3TPxswgUR8"
      }
    },
    {
      "cell_type": "code",
      "source": [
        "svm =  make_pipeline(StandardScaler(), SVC())"
      ],
      "metadata": {
        "id": "dD35fULlgUR8"
      },
      "execution_count": null,
      "outputs": []
    },
    {
      "cell_type": "code",
      "source": [
        "svm.fit(X_train, y_train)"
      ],
      "metadata": {
        "colab": {
          "base_uri": "https://localhost:8080/"
        },
        "outputId": "5900e2f3-31d7-463e-eac1-c6793c59a525",
        "id": "Hnht49Z3gUR8"
      },
      "execution_count": null,
      "outputs": [
        {
          "output_type": "execute_result",
          "data": {
            "text/plain": [
              "Pipeline(steps=[('standardscaler', StandardScaler()), ('svc', SVC())])"
            ]
          },
          "metadata": {},
          "execution_count": 106
        }
      ]
    },
    {
      "cell_type": "code",
      "source": [
        "y_pred = svm.predict(X_test)"
      ],
      "metadata": {
        "id": "BrhK2P2hgUR8"
      },
      "execution_count": null,
      "outputs": []
    },
    {
      "cell_type": "code",
      "source": [
        "accuracy_score(y_test,y_pred)"
      ],
      "metadata": {
        "colab": {
          "base_uri": "https://localhost:8080/"
        },
        "outputId": "bc8fe38c-f732-478c-e269-8354abfefe30",
        "id": "vrTYJTUZgUR8"
      },
      "execution_count": null,
      "outputs": [
        {
          "output_type": "execute_result",
          "data": {
            "text/plain": [
              "0.8652959943282524"
            ]
          },
          "metadata": {},
          "execution_count": 108
        }
      ]
    },
    {
      "cell_type": "markdown",
      "source": [
        "### Grid Search"
      ],
      "metadata": {
        "id": "K_WaggZ4dtiH"
      }
    },
    {
      "cell_type": "code",
      "source": [
        "# Tạo các mảng các giá trị của siêu tham số\n",
        "max_features_range = np.arange(1,6,1)\n",
        "n_estimators_range = np.arange(10,300,10)\n",
        "max_leaf_nodes_range = np.arange(2,35,1)"
      ],
      "metadata": {
        "id": "eX1M0GDRd42y"
      },
      "execution_count": null,
      "outputs": []
    },
    {
      "cell_type": "code",
      "source": [
        "# Tạo một lưới các tham số\n",
        "param_grid = dict(max_features=max_features_range, \n",
        "                  n_estimators=n_estimators_range,\n",
        "                  max_leaf_nodes=max_leaf_nodes_range)"
      ],
      "metadata": {
        "id": "gRQ1Kt4Qd42y"
      },
      "execution_count": null,
      "outputs": []
    },
    {
      "cell_type": "code",
      "source": [
        "# Khởi tạo mô hình cần tối ưu hóa các siêu tham số\n",
        "rf = RandomForestClassifier()"
      ],
      "metadata": {
        "id": "sQkN_wGxd42z"
      },
      "execution_count": null,
      "outputs": []
    },
    {
      "cell_type": "code",
      "source": [
        "# Sử dụng hàm GridSearch của thư viện sklearn để điểu chỉnh siêu tham số\n",
        "grid = GridSearchCV(estimator=rf, param_grid=param_grid, scoring='roc_auc', cv=5)"
      ],
      "metadata": {
        "id": "fKyKAwz0d42z"
      },
      "execution_count": null,
      "outputs": []
    },
    {
      "cell_type": "code",
      "source": [
        "# Tiến hành đào tạo\n",
        "grid.fit(X_train, y_train)"
      ],
      "metadata": {
        "id": "kHMZwQqod42z"
      },
      "execution_count": null,
      "outputs": []
    },
    {
      "cell_type": "code",
      "source": [
        "# In ra kết quả\n",
        "print(\"The best parameters are %s with a score of %0.2f\"\n",
        "      % (grid.best_params_, grid.best_score_))"
      ],
      "metadata": {
        "id": "KA7bS1d_d42z"
      },
      "execution_count": null,
      "outputs": []
    },
    {
      "cell_type": "markdown",
      "source": [
        "### GA Search"
      ],
      "metadata": {
        "id": "TDuVHMSDdxQd"
      }
    },
    {
      "cell_type": "code",
      "execution_count": null,
      "metadata": {
        "id": "wEemvaz6iPU_"
      },
      "outputs": [],
      "source": [
        "param_grid = {'min_weight_fraction_leaf': Continuous(0.01, 0.5, distribution='log-uniform'),\n",
        "              'bootstrap': Categorical([True, False]),\n",
        "              'max_depth': Integer(2, 30), \n",
        "              'criterion': Categorical(['gini', 'entropy']),\n",
        "              'max_features': Categorical(['auto', 'sqrt', 'log2']),\n",
        "              'max_leaf_nodes': Integer(2, 35), \n",
        "              'n_estimators': Integer(10, 300)}"
      ]
    },
    {
      "cell_type": "code",
      "execution_count": null,
      "metadata": {
        "id": "O-Sl4j4vi7zg"
      },
      "outputs": [],
      "source": [
        "clf = RandomForestClassifier()"
      ]
    },
    {
      "cell_type": "code",
      "execution_count": null,
      "metadata": {
        "id": "WRccLYN0i-6o"
      },
      "outputs": [],
      "source": [
        "cv = StratifiedKFold(n_splits=3, shuffle=True)"
      ]
    },
    {
      "cell_type": "code",
      "execution_count": null,
      "metadata": {
        "id": "mS6Z7FE_jB3n"
      },
      "outputs": [],
      "source": [
        "evolved_estimator = GASearchCV(estimator=clf,\n",
        "                               cv=cv,\n",
        "                               scoring='accuracy',\n",
        "                               population_size=10,\n",
        "                               generations=25,\n",
        "                               tournament_size=3,\n",
        "                               elitism=True,\n",
        "                               crossover_probability=0.8,\n",
        "                               mutation_probability=0.1,\n",
        "                               param_grid=param_grid,\n",
        "                               criteria='max',\n",
        "                               algorithm='eaMuPlusLambda',\n",
        "                               n_jobs=-1,\n",
        "                               verbose=True,\n",
        "                               keep_top_k=4)"
      ]
    },
    {
      "cell_type": "code",
      "execution_count": null,
      "metadata": {
        "colab": {
          "base_uri": "https://localhost:8080/"
        },
        "outputId": "64711a5d-63fa-4a25-9f39-5299d6deff04",
        "id": "6A1F9_lpmUoT"
      },
      "outputs": [
        {
          "output_type": "stream",
          "name": "stdout",
          "text": [
            "gen\tnevals\tfitness\tfitness_std\tfitness_max\tfitness_min\n",
            "0  \t10    \t0.79591\t0.0207385  \t0.835741   \t0.779732   \n",
            "1  \t20    \t0.822616\t0.0166408  \t0.838311   \t0.779732   \n",
            "2  \t17    \t0.826799\t0.00850767 \t0.838311   \t0.816488   \n",
            "3  \t20    \t0.833485\t0.00591147 \t0.837934   \t0.817308   \n",
            "4  \t18    \t0.836275\t0.000907253\t0.837934   \t0.834434   \n",
            "5  \t19    \t0.836999\t0.000652208\t0.837934   \t0.835918   \n",
            "6  \t18    \t0.836787\t0.000412195\t0.837269   \t0.835918   \n",
            "7  \t17    \t0.836789\t0.000525212\t0.837269   \t0.835852   \n",
            "8  \t19    \t0.836771\t0.000447942\t0.837269   \t0.836162   \n",
            "9  \t18    \t0.837227\t0.000434207\t0.837691   \t0.836516   \n",
            "10 \t17    \t0.837086\t0.00038691 \t0.837624   \t0.836406   \n",
            "11 \t15    \t0.83734 \t0.00030016 \t0.837757   \t0.836849   \n",
            "12 \t15    \t0.837223\t0.00053606 \t0.837757   \t0.835697   \n",
            "13 \t19    \t0.837119\t0.000490884\t0.837668   \t0.836206   \n",
            "14 \t19    \t0.837469\t0.000794593\t0.838444   \t0.835852   \n",
            "15 \t17    \t0.83742 \t0.000772565\t0.838599   \t0.836118   \n",
            "16 \t16    \t0.837792\t0.000763349\t0.838599   \t0.83645    \n",
            "17 \t16    \t0.838012\t0.000956455\t0.838599   \t0.835409   \n",
            "18 \t17    \t0.837846\t0.000898705\t0.838599   \t0.836118   \n",
            "19 \t20    \t0.837934\t0.000945026\t0.838599   \t0.836118   \n",
            "20 \t18    \t0.837571\t0.00124829 \t0.838843   \t0.835652   \n",
            "21 \t20    \t0.837434\t0.00115826 \t0.838843   \t0.835652   \n",
            "22 \t20    \t0.837792\t0.00087753 \t0.838843   \t0.835962   \n",
            "23 \t18    \t0.838344\t0.000140561\t0.838488   \t0.837934   \n",
            "24 \t16    \t0.838007\t0.000744759\t0.838377   \t0.836339   \n",
            "25 \t17    \t0.838373\t1.32979e-05\t0.838377   \t0.838333   \n",
            "26 \t17    \t0.83822 \t0.000388146\t0.838466   \t0.837181   \n",
            "27 \t18    \t0.837925\t0.000566982\t0.838466   \t0.837048   \n",
            "28 \t20    \t0.837391\t0.00064827 \t0.838377   \t0.836383   \n",
            "29 \t19    \t0.836946\t0.000543041\t0.838001   \t0.836117   \n",
            "30 \t18    \t0.837411\t0.000509173\t0.838001   \t0.83645    \n",
            "31 \t18    \t0.837438\t0.000395476\t0.838001   \t0.836516   \n",
            "32 \t16    \t0.837309\t0.000817604\t0.838001   \t0.834899   \n",
            "33 \t15    \t0.837411\t0.000579112\t0.838001   \t0.835785   \n",
            "34 \t18    \t0.837885\t0.000348294\t0.83851    \t0.837425   \n",
            "35 \t18    \t0.837879\t0.000467707\t0.83851    \t0.837159   \n",
            "36 \t18    \t0.838118\t0.000416461\t0.83871    \t0.837558   \n",
            "37 \t18    \t0.838116\t0.000657422\t0.838532   \t0.836361   \n",
            "38 \t18    \t0.838138\t0.000511472\t0.83851    \t0.836871   \n",
            "39 \t18    \t0.837691\t0.000975471\t0.838643   \t0.836339   \n",
            "40 \t16    \t0.838493\t0.000497182\t0.838776   \t0.837026   \n",
            "41 \t17    \t0.838391\t0.000622924\t0.838776   \t0.836716   \n",
            "42 \t19    \t0.838143\t0.000745449\t0.838776   \t0.836716   \n",
            "43 \t18    \t0.838041\t0.000716891\t0.838776   \t0.836716   \n",
            "44 \t14    \t0.838577\t0.000177517\t0.838776   \t0.838178   \n",
            "45 \t18    \t0.838344\t0.000649275\t0.838776   \t0.836605   \n"
          ]
        },
        {
          "output_type": "execute_result",
          "data": {
            "text/plain": [
              "GASearchCV(cv=StratifiedKFold(n_splits=3, random_state=None, shuffle=True),\n",
              "           estimator=RandomForestClassifier(max_depth=16, max_leaf_nodes=22,\n",
              "                                            min_weight_fraction_leaf=0.01647085677417005,\n",
              "                                            n_estimators=87),\n",
              "           generations=45, keep_top_k=4, n_jobs=-1,\n",
              "           param_grid={'bootstrap': <sklearn_genetic.space.space.Categorical object at 0x7f09d0f61dd0>,\n",
              "                       'criterion': <sklearn_gene...\n",
              "                       'max_features': <sklearn_genetic.space.space.Categorical object at 0x7f09ed7514d0>,\n",
              "                       'max_leaf_nodes': <sklearn_genetic.space.space.Integer object at 0x7f09d0f156d0>,\n",
              "                       'min_weight_fraction_leaf': <sklearn_genetic.space.space.Continuous object at 0x7f09d0f76110>,\n",
              "                       'n_estimators': <sklearn_genetic.space.space.Integer object at 0x7f09d0f15590>},\n",
              "           return_train_score=True, scoring='accuracy')"
            ]
          },
          "metadata": {},
          "execution_count": 13
        }
      ],
      "source": [
        "evolved_estimator.fit(X_train,y_train)"
      ]
    },
    {
      "cell_type": "code",
      "execution_count": null,
      "metadata": {
        "id": "bY3ux4JHmUoU"
      },
      "outputs": [],
      "source": [
        "y_predicy_ga = evolved_estimator.predict(X_test)"
      ]
    },
    {
      "cell_type": "code",
      "execution_count": null,
      "metadata": {
        "colab": {
          "base_uri": "https://localhost:8080/"
        },
        "outputId": "94eb2082-67e9-40de-9af0-0c94388195d1",
        "id": "i5Me4fulmUoU"
      },
      "outputs": [
        {
          "output_type": "execute_result",
          "data": {
            "text/plain": [
              "0.8373803615739099"
            ]
          },
          "metadata": {},
          "execution_count": 15
        }
      ],
      "source": [
        "accuracy_score(y_test,y_predicy_ga)"
      ]
    },
    {
      "cell_type": "code",
      "source": [
        "accuracy_score(y_train, evolved_estimator.predict(X_train))"
      ],
      "metadata": {
        "colab": {
          "base_uri": "https://localhost:8080/"
        },
        "id": "67mAXxsAlkW0",
        "outputId": "24d6d2ea-4983-4dcd-e011-e1c42f549882"
      },
      "execution_count": null,
      "outputs": [
        {
          "output_type": "execute_result",
          "data": {
            "text/plain": [
              "0.8383995037220844"
            ]
          },
          "metadata": {},
          "execution_count": 17
        }
      ]
    },
    {
      "cell_type": "code",
      "execution_count": null,
      "metadata": {
        "colab": {
          "base_uri": "https://localhost:8080/",
          "height": 627
        },
        "outputId": "f15dcc05-5e27-4c39-a555-5a6e16a25826",
        "id": "L1n84MxImUoV"
      },
      "outputs": [
        {
          "output_type": "display_data",
          "data": {
            "image/png": "[encoded data removed]",
            "text/plain": [
              "<Figure size 720x720 with 1 Axes>"
            ]
          },
          "metadata": {}
        }
      ],
      "source": [
        "plot_fitness_evolution(evolved_estimator)\n",
        "plt.show()"
      ]
    },
    {
      "cell_type": "code",
      "execution_count": null,
      "metadata": {
        "colab": {
          "base_uri": "https://localhost:8080/"
        },
        "outputId": "7840d034-691d-4ed9-b54c-d42d84912d63",
        "id": "v6Ttnx2qmUoV"
      },
      "outputs": [
        {
          "output_type": "execute_result",
          "data": {
            "text/plain": [
              "RandomForestClassifier(max_depth=16, max_leaf_nodes=22,\n",
              "                       min_weight_fraction_leaf=0.01647085677417005,\n",
              "                       n_estimators=87)"
            ]
          },
          "metadata": {},
          "execution_count": 18
        }
      ],
      "source": [
        "evolved_estimator.best_estimator_"
      ]
    },
    {
      "cell_type": "code",
      "execution_count": null,
      "metadata": {
        "colab": {
          "base_uri": "https://localhost:8080/"
        },
        "outputId": "fecd1332-7f2c-4760-861c-b7dfbbb24d86",
        "id": "fSRTUEG1mUoV"
      },
      "outputs": [
        {
          "output_type": "execute_result",
          "data": {
            "text/plain": [
              "{'bootstrap': True,\n",
              " 'criterion': 'gini',\n",
              " 'max_depth': 16,\n",
              " 'max_features': 'auto',\n",
              " 'max_leaf_nodes': 22,\n",
              " 'min_weight_fraction_leaf': 0.01647085677417005,\n",
              " 'n_estimators': 87}"
            ]
          },
          "metadata": {},
          "execution_count": 19
        }
      ],
      "source": [
        "evolved_estimator.best_params_"
      ]
    },
    {
      "cell_type": "code",
      "execution_count": null,
      "metadata": {
        "colab": {
          "base_uri": "https://localhost:8080/"
        },
        "outputId": "ec0e294d-dceb-4937-8654-586f7af616c7",
        "id": "zA34rdP8mUoV"
      },
      "outputs": [
        {
          "output_type": "stream",
          "name": "stdout",
          "text": [
            "Best k solutions:\n"
          ]
        },
        {
          "output_type": "execute_result",
          "data": {
            "text/plain": [
              "{0: {'bootstrap': True,\n",
              "  'criterion': 'gini',\n",
              "  'max_depth': 16,\n",
              "  'max_features': 'auto',\n",
              "  'max_leaf_nodes': 22,\n",
              "  'min_weight_fraction_leaf': 0.01647085677417005,\n",
              "  'n_estimators': 87},\n",
              " 1: {'bootstrap': True,\n",
              "  'criterion': 'gini',\n",
              "  'max_depth': 30,\n",
              "  'max_features': 'sqrt',\n",
              "  'max_leaf_nodes': 27,\n",
              "  'min_weight_fraction_leaf': 0.01647085677417005,\n",
              "  'n_estimators': 87},\n",
              " 2: {'bootstrap': True,\n",
              "  'criterion': 'gini',\n",
              "  'max_depth': 16,\n",
              "  'max_features': 'auto',\n",
              "  'max_leaf_nodes': 22,\n",
              "  'min_weight_fraction_leaf': 0.01647085677417005,\n",
              "  'n_estimators': 87},\n",
              " 3: {'bootstrap': False,\n",
              "  'criterion': 'gini',\n",
              "  'max_depth': 14,\n",
              "  'max_features': 'sqrt',\n",
              "  'max_leaf_nodes': 26,\n",
              "  'min_weight_fraction_leaf': 0.01647085677417005,\n",
              "  'n_estimators': 21}}"
            ]
          },
          "metadata": {},
          "execution_count": 20
        }
      ],
      "source": [
        "print(\"Best k solutions:\")\n",
        "evolved_estimator.hof"
      ]
    },
    {
      "cell_type": "code",
      "source": [
        "plot_search_space(evolved_estimator)\n",
        "plt.show()"
      ],
      "metadata": {
        "colab": {
          "base_uri": "https://localhost:8080/",
          "height": 864
        },
        "id": "YmtHxEqymE_B",
        "outputId": "2e36e878-bd5e-44e3-ede1-18e4aad7508c"
      },
      "execution_count": null,
      "outputs": [
        {
          "output_type": "display_data",
          "data": {
            "image/png": "[encoded data removed]",
            "text/plain": [
              "<Figure size 864x864 with 42 Axes>"
            ]
          },
          "metadata": {}
        }
      ]
    },
    {
      "cell_type": "markdown",
      "metadata": {
        "id": "Ar-6xMsh4wkL"
      },
      "source": [
        "###Tuning Using Evolutionary Algorithms"
      ]
    },
    {
      "cell_type": "code",
      "execution_count": null,
      "metadata": {
        "colab": {
          "base_uri": "https://localhost:8080/"
        },
        "id": "R2aGh0yi4wkL",
        "outputId": "9c8f94b7-57ee-404f-d21f-c2c45309e1bd"
      },
      "outputs": [
        {
          "output_type": "stream",
          "name": "stdout",
          "text": [
            "512\n",
            "0.844381464477733\n",
            "768\n",
            "0.8449352552788147\n",
            "1024\n",
            "0.8449352552788147\n",
            "1280\n",
            "0.8449352552788147\n"
          ]
        }
      ],
      "source": [
        "tic = time.perf_counter()\n",
        "fobj = open('/content/drive/MyDrive/LogForPython/weatherAUS.txt', 'w')\n",
        "fobj.write(\"number gen,num of evaluations,min weight fraction leaf,bootstrap,max depth,criterion,max features,max leaf nodes,n estimators,fitness\\n\")\n",
        "result_and_allParamater = DE(RandomforestWithK_fold,Randomforest, bounds = [(0,0.5),(1,2),(2,30),(1,2),(1,3),(2,35),(10,300)], popsize=256, max_evaluation=1300)\n",
        "fobj.close()\n",
        "toc = time.perf_counter()"
      ]
    },
    {
      "cell_type": "code",
      "execution_count": null,
      "metadata": {
        "id": "VDno0AqI4wkL",
        "colab": {
          "base_uri": "https://localhost:8080/"
        },
        "outputId": "f24bc76c-03f2-4db3-f1d0-d9ab6d75d1c1"
      },
      "outputs": [
        {
          "output_type": "stream",
          "name": "stdout",
          "text": [
            "(5, 2)\n",
            "[(array([4.46541036e-03, 1.89868144e+00, 1.78927268e+01, 1.24814592e+00,\n",
            "       2.35941116e+00, 2.26475991e+01, 2.98960998e+01]), 0.8419221339575031), (array([  0.        ,   1.6303061 ,  15.53773179,   1.12204941,\n",
            "         1.51096613,  35.        , 222.10096115]), 0.844381464477733), (array([ 0.        ,  1.        , 27.96791858,  1.26834946,  1.        ,\n",
            "       35.        , 86.527974  ]), 0.8449352552788147), (array([ 0.        ,  1.        , 27.96791858,  1.26834946,  1.        ,\n",
            "       35.        , 86.527974  ]), 0.8449352552788147), (array([ 0.        ,  1.        , 27.96791858,  1.26834946,  1.        ,\n",
            "       35.        , 86.527974  ]), 0.8449352552788147)]\n",
            "0.8419221339575031\n",
            "0.844381464477733\n",
            "0.8449352552788147\n",
            "0.8449352552788147\n",
            "0.8449352552788147\n"
          ]
        },
        {
          "output_type": "stream",
          "name": "stderr",
          "text": [
            "/usr/local/lib/python3.7/dist-packages/numpy/core/_asarray.py:83: VisibleDeprecationWarning: Creating an ndarray from ragged nested sequences (which is a list-or-tuple of lists-or-tuples-or ndarrays with different lengths or shapes) is deprecated. If you meant to do this, you must specify 'dtype=object' when creating the ndarray\n",
            "  return array(a, dtype, copy=False, order=order)\n"
          ]
        }
      ],
      "source": [
        "result = result_and_allParamater[0]\n",
        "print(np.asarray(result).shape)\n",
        "print(result)\n",
        "for res in result:\n",
        "  print(res[-1])"
      ]
    },
    {
      "cell_type": "code",
      "execution_count": null,
      "metadata": {
        "id": "QXRypC0n4wkM",
        "colab": {
          "base_uri": "https://localhost:8080/"
        },
        "outputId": "cdddc9b0-801c-4e50-d06e-ac94d6975610"
      },
      "outputs": [
        {
          "output_type": "execute_result",
          "data": {
            "text/plain": [
              "[0.0,\n",
              " True,\n",
              " 28,\n",
              " 'gini',\n",
              " 'auto',\n",
              " 35,\n",
              " 87,\n",
              " 0.8423431407302375,\n",
              " array([0.97408796, 0.37585513]),\n",
              " array([0.84676941, 0.80378657]),\n",
              " array([0.90597749, 0.51220181]),\n",
              " array([[8571,  228],\n",
              "        [1551,  934]]),\n",
              " array(['No', 'No', 'No', ..., 'No', 'No', 'No'], dtype=object)]"
            ]
          },
          "metadata": {},
          "execution_count": 17
        }
      ],
      "source": [
        "all_paramater = result_and_allParamater[1]\n",
        "all_paramater\n",
        "#[min_weight_fraction_leaf, bootstrap,max_depth,criterion,max_features,max_leaf_nodes,n_estimators,accuracy_score,recall_score,precision_score,f1_score,confusion_matrix]"
      ]
    },
    {
      "cell_type": "code",
      "execution_count": null,
      "metadata": {
        "id": "giZ-Jk4z4wkM",
        "colab": {
          "base_uri": "https://localhost:8080/"
        },
        "outputId": "f1b401f3-4d67-40de-9bab-a607bc7535d0"
      },
      "outputs": [
        {
          "output_type": "stream",
          "name": "stdout",
          "text": [
            "Accuracy: 0.8423431407302375\n"
          ]
        }
      ],
      "source": [
        "print(f\"Accuracy: {all_paramater[7]}\")"
      ]
    },
    {
      "cell_type": "code",
      "execution_count": null,
      "metadata": {
        "id": "wUaYQpkp4wkM",
        "colab": {
          "base_uri": "https://localhost:8080/"
        },
        "outputId": "429afd5b-fc99-4bd6-d62f-854d44ded8e1"
      },
      "outputs": [
        {
          "output_type": "stream",
          "name": "stdout",
          "text": [
            "second:14888.225822757999-minute:248.13709704596664\n"
          ]
        }
      ],
      "source": [
        "time_run = toc-tic\n",
        "print(f\"second:{time_run}-minute:{time_run/60}\")"
      ]
    },
    {
      "cell_type": "markdown",
      "source": [
        "## Compare Decision tree"
      ],
      "metadata": {
        "id": "oDT8Z3wYXn8f"
      }
    },
    {
      "cell_type": "code",
      "source": [
        "tic = time.perf_counter()\n",
        "print(Randomforest(0.0,False,26,'gini','sqrt',35,117)[7])\n",
        "toc = time.perf_counter()\n",
        "print(toc-tic)"
      ],
      "metadata": {
        "colab": {
          "base_uri": "https://localhost:8080/"
        },
        "outputId": "4c045bdf-b0ed-476a-beac-d40d87e764a2",
        "id": "ooKIxaPKXn8g"
      },
      "execution_count": null,
      "outputs": [
        {
          "output_type": "stream",
          "name": "stdout",
          "text": [
            "0.8449131513647643\n",
            "6.332236805000321\n"
          ]
        }
      ]
    },
    {
      "cell_type": "code",
      "source": [
        "\n",
        "from sklearn.tree import DecisionTreeClassifier\n",
        "tic = time.perf_counter()\n",
        "clf = DecisionTreeClassifier()\n",
        "clf.fit(X_train, y_train)\n",
        "y_pred = clf.predict(X_test)\n",
        "toc = time.perf_counter()\n",
        "print(metrics.accuracy_score(y_test, y_pred))\n",
        "print(toc-tic)"
      ],
      "metadata": {
        "colab": {
          "base_uri": "https://localhost:8080/"
        },
        "outputId": "3f4c5a76-83ae-4e88-e901-79be1f4ad042",
        "id": "Y1wW95kxXn8h"
      },
      "execution_count": null,
      "outputs": [
        {
          "output_type": "stream",
          "name": "stdout",
          "text": [
            "0.7988302020560085\n",
            "1.3588169730001027\n"
          ]
        }
      ]
    },
    {
      "cell_type": "markdown",
      "metadata": {
        "id": "ORbLQWuGrMv2"
      },
      "source": [
        "# winequality-red.csv"
      ]
    },
    {
      "cell_type": "code",
      "execution_count": 14,
      "metadata": {
        "id": "rG8_fliZrGx-"
      },
      "outputs": [],
      "source": [
        "df4 = pd.read_csv(file_paths[4])\n",
        "df4 = df4.dropna()"
      ]
    },
    {
      "cell_type": "code",
      "source": [
        "df4.head(5)"
      ],
      "metadata": {
        "colab": {
          "base_uri": "https://localhost:8080/",
          "height": 223
        },
        "id": "3VRIbuUCxfwS",
        "outputId": "375d3893-b452-4f79-ce71-f56625e350ec"
      },
      "execution_count": 15,
      "outputs": [
        {
          "output_type": "execute_result",
          "data": {
            "text/html": [
              "<div>\n",
              "<style scoped>\n",
              "    .dataframe tbody tr th:only-of-type {\n",
              "        vertical-align: middle;\n",
              "    }\n",
              "\n",
              "    .dataframe tbody tr th {\n",
              "        vertical-align: top;\n",
              "    }\n",
              "\n",
              "    .dataframe thead th {\n",
              "        text-align: right;\n",
              "    }\n",
              "</style>\n",
              "<table border=\"1\" class=\"dataframe\">\n",
              "  <thead>\n",
              "    <tr style=\"text-align: right;\">\n",
              "      <th></th>\n",
              "      <th>fixed acidity</th>\n",
              "      <th>volatile acidity</th>\n",
              "      <th>citric acid</th>\n",
              "      <th>residual sugar</th>\n",
              "      <th>chlorides</th>\n",
              "      <th>free sulfur dioxide</th>\n",
              "      <th>total sulfur dioxide</th>\n",
              "      <th>density</th>\n",
              "      <th>pH</th>\n",
              "      <th>sulphates</th>\n",
              "      <th>alcohol</th>\n",
              "      <th>quality</th>\n",
              "    </tr>\n",
              "  </thead>\n",
              "  <tbody>\n",
              "    <tr>\n",
              "      <th>0</th>\n",
              "      <td>7.4</td>\n",
              "      <td>0.70</td>\n",
              "      <td>0.00</td>\n",
              "      <td>1.9</td>\n",
              "      <td>0.076</td>\n",
              "      <td>11.0</td>\n",
              "      <td>34.0</td>\n",
              "      <td>0.9978</td>\n",
              "      <td>3.51</td>\n",
              "      <td>0.56</td>\n",
              "      <td>9.4</td>\n",
              "      <td>5</td>\n",
              "    </tr>\n",
              "    <tr>\n",
              "      <th>1</th>\n",
              "      <td>7.8</td>\n",
              "      <td>0.88</td>\n",
              "      <td>0.00</td>\n",
              "      <td>2.6</td>\n",
              "      <td>0.098</td>\n",
              "      <td>25.0</td>\n",
              "      <td>67.0</td>\n",
              "      <td>0.9968</td>\n",
              "      <td>3.20</td>\n",
              "      <td>0.68</td>\n",
              "      <td>9.8</td>\n",
              "      <td>5</td>\n",
              "    </tr>\n",
              "    <tr>\n",
              "      <th>2</th>\n",
              "      <td>7.8</td>\n",
              "      <td>0.76</td>\n",
              "      <td>0.04</td>\n",
              "      <td>2.3</td>\n",
              "      <td>0.092</td>\n",
              "      <td>15.0</td>\n",
              "      <td>54.0</td>\n",
              "      <td>0.9970</td>\n",
              "      <td>3.26</td>\n",
              "      <td>0.65</td>\n",
              "      <td>9.8</td>\n",
              "      <td>5</td>\n",
              "    </tr>\n",
              "    <tr>\n",
              "      <th>3</th>\n",
              "      <td>11.2</td>\n",
              "      <td>0.28</td>\n",
              "      <td>0.56</td>\n",
              "      <td>1.9</td>\n",
              "      <td>0.075</td>\n",
              "      <td>17.0</td>\n",
              "      <td>60.0</td>\n",
              "      <td>0.9980</td>\n",
              "      <td>3.16</td>\n",
              "      <td>0.58</td>\n",
              "      <td>9.8</td>\n",
              "      <td>6</td>\n",
              "    </tr>\n",
              "    <tr>\n",
              "      <th>4</th>\n",
              "      <td>7.4</td>\n",
              "      <td>0.70</td>\n",
              "      <td>0.00</td>\n",
              "      <td>1.9</td>\n",
              "      <td>0.076</td>\n",
              "      <td>11.0</td>\n",
              "      <td>34.0</td>\n",
              "      <td>0.9978</td>\n",
              "      <td>3.51</td>\n",
              "      <td>0.56</td>\n",
              "      <td>9.4</td>\n",
              "      <td>5</td>\n",
              "    </tr>\n",
              "  </tbody>\n",
              "</table>\n",
              "</div>"
            ],
            "text/plain": [
              "   fixed acidity  volatile acidity  citric acid  ...  sulphates  alcohol  quality\n",
              "0            7.4              0.70         0.00  ...       0.56      9.4        5\n",
              "1            7.8              0.88         0.00  ...       0.68      9.8        5\n",
              "2            7.8              0.76         0.04  ...       0.65      9.8        5\n",
              "3           11.2              0.28         0.56  ...       0.58      9.8        6\n",
              "4            7.4              0.70         0.00  ...       0.56      9.4        5\n",
              "\n",
              "[5 rows x 12 columns]"
            ]
          },
          "metadata": {},
          "execution_count": 15
        }
      ]
    },
    {
      "cell_type": "code",
      "source": [
        "df4.info()"
      ],
      "metadata": {
        "colab": {
          "base_uri": "https://localhost:8080/"
        },
        "id": "MEHb_qphxhRK",
        "outputId": "f4d5ac1b-6887-4ad9-d9a7-6c469d1b393e"
      },
      "execution_count": 16,
      "outputs": [
        {
          "output_type": "stream",
          "name": "stdout",
          "text": [
            "<class 'pandas.core.frame.DataFrame'>\n",
            "Int64Index: 1599 entries, 0 to 1598\n",
            "Data columns (total 12 columns):\n",
            " #   Column                Non-Null Count  Dtype  \n",
            "---  ------                --------------  -----  \n",
            " 0   fixed acidity         1599 non-null   float64\n",
            " 1   volatile acidity      1599 non-null   float64\n",
            " 2   citric acid           1599 non-null   float64\n",
            " 3   residual sugar        1599 non-null   float64\n",
            " 4   chlorides             1599 non-null   float64\n",
            " 5   free sulfur dioxide   1599 non-null   float64\n",
            " 6   total sulfur dioxide  1599 non-null   float64\n",
            " 7   density               1599 non-null   float64\n",
            " 8   pH                    1599 non-null   float64\n",
            " 9   sulphates             1599 non-null   float64\n",
            " 10  alcohol               1599 non-null   float64\n",
            " 11  quality               1599 non-null   int64  \n",
            "dtypes: float64(11), int64(1)\n",
            "memory usage: 162.4 KB\n"
          ]
        }
      ]
    },
    {
      "cell_type": "code",
      "execution_count": null,
      "metadata": {
        "id": "DQ_-NnDjrXmO"
      },
      "outputs": [],
      "source": [
        "y = df4['quality']\n",
        "df4 = df4.drop(columns='quality')"
      ]
    },
    {
      "cell_type": "code",
      "execution_count": null,
      "metadata": {
        "id": "eC8iciDBrTal",
        "colab": {
          "base_uri": "https://localhost:8080/",
          "height": 458
        },
        "outputId": "a3c3f363-40f4-4fa5-8524-8fa5e12e99a4"
      },
      "outputs": [
        {
          "output_type": "execute_result",
          "data": {
            "text/html": [
              "<div>\n",
              "<style scoped>\n",
              "    .dataframe tbody tr th:only-of-type {\n",
              "        vertical-align: middle;\n",
              "    }\n",
              "\n",
              "    .dataframe tbody tr th {\n",
              "        vertical-align: top;\n",
              "    }\n",
              "\n",
              "    .dataframe thead th {\n",
              "        text-align: right;\n",
              "    }\n",
              "</style>\n",
              "<table border=\"1\" class=\"dataframe\">\n",
              "  <thead>\n",
              "    <tr style=\"text-align: right;\">\n",
              "      <th></th>\n",
              "      <th>fixed acidity</th>\n",
              "      <th>volatile acidity</th>\n",
              "      <th>citric acid</th>\n",
              "      <th>residual sugar</th>\n",
              "      <th>chlorides</th>\n",
              "      <th>free sulfur dioxide</th>\n",
              "      <th>total sulfur dioxide</th>\n",
              "      <th>density</th>\n",
              "      <th>pH</th>\n",
              "      <th>sulphates</th>\n",
              "      <th>alcohol</th>\n",
              "    </tr>\n",
              "  </thead>\n",
              "  <tbody>\n",
              "    <tr>\n",
              "      <th>0</th>\n",
              "      <td>7.4</td>\n",
              "      <td>0.700</td>\n",
              "      <td>0.00</td>\n",
              "      <td>1.9</td>\n",
              "      <td>0.076</td>\n",
              "      <td>11.0</td>\n",
              "      <td>34.0</td>\n",
              "      <td>0.99780</td>\n",
              "      <td>3.51</td>\n",
              "      <td>0.56</td>\n",
              "      <td>9.4</td>\n",
              "    </tr>\n",
              "    <tr>\n",
              "      <th>1</th>\n",
              "      <td>7.8</td>\n",
              "      <td>0.880</td>\n",
              "      <td>0.00</td>\n",
              "      <td>2.6</td>\n",
              "      <td>0.098</td>\n",
              "      <td>25.0</td>\n",
              "      <td>67.0</td>\n",
              "      <td>0.99680</td>\n",
              "      <td>3.20</td>\n",
              "      <td>0.68</td>\n",
              "      <td>9.8</td>\n",
              "    </tr>\n",
              "    <tr>\n",
              "      <th>2</th>\n",
              "      <td>7.8</td>\n",
              "      <td>0.760</td>\n",
              "      <td>0.04</td>\n",
              "      <td>2.3</td>\n",
              "      <td>0.092</td>\n",
              "      <td>15.0</td>\n",
              "      <td>54.0</td>\n",
              "      <td>0.99700</td>\n",
              "      <td>3.26</td>\n",
              "      <td>0.65</td>\n",
              "      <td>9.8</td>\n",
              "    </tr>\n",
              "    <tr>\n",
              "      <th>3</th>\n",
              "      <td>11.2</td>\n",
              "      <td>0.280</td>\n",
              "      <td>0.56</td>\n",
              "      <td>1.9</td>\n",
              "      <td>0.075</td>\n",
              "      <td>17.0</td>\n",
              "      <td>60.0</td>\n",
              "      <td>0.99800</td>\n",
              "      <td>3.16</td>\n",
              "      <td>0.58</td>\n",
              "      <td>9.8</td>\n",
              "    </tr>\n",
              "    <tr>\n",
              "      <th>4</th>\n",
              "      <td>7.4</td>\n",
              "      <td>0.700</td>\n",
              "      <td>0.00</td>\n",
              "      <td>1.9</td>\n",
              "      <td>0.076</td>\n",
              "      <td>11.0</td>\n",
              "      <td>34.0</td>\n",
              "      <td>0.99780</td>\n",
              "      <td>3.51</td>\n",
              "      <td>0.56</td>\n",
              "      <td>9.4</td>\n",
              "    </tr>\n",
              "    <tr>\n",
              "      <th>...</th>\n",
              "      <td>...</td>\n",
              "      <td>...</td>\n",
              "      <td>...</td>\n",
              "      <td>...</td>\n",
              "      <td>...</td>\n",
              "      <td>...</td>\n",
              "      <td>...</td>\n",
              "      <td>...</td>\n",
              "      <td>...</td>\n",
              "      <td>...</td>\n",
              "      <td>...</td>\n",
              "    </tr>\n",
              "    <tr>\n",
              "      <th>1594</th>\n",
              "      <td>6.2</td>\n",
              "      <td>0.600</td>\n",
              "      <td>0.08</td>\n",
              "      <td>2.0</td>\n",
              "      <td>0.090</td>\n",
              "      <td>32.0</td>\n",
              "      <td>44.0</td>\n",
              "      <td>0.99490</td>\n",
              "      <td>3.45</td>\n",
              "      <td>0.58</td>\n",
              "      <td>10.5</td>\n",
              "    </tr>\n",
              "    <tr>\n",
              "      <th>1595</th>\n",
              "      <td>5.9</td>\n",
              "      <td>0.550</td>\n",
              "      <td>0.10</td>\n",
              "      <td>2.2</td>\n",
              "      <td>0.062</td>\n",
              "      <td>39.0</td>\n",
              "      <td>51.0</td>\n",
              "      <td>0.99512</td>\n",
              "      <td>3.52</td>\n",
              "      <td>0.76</td>\n",
              "      <td>11.2</td>\n",
              "    </tr>\n",
              "    <tr>\n",
              "      <th>1596</th>\n",
              "      <td>6.3</td>\n",
              "      <td>0.510</td>\n",
              "      <td>0.13</td>\n",
              "      <td>2.3</td>\n",
              "      <td>0.076</td>\n",
              "      <td>29.0</td>\n",
              "      <td>40.0</td>\n",
              "      <td>0.99574</td>\n",
              "      <td>3.42</td>\n",
              "      <td>0.75</td>\n",
              "      <td>11.0</td>\n",
              "    </tr>\n",
              "    <tr>\n",
              "      <th>1597</th>\n",
              "      <td>5.9</td>\n",
              "      <td>0.645</td>\n",
              "      <td>0.12</td>\n",
              "      <td>2.0</td>\n",
              "      <td>0.075</td>\n",
              "      <td>32.0</td>\n",
              "      <td>44.0</td>\n",
              "      <td>0.99547</td>\n",
              "      <td>3.57</td>\n",
              "      <td>0.71</td>\n",
              "      <td>10.2</td>\n",
              "    </tr>\n",
              "    <tr>\n",
              "      <th>1598</th>\n",
              "      <td>6.0</td>\n",
              "      <td>0.310</td>\n",
              "      <td>0.47</td>\n",
              "      <td>3.6</td>\n",
              "      <td>0.067</td>\n",
              "      <td>18.0</td>\n",
              "      <td>42.0</td>\n",
              "      <td>0.99549</td>\n",
              "      <td>3.39</td>\n",
              "      <td>0.66</td>\n",
              "      <td>11.0</td>\n",
              "    </tr>\n",
              "  </tbody>\n",
              "</table>\n",
              "<p>1599 rows × 11 columns</p>\n",
              "</div>"
            ],
            "text/plain": [
              "      fixed acidity  volatile acidity  citric acid  ...    pH  sulphates  alcohol\n",
              "0               7.4             0.700         0.00  ...  3.51       0.56      9.4\n",
              "1               7.8             0.880         0.00  ...  3.20       0.68      9.8\n",
              "2               7.8             0.760         0.04  ...  3.26       0.65      9.8\n",
              "3              11.2             0.280         0.56  ...  3.16       0.58      9.8\n",
              "4               7.4             0.700         0.00  ...  3.51       0.56      9.4\n",
              "...             ...               ...          ...  ...   ...        ...      ...\n",
              "1594            6.2             0.600         0.08  ...  3.45       0.58     10.5\n",
              "1595            5.9             0.550         0.10  ...  3.52       0.76     11.2\n",
              "1596            6.3             0.510         0.13  ...  3.42       0.75     11.0\n",
              "1597            5.9             0.645         0.12  ...  3.57       0.71     10.2\n",
              "1598            6.0             0.310         0.47  ...  3.39       0.66     11.0\n",
              "\n",
              "[1599 rows x 11 columns]"
            ]
          },
          "metadata": {},
          "execution_count": 33
        }
      ],
      "source": [
        "df4"
      ]
    },
    {
      "cell_type": "code",
      "execution_count": null,
      "metadata": {
        "id": "yX53MkzXs9mU"
      },
      "outputs": [],
      "source": [
        "X = df4"
      ]
    },
    {
      "cell_type": "code",
      "execution_count": null,
      "metadata": {
        "id": "vDbJwXEPHDK7"
      },
      "outputs": [],
      "source": [
        "X_train, X_test, y_train, y_test = train_test_split(X, y, test_size=0.2, random_state=42)"
      ]
    },
    {
      "cell_type": "code",
      "source": [
        "clf = RandomForestClassifier()"
      ],
      "metadata": {
        "id": "iIONQzste28P"
      },
      "execution_count": null,
      "outputs": []
    },
    {
      "cell_type": "code",
      "source": [
        "clf.fit(X_train, y_train)"
      ],
      "metadata": {
        "colab": {
          "base_uri": "https://localhost:8080/"
        },
        "id": "X9UQ0QDo7bvV",
        "outputId": "f89e19fd-116e-4e4e-8b0d-fa76abee8ee4"
      },
      "execution_count": null,
      "outputs": [
        {
          "output_type": "execute_result",
          "data": {
            "text/plain": [
              "RandomForestClassifier()"
            ]
          },
          "metadata": {},
          "execution_count": 47
        }
      ]
    },
    {
      "cell_type": "code",
      "source": [
        "y_pred = clf.predict(X_test)\n",
        "accuracy_score(y_test,y_pred)"
      ],
      "metadata": {
        "colab": {
          "base_uri": "https://localhost:8080/"
        },
        "id": "EScArvG47dtl",
        "outputId": "15590b08-4f15-4bba-9afa-112d2d432678"
      },
      "execution_count": null,
      "outputs": [
        {
          "output_type": "execute_result",
          "data": {
            "text/plain": [
              "0.671875"
            ]
          },
          "metadata": {},
          "execution_count": 48
        }
      ]
    },
    {
      "cell_type": "markdown",
      "source": [
        "### Compare SVM"
      ],
      "metadata": {
        "id": "dHEy4-3ZgfAp"
      }
    },
    {
      "cell_type": "code",
      "source": [
        "svm =  make_pipeline(StandardScaler(), SVC())"
      ],
      "metadata": {
        "id": "IhU_6JzagfAp"
      },
      "execution_count": null,
      "outputs": []
    },
    {
      "cell_type": "code",
      "source": [
        "svm.fit(X_train, y_train)"
      ],
      "metadata": {
        "colab": {
          "base_uri": "https://localhost:8080/"
        },
        "outputId": "27cc87dd-d04b-4d0c-9627-11cfb33e22c0",
        "id": "GellvanGgfAq"
      },
      "execution_count": null,
      "outputs": [
        {
          "output_type": "execute_result",
          "data": {
            "text/plain": [
              "Pipeline(steps=[('standardscaler', StandardScaler()), ('svc', SVC())])"
            ]
          },
          "metadata": {},
          "execution_count": 114
        }
      ]
    },
    {
      "cell_type": "code",
      "source": [
        "y_pred = svm.predict(X_test)"
      ],
      "metadata": {
        "id": "G3dPkAAkgfAq"
      },
      "execution_count": null,
      "outputs": []
    },
    {
      "cell_type": "code",
      "source": [
        "accuracy_score(y_test,y_pred)"
      ],
      "metadata": {
        "colab": {
          "base_uri": "https://localhost:8080/"
        },
        "outputId": "c1caadbf-c7d8-450f-d13f-f5f52eb41ffa",
        "id": "j77ygSSWgfAq"
      },
      "execution_count": null,
      "outputs": [
        {
          "output_type": "execute_result",
          "data": {
            "text/plain": [
              "0.603125"
            ]
          },
          "metadata": {},
          "execution_count": 116
        }
      ]
    },
    {
      "cell_type": "markdown",
      "source": [
        "### Grid Search"
      ],
      "metadata": {
        "id": "1M7_cxR4eAgF"
      }
    },
    {
      "cell_type": "code",
      "source": [
        "# Tạo các mảng các giá trị của siêu tham số\n",
        "max_features_range = np.arange(1,6,1)\n",
        "n_estimators_range = np.arange(10,300,10)\n",
        "max_leaf_nodes_range = np.arange(2,35,1)"
      ],
      "metadata": {
        "id": "bULdv2ZgeHJx"
      },
      "execution_count": null,
      "outputs": []
    },
    {
      "cell_type": "code",
      "source": [
        "# Tạo một lưới các tham số\n",
        "param_grid = dict(max_features=max_features_range, \n",
        "                  n_estimators=n_estimators_range,\n",
        "                  max_leaf_nodes=max_leaf_nodes_range)"
      ],
      "metadata": {
        "id": "AOpu1lYEeHJy"
      },
      "execution_count": null,
      "outputs": []
    },
    {
      "cell_type": "code",
      "source": [
        "# Khởi tạo mô hình cần tối ưu hóa các siêu tham số\n",
        "rf = RandomForestClassifier()"
      ],
      "metadata": {
        "id": "OZmMlFKqeHJy"
      },
      "execution_count": null,
      "outputs": []
    },
    {
      "cell_type": "code",
      "source": [
        "# Sử dụng hàm GridSearch của thư viện sklearn để điểu chỉnh siêu tham số\n",
        "grid = GridSearchCV(estimator=rf, param_grid=param_grid, scoring='roc_auc', cv=5)"
      ],
      "metadata": {
        "id": "RCgdt3x9eHJz"
      },
      "execution_count": null,
      "outputs": []
    },
    {
      "cell_type": "code",
      "source": [
        "# Tiến hành đào tạo\n",
        "grid.fit(X_train, y_train)"
      ],
      "metadata": {
        "id": "1LX2zQgSeHJ0"
      },
      "execution_count": null,
      "outputs": []
    },
    {
      "cell_type": "code",
      "source": [
        "# In ra kết quả\n",
        "print(\"The best parameters are %s with a score of %0.2f\"\n",
        "      % (grid.best_params_, grid.best_score_))"
      ],
      "metadata": {
        "id": "8YjjdItdeHJ0"
      },
      "execution_count": null,
      "outputs": []
    },
    {
      "cell_type": "markdown",
      "source": [
        "### GA Search"
      ],
      "metadata": {
        "id": "-ESbPiOgd-HG"
      }
    },
    {
      "cell_type": "code",
      "execution_count": null,
      "metadata": {
        "id": "hQOaT2nVIIKq"
      },
      "outputs": [],
      "source": [
        "param_grid = {'min_weight_fraction_leaf': Continuous(0.01, 0.5, distribution='log-uniform'),\n",
        "              'bootstrap': Categorical([True, False]),\n",
        "              'max_depth': Integer(2, 30), \n",
        "              'criterion': Categorical(['gini', 'entropy']),\n",
        "              'max_features': Categorical(['auto', 'sqrt', 'log2']),\n",
        "              'max_leaf_nodes': Integer(2, 35), \n",
        "              'n_estimators': Integer(10, 300)}"
      ]
    },
    {
      "cell_type": "code",
      "execution_count": null,
      "metadata": {
        "id": "QqNFBCMxIU_T"
      },
      "outputs": [],
      "source": [
        "clf = RandomForestClassifier()"
      ]
    },
    {
      "cell_type": "code",
      "source": [
        "cv = StratifiedKFold(n_splits=3, shuffle=True)"
      ],
      "metadata": {
        "id": "nLyAlN437fc1"
      },
      "execution_count": null,
      "outputs": []
    },
    {
      "cell_type": "code",
      "execution_count": null,
      "metadata": {
        "id": "Y_b3bj0_If6a"
      },
      "outputs": [],
      "source": [
        "evolved_estimator = GASearchCV(estimator=clf,\n",
        "                               cv=cv,\n",
        "                               scoring='accuracy',\n",
        "                               population_size=10,\n",
        "                               generations=25,\n",
        "                               tournament_size=3,\n",
        "                               elitism=True,\n",
        "                               crossover_probability=0.8,\n",
        "                               mutation_probability=0.1,\n",
        "                               param_grid=param_grid,\n",
        "                               criteria='max',\n",
        "                               algorithm='eaMuPlusLambda',\n",
        "                               n_jobs=-1,\n",
        "                               verbose=True,\n",
        "                               keep_top_k=4)"
      ]
    },
    {
      "cell_type": "code",
      "source": [
        ""
      ],
      "metadata": {
        "id": "z9spKE0FdFq2"
      },
      "execution_count": null,
      "outputs": []
    },
    {
      "cell_type": "code",
      "execution_count": null,
      "metadata": {
        "colab": {
          "base_uri": "https://localhost:8080/"
        },
        "outputId": "ed1684cf-18e3-4f15-e5d6-5a39f1a4cc10",
        "id": "PBRPpmuRdF3m"
      },
      "outputs": [
        {
          "output_type": "stream",
          "name": "stdout",
          "text": [
            "gen\tnevals\tfitness \tfitness_std\tfitness_max\tfitness_min\n",
            "0  \t10    \t0.596165\t0.020517   \t0.631745   \t0.559026   \n",
            "1  \t18    \t0.613203\t0.0121449  \t0.63173    \t0.595009   \n",
            "2  \t19    \t0.615248\t0.013396   \t0.634878   \t0.592662   \n",
            "3  \t17    \t0.626115\t0.00919853 \t0.636427   \t0.602821   \n",
            "4  \t16    \t0.630893\t0.00279724 \t0.636427   \t0.628648   \n",
            "5  \t17    \t0.632064\t0.0029797  \t0.636427   \t0.628648   \n",
            "6  \t18    \t0.630568\t0.00547388 \t0.638795   \t0.61769    \n",
            "7  \t16    \t0.635265\t0.00242826 \t0.63878    \t0.630948   \n",
            "8  \t20    \t0.635111\t0.00229557 \t0.638005   \t0.630948   \n",
            "9  \t17    \t0.63566 \t0.00279809 \t0.641142   \t0.630182   \n",
            "10 \t18    \t0.636286\t0.00206314 \t0.641142   \t0.634107   \n",
            "11 \t18    \t0.637381\t0.00290064 \t0.641142   \t0.630975   \n",
            "12 \t18    \t0.639023\t0.00294198 \t0.645034   \t0.634893   \n",
            "13 \t18    \t0.63965 \t0.00343039 \t0.645034   \t0.635655   \n",
            "14 \t18    \t0.63746 \t0.00614147 \t0.645813   \t0.627072   \n",
            "15 \t19    \t0.639487\t0.00487535 \t0.645813   \t0.63018    \n",
            "16 \t17    \t0.640583\t0.00439318 \t0.645813   \t0.631749   \n",
            "17 \t17    \t0.639331\t0.00515437 \t0.645813   \t0.630154   \n",
            "18 \t20    \t0.638162\t0.0051309  \t0.645813   \t0.631761   \n",
            "19 \t17    \t0.639406\t0.00446535 \t0.645813   \t0.63407    \n",
            "20 \t18    \t0.640264\t0.00542293 \t0.645813   \t0.63252    \n",
            "21 \t18    \t0.64269 \t0.00381579 \t0.645813   \t0.632518   \n",
            "22 \t14    \t0.643155\t0.00383459 \t0.645813   \t0.634074   \n",
            "23 \t19    \t0.639012\t0.00742449 \t0.645813   \t0.626273   \n",
            "24 \t20    \t0.640032\t0.00463436 \t0.645813   \t0.634878   \n",
            "25 \t18    \t0.641195\t0.00347358 \t0.645813   \t0.636414   \n",
            "26 \t19    \t0.642061\t0.00398308 \t0.645813   \t0.635666   \n",
            "27 \t20    \t0.64034 \t0.00415246 \t0.645813   \t0.632518   \n",
            "28 \t20    \t0.639249\t0.00446544 \t0.645813   \t0.629405   \n",
            "29 \t17    \t0.63808 \t0.00370296 \t0.645813   \t0.632537   \n",
            "30 \t18    \t0.637539\t0.00292707 \t0.640358   \t0.632537   \n",
            "31 \t19    \t0.637848\t0.00438056 \t0.644259   \t0.627831   \n",
            "32 \t20    \t0.637063\t0.00423909 \t0.6427     \t0.627831   \n",
            "33 \t16    \t0.641596\t0.00317495 \t0.649731   \t0.637215   \n",
            "34 \t19    \t0.641055\t0.00443287 \t0.649731   \t0.630968   \n",
            "35 \t18    \t0.640666\t0.00512292 \t0.649731   \t0.631743   \n",
            "36 \t18    \t0.640113\t0.00666314 \t0.649731   \t0.629392   \n",
            "37 \t15    \t0.639641\t0.00888046 \t0.649731   \t0.626282   \n",
            "38 \t19    \t0.642694\t0.00757598 \t0.649731   \t0.627811   \n",
            "39 \t18    \t0.640974\t0.00783198 \t0.649731   \t0.626282   \n",
            "40 \t19    \t0.641438\t0.00730817 \t0.649731   \t0.630948   \n",
            "41 \t17    \t0.643158\t0.00707176 \t0.649731   \t0.630154   \n",
            "42 \t20    \t0.641525\t0.00586023 \t0.649731   \t0.634109   \n",
            "43 \t20    \t0.643785\t0.00569811 \t0.649731   \t0.634847   \n",
            "44 \t16    \t0.648245\t0.00309662 \t0.649731   \t0.640354   \n",
            "45 \t18    \t0.645817\t0.0062332  \t0.649731   \t0.632511   \n"
          ]
        },
        {
          "output_type": "execute_result",
          "data": {
            "text/plain": [
              "GASearchCV(cv=StratifiedKFold(n_splits=3, random_state=None, shuffle=True),\n",
              "           estimator=RandomForestClassifier(max_depth=7, max_features='sqrt',\n",
              "                                            max_leaf_nodes=29,\n",
              "                                            min_weight_fraction_leaf=0.014338259357692609,\n",
              "                                            n_estimators=279),\n",
              "           generations=45, keep_top_k=4, n_jobs=-1,\n",
              "           param_grid={'bootstrap': <sklearn_genetic.space.space.Categorical object at 0x7f2337ceb1d0>,\n",
              "                       'cri...\n",
              "                       'max_features': <sklearn_genetic.space.space.Categorical object at 0x7f2337cebd50>,\n",
              "                       'max_leaf_nodes': <sklearn_genetic.space.space.Integer object at 0x7f2337ceb790>,\n",
              "                       'min_weight_fraction_leaf': <sklearn_genetic.space.space.Continuous object at 0x7f2337ceb450>,\n",
              "                       'n_estimators': <sklearn_genetic.space.space.Integer object at 0x7f2337cebad0>},\n",
              "           return_train_score=True, scoring='accuracy')"
            ]
          },
          "metadata": {},
          "execution_count": 30
        }
      ],
      "source": [
        "evolved_estimator.fit(X_train,y_train)"
      ]
    },
    {
      "cell_type": "code",
      "execution_count": null,
      "metadata": {
        "id": "7fRprNiTdF3n"
      },
      "outputs": [],
      "source": [
        "y_predicy_ga = evolved_estimator.predict(X_test)"
      ]
    },
    {
      "cell_type": "code",
      "execution_count": null,
      "metadata": {
        "colab": {
          "base_uri": "https://localhost:8080/"
        },
        "outputId": "1b5c5a64-4dbb-4b7b-b4bd-a70c5a67e255",
        "id": "ny-dDNFxdF3n"
      },
      "outputs": [
        {
          "output_type": "execute_result",
          "data": {
            "text/plain": [
              "0.575"
            ]
          },
          "metadata": {},
          "execution_count": 32
        }
      ],
      "source": [
        "accuracy_score(y_test,y_predicy_ga)"
      ]
    },
    {
      "cell_type": "code",
      "execution_count": null,
      "metadata": {
        "colab": {
          "base_uri": "https://localhost:8080/",
          "height": 627
        },
        "outputId": "2fea0a68-13c1-437a-8ef2-ff7b6e1d7756",
        "id": "dJsA7RFVdF3n"
      },
      "outputs": [
        {
          "output_type": "display_data",
          "data": {
            "image/png": "[encoded data removed]",
            "text/plain": [
              "<Figure size 720x720 with 1 Axes>"
            ]
          },
          "metadata": {}
        }
      ],
      "source": [
        "plot_fitness_evolution(evolved_estimator)\n",
        "plt.show()"
      ]
    },
    {
      "cell_type": "code",
      "execution_count": null,
      "metadata": {
        "colab": {
          "base_uri": "https://localhost:8080/"
        },
        "outputId": "f8282c23-49ad-44ad-a48a-dc557f3f264e",
        "id": "IOPsSuzCdF3o"
      },
      "outputs": [
        {
          "output_type": "execute_result",
          "data": {
            "text/plain": [
              "RandomForestClassifier(max_depth=7, max_features='sqrt', max_leaf_nodes=29,\n",
              "                       min_weight_fraction_leaf=0.014338259357692609,\n",
              "                       n_estimators=279)"
            ]
          },
          "metadata": {},
          "execution_count": 34
        }
      ],
      "source": [
        "evolved_estimator.best_estimator_"
      ]
    },
    {
      "cell_type": "code",
      "execution_count": null,
      "metadata": {
        "colab": {
          "base_uri": "https://localhost:8080/"
        },
        "outputId": "dbeb09f7-b9bb-4cda-8e1a-a14825af1b85",
        "id": "BwlNTHbHdF3o"
      },
      "outputs": [
        {
          "output_type": "execute_result",
          "data": {
            "text/plain": [
              "{'bootstrap': True,\n",
              " 'criterion': 'gini',\n",
              " 'max_depth': 7,\n",
              " 'max_features': 'sqrt',\n",
              " 'max_leaf_nodes': 29,\n",
              " 'min_weight_fraction_leaf': 0.014338259357692609,\n",
              " 'n_estimators': 279}"
            ]
          },
          "metadata": {},
          "execution_count": 35
        }
      ],
      "source": [
        "evolved_estimator.best_params_"
      ]
    },
    {
      "cell_type": "code",
      "execution_count": null,
      "metadata": {
        "colab": {
          "base_uri": "https://localhost:8080/"
        },
        "outputId": "aecd2572-6c41-498f-9b94-6497b07bffd3",
        "id": "qu2NFBhIdF3o"
      },
      "outputs": [
        {
          "output_type": "stream",
          "name": "stdout",
          "text": [
            "Best k solutions:\n"
          ]
        },
        {
          "output_type": "execute_result",
          "data": {
            "text/plain": [
              "{0: {'bootstrap': True,\n",
              "  'criterion': 'gini',\n",
              "  'max_depth': 7,\n",
              "  'max_features': 'sqrt',\n",
              "  'max_leaf_nodes': 29,\n",
              "  'min_weight_fraction_leaf': 0.014338259357692609,\n",
              "  'n_estimators': 279},\n",
              " 1: {'bootstrap': True,\n",
              "  'criterion': 'gini',\n",
              "  'max_depth': 7,\n",
              "  'max_features': 'sqrt',\n",
              "  'max_leaf_nodes': 29,\n",
              "  'min_weight_fraction_leaf': 0.014338259357692609,\n",
              "  'n_estimators': 279},\n",
              " 2: {'bootstrap': True,\n",
              "  'criterion': 'gini',\n",
              "  'max_depth': 7,\n",
              "  'max_features': 'sqrt',\n",
              "  'max_leaf_nodes': 29,\n",
              "  'min_weight_fraction_leaf': 0.014338259357692609,\n",
              "  'n_estimators': 209},\n",
              " 3: {'bootstrap': True,\n",
              "  'criterion': 'entropy',\n",
              "  'max_depth': 7,\n",
              "  'max_features': 'sqrt',\n",
              "  'max_leaf_nodes': 29,\n",
              "  'min_weight_fraction_leaf': 0.014338259357692609,\n",
              "  'n_estimators': 279}}"
            ]
          },
          "metadata": {},
          "execution_count": 36
        }
      ],
      "source": [
        "print(\"Best k solutions:\")\n",
        "evolved_estimator.hof"
      ]
    },
    {
      "cell_type": "code",
      "source": [
        "plot_search_space(evolved_estimator)\n",
        "plt.show()"
      ],
      "metadata": {
        "colab": {
          "base_uri": "https://localhost:8080/",
          "height": 864
        },
        "id": "LPOhwIPtU7BI",
        "outputId": "a39a2d74-29fe-45d5-e279-5dcf33fab0be"
      },
      "execution_count": null,
      "outputs": [
        {
          "output_type": "display_data",
          "data": {
            "image/png": "[encoded data removed]",
            "text/plain": [
              "<Figure size 864x864 with 42 Axes>"
            ]
          },
          "metadata": {}
        }
      ]
    },
    {
      "cell_type": "markdown",
      "metadata": {
        "id": "EwETdqP37LEz"
      },
      "source": [
        "### Tuning Using Evolutionary Algorithms"
      ]
    },
    {
      "cell_type": "code",
      "execution_count": null,
      "metadata": {
        "id": "eXkjTmvc7LE0",
        "colab": {
          "base_uri": "https://localhost:8080/"
        },
        "outputId": "244ad0f9-a296-4eca-d863-aa7b8f561bd9"
      },
      "outputs": [
        {
          "output_type": "stream",
          "name": "stdout",
          "text": [
            "512\n",
            "0.6450582107843138\n",
            "768\n",
            "0.6450582107843138\n",
            "1024\n",
            "0.646623774509804\n",
            "1280\n",
            "0.6559773284313726\n",
            "1536\n",
            "0.6559773284313726\n",
            "1792\n",
            "0.6559773284313726\n",
            "2048\n",
            "0.6559773284313726\n",
            "2304\n",
            "0.6559773284313726\n",
            "2560\n",
            "0.6559773284313726\n"
          ]
        },
        {
          "output_type": "stream",
          "name": "stderr",
          "text": [
            "/usr/local/lib/python3.7/dist-packages/sklearn/metrics/_classification.py:1308: UndefinedMetricWarning: Precision is ill-defined and being set to 0.0 in labels with no predicted samples. Use `zero_division` parameter to control this behavior.\n",
            "  _warn_prf(average, modifier, msg_start, len(result))\n"
          ]
        }
      ],
      "source": [
        "tic = time.perf_counter()\n",
        "fobj = open('/content/drive/MyDrive/LogForPython/winequality-red.txt', 'w')\n",
        "fobj.write(\"number gen,num of evaluations,min weight fraction leaf,bootstrap,max depth,criterion,max features,max leaf nodes,n estimators,fitness\\n\")\n",
        "result_and_allParamater = DE(RandomforestWithK_fold,Randomforest, bounds = [(0,0.5),(1,2),(2,30),(1,2),(1,3),(2,35),(10,300)], popsize=256, max_evaluation=2600)\n",
        "fobj.close()\n",
        "toc = time.perf_counter()"
      ]
    },
    {
      "cell_type": "code",
      "execution_count": null,
      "metadata": {
        "id": "URIkePrP7LE0",
        "colab": {
          "base_uri": "https://localhost:8080/"
        },
        "outputId": "c7595e58-4ab1-45d7-d1ec-29371ddcca22"
      },
      "outputs": [
        {
          "output_type": "stream",
          "name": "stdout",
          "text": [
            "(10, 2)\n",
            "[(array([2.09244587e-02, 1.65750600e+00, 1.08466804e+01, 1.45059835e+00,\n",
            "       1.86640021e+00, 3.15081828e+01, 2.98306023e+02]), 0.6450582107843138), (array([2.09244587e-02, 1.65750600e+00, 1.08466804e+01, 1.45059835e+00,\n",
            "       1.86640021e+00, 3.15081828e+01, 2.98306023e+02]), 0.6450582107843138), (array([2.09244587e-02, 1.65750600e+00, 1.08466804e+01, 1.45059835e+00,\n",
            "       1.86640021e+00, 3.15081828e+01, 2.98306023e+02]), 0.6450582107843138), (array([  0.        ,   1.70845762,  19.00552116,   1.26600795,\n",
            "         3.        ,  35.        , 300.        ]), 0.646623774509804), (array([  0.        ,   1.68982221,  25.69626614,   1.05159467,\n",
            "         1.99506324,  35.        , 204.1195448 ]), 0.6559773284313726), (array([  0.        ,   1.68982221,  25.69626614,   1.05159467,\n",
            "         1.99506324,  35.        , 204.1195448 ]), 0.6559773284313726), (array([  0.        ,   1.68982221,  25.69626614,   1.05159467,\n",
            "         1.99506324,  35.        , 204.1195448 ]), 0.6559773284313726), (array([  0.        ,   1.68982221,  25.69626614,   1.05159467,\n",
            "         1.99506324,  35.        , 204.1195448 ]), 0.6559773284313726), (array([  0.        ,   1.68982221,  25.69626614,   1.05159467,\n",
            "         1.99506324,  35.        , 204.1195448 ]), 0.6559773284313726), (array([  0.        ,   1.68982221,  25.69626614,   1.05159467,\n",
            "         1.99506324,  35.        , 204.1195448 ]), 0.6559773284313726)]\n",
            "0.6450582107843138\n",
            "0.6450582107843138\n",
            "0.6450582107843138\n",
            "0.646623774509804\n",
            "0.6559773284313726\n",
            "0.6559773284313726\n",
            "0.6559773284313726\n",
            "0.6559773284313726\n",
            "0.6559773284313726\n",
            "0.6559773284313726\n"
          ]
        },
        {
          "output_type": "stream",
          "name": "stderr",
          "text": [
            "/usr/local/lib/python3.7/dist-packages/numpy/core/_asarray.py:83: VisibleDeprecationWarning: Creating an ndarray from ragged nested sequences (which is a list-or-tuple of lists-or-tuples-or ndarrays with different lengths or shapes) is deprecated. If you meant to do this, you must specify 'dtype=object' when creating the ndarray\n",
            "  return array(a, dtype, copy=False, order=order)\n"
          ]
        }
      ],
      "source": [
        "result = result_and_allParamater[0]\n",
        "print(np.asarray(result).shape)\n",
        "print(result)\n",
        "for res in result:\n",
        "  print(res[-1])"
      ]
    },
    {
      "cell_type": "code",
      "execution_count": null,
      "metadata": {
        "id": "VDrNoC4h7LE1",
        "colab": {
          "base_uri": "https://localhost:8080/"
        },
        "outputId": "849a0bd5-4c47-4404-d044-6f790a3107a6"
      },
      "outputs": [
        {
          "output_type": "execute_result",
          "data": {
            "text/plain": [
              "[0.0,\n",
              " False,\n",
              " 26,\n",
              " 'gini',\n",
              " 'sqrt',\n",
              " 35,\n",
              " 204,\n",
              " 0.584375,\n",
              " array([0.        , 0.        , 0.76153846, 0.60606061, 0.19047619,\n",
              "        0.        ]),\n",
              " array([0.        , 0.        , 0.64705882, 0.52980132, 0.5       ,\n",
              "        0.        ]),\n",
              " array([0.        , 0.        , 0.69964664, 0.56537102, 0.27586207,\n",
              "        0.        ]),\n",
              " array([[ 0,  0,  1,  0,  0,  0],\n",
              "        [ 0,  0,  6,  4,  0,  0],\n",
              "        [ 0,  0, 99, 30,  1,  0],\n",
              "        [ 0,  0, 47, 80,  5,  0],\n",
              "        [ 0,  0,  0, 34,  8,  0],\n",
              "        [ 0,  0,  0,  3,  2,  0]]),\n",
              " array([5, 5, 6, 5, 6, 5, 5, 5, 6, 6, 6, 5, 6, 5, 5, 6, 5, 6, 7, 5, 5, 5,\n",
              "        6, 6, 5, 6, 6, 5, 5, 6, 5, 6, 6, 5, 5, 5, 6, 6, 6, 6, 5, 5, 6, 5,\n",
              "        6, 6, 6, 6, 5, 6, 5, 5, 6, 7, 5, 5, 6, 6, 6, 5, 6, 6, 5, 5, 7, 5,\n",
              "        7, 5, 7, 5, 6, 5, 6, 6, 6, 5, 7, 5, 6, 7, 5, 6, 5, 5, 6, 6, 5, 6,\n",
              "        6, 5, 6, 6, 5, 5, 5, 5, 5, 6, 5, 5, 5, 5, 6, 6, 6, 6, 6, 5, 6, 5,\n",
              "        6, 5, 6, 5, 5, 6, 6, 5, 5, 6, 6, 5, 6, 5, 6, 5, 6, 5, 5, 6, 6, 5,\n",
              "        5, 6, 6, 5, 5, 5, 5, 6, 6, 6, 6, 5, 6, 5, 6, 5, 6, 5, 6, 6, 5, 5,\n",
              "        6, 6, 5, 6, 5, 6, 6, 6, 6, 5, 5, 6, 5, 5, 5, 5, 5, 5, 7, 5, 6, 6,\n",
              "        6, 5, 5, 5, 5, 6, 5, 6, 5, 7, 6, 6, 7, 5, 6, 6, 5, 6, 6, 5, 5, 5,\n",
              "        6, 6, 5, 5, 5, 5, 7, 6, 5, 5, 6, 6, 7, 5, 6, 6, 6, 6, 6, 5, 6, 6,\n",
              "        5, 6, 6, 6, 6, 5, 5, 7, 5, 5, 5, 5, 7, 6, 5, 6, 5, 6, 6, 5, 6, 5,\n",
              "        6, 6, 5, 6, 6, 5, 6, 5, 6, 5, 5, 5, 6, 5, 5, 6, 6, 6, 6, 6, 5, 6,\n",
              "        6, 6, 5, 5, 6, 6, 5, 6, 5, 5, 6, 5, 6, 6, 6, 5, 7, 5, 5, 5, 5, 6,\n",
              "        5, 6, 5, 6, 5, 6, 6, 5, 5, 6, 5, 6, 6, 6, 5, 5, 6, 5, 5, 5, 6, 6,\n",
              "        6, 7, 5, 5, 6, 6, 5, 6, 5, 5, 6, 5])]"
            ]
          },
          "metadata": {},
          "execution_count": 18
        }
      ],
      "source": [
        "all_paramater = result_and_allParamater[1]\n",
        "all_paramater\n",
        "#[min_weight_fraction_leaf, bootstrap,max_depth,criterion,max_features,max_leaf_nodes,n_estimators,accuracy_score,recall_score,precision_score,f1_score,confusion_matrix]"
      ]
    },
    {
      "cell_type": "code",
      "execution_count": null,
      "metadata": {
        "id": "UQXuYxVt7LE1",
        "colab": {
          "base_uri": "https://localhost:8080/"
        },
        "outputId": "ef8a2ac2-6693-456b-b9fd-ca3ba396a0f8"
      },
      "outputs": [
        {
          "output_type": "stream",
          "name": "stdout",
          "text": [
            "Accuracy: 0.584375\n"
          ]
        }
      ],
      "source": [
        "print(f\"Accuracy: {all_paramater[7]}\")"
      ]
    },
    {
      "cell_type": "code",
      "execution_count": null,
      "metadata": {
        "id": "XemzFapF7LE1",
        "colab": {
          "base_uri": "https://localhost:8080/"
        },
        "outputId": "67cb44b7-29e5-4112-f295-6f919ca26d67"
      },
      "outputs": [
        {
          "output_type": "stream",
          "name": "stdout",
          "text": [
            "second:5071.794872455999-minute:84.52991454093332\n"
          ]
        }
      ],
      "source": [
        "time_run = toc-tic\n",
        "print(f\"second:{time_run}-minute:{time_run/60}\")"
      ]
    },
    {
      "cell_type": "markdown",
      "source": [
        "## Compare Decision tree"
      ],
      "metadata": {
        "id": "jjplYL_8YNPj"
      }
    },
    {
      "cell_type": "code",
      "source": [
        "tic = time.perf_counter()\n",
        "print(Randomforest(0.0,False,26,'gini','sqrt',35,204)[7])\n",
        "toc = time.perf_counter()\n",
        "print(toc-tic)"
      ],
      "metadata": {
        "colab": {
          "base_uri": "https://localhost:8080/"
        },
        "outputId": "668b39c0-2310-4eec-da35-2b46eb0f8fae",
        "id": "vSEigVMbYNPk"
      },
      "execution_count": null,
      "outputs": [
        {
          "output_type": "stream",
          "name": "stdout",
          "text": [
            "0.575\n",
            "0.6564828069999749\n"
          ]
        },
        {
          "output_type": "stream",
          "name": "stderr",
          "text": [
            "/usr/local/lib/python3.7/dist-packages/sklearn/metrics/_classification.py:1308: UndefinedMetricWarning: Precision is ill-defined and being set to 0.0 in labels with no predicted samples. Use `zero_division` parameter to control this behavior.\n",
            "  _warn_prf(average, modifier, msg_start, len(result))\n"
          ]
        }
      ]
    },
    {
      "cell_type": "code",
      "source": [
        "\n",
        "from sklearn.tree import DecisionTreeClassifier\n",
        "tic = time.perf_counter()\n",
        "clf = DecisionTreeClassifier()\n",
        "clf.fit(X_train, y_train)\n",
        "y_pred = clf.predict(X_test)\n",
        "toc = time.perf_counter()\n",
        "print(metrics.accuracy_score(y_test, y_pred))\n",
        "print(toc-tic)"
      ],
      "metadata": {
        "colab": {
          "base_uri": "https://localhost:8080/"
        },
        "outputId": "ac5684fe-aeb5-4714-c7bb-17655d03d206",
        "id": "oZHmQBQbYNPl"
      },
      "execution_count": null,
      "outputs": [
        {
          "output_type": "stream",
          "name": "stdout",
          "text": [
            "0.565625\n",
            "0.020208040999932564\n"
          ]
        }
      ]
    },
    {
      "cell_type": "markdown",
      "metadata": {
        "id": "QYbkdnyABzN7"
      },
      "source": [
        "# MNIST"
      ]
    },
    {
      "cell_type": "code",
      "execution_count": null,
      "metadata": {
        "id": "E5n4oXsTBy4Q"
      },
      "outputs": [],
      "source": [
        "from sklearn.datasets import fetch_openml\n",
        "\n",
        "mnist = fetch_openml('mnist_784', version=1)"
      ]
    },
    {
      "cell_type": "code",
      "execution_count": null,
      "metadata": {
        "id": "dTgFLS5tHk88"
      },
      "outputs": [],
      "source": [
        "X, y = mnist[\"data\"], mnist[\"target\"]"
      ]
    },
    {
      "cell_type": "code",
      "execution_count": null,
      "metadata": {
        "id": "6GVLBgCeHpOF"
      },
      "outputs": [],
      "source": [
        "X_train, X_test, y_train, y_test = X[:60000], X[60000:], y[:60000], y[60000:]"
      ]
    },
    {
      "cell_type": "code",
      "source": [
        "clf = RandomForestClassifier()"
      ],
      "metadata": {
        "id": "mqT1uCNM7xxl"
      },
      "execution_count": null,
      "outputs": []
    },
    {
      "cell_type": "code",
      "source": [
        "clf.fit(X_train, y_train)"
      ],
      "metadata": {
        "colab": {
          "base_uri": "https://localhost:8080/"
        },
        "id": "e6jV_sPH75Jv",
        "outputId": "cf7a4c76-b018-4164-a870-5e1c75603707"
      },
      "execution_count": null,
      "outputs": [
        {
          "output_type": "execute_result",
          "data": {
            "text/plain": [
              "RandomForestClassifier()"
            ]
          },
          "metadata": {},
          "execution_count": 53
        }
      ]
    },
    {
      "cell_type": "code",
      "source": [
        "y_pred = clf.predict(X_test)\n",
        "accuracy_score(y_test,y_pred)"
      ],
      "metadata": {
        "colab": {
          "base_uri": "https://localhost:8080/"
        },
        "id": "9tWrG4oq76pG",
        "outputId": "868f9d6f-6c3c-432a-e0e4-975c628c4a63"
      },
      "execution_count": null,
      "outputs": [
        {
          "output_type": "execute_result",
          "data": {
            "text/plain": [
              "0.9692"
            ]
          },
          "metadata": {},
          "execution_count": 54
        }
      ]
    },
    {
      "cell_type": "markdown",
      "source": [
        "### Compare SVM"
      ],
      "metadata": {
        "id": "MlW-X0eAhqAg"
      }
    },
    {
      "cell_type": "code",
      "source": [
        "svm =  make_pipeline(StandardScaler(), SVC())"
      ],
      "metadata": {
        "id": "Rf6sbGvhhqAh"
      },
      "execution_count": null,
      "outputs": []
    },
    {
      "cell_type": "code",
      "source": [
        "svm.fit(X_train, y_train)"
      ],
      "metadata": {
        "colab": {
          "base_uri": "https://localhost:8080/"
        },
        "outputId": "6fc57def-f46a-461d-862a-46747476da3f",
        "id": "Ws_YbK7FhqAi"
      },
      "execution_count": null,
      "outputs": [
        {
          "output_type": "execute_result",
          "data": {
            "text/plain": [
              "Pipeline(steps=[('standardscaler', StandardScaler()), ('svc', SVC())])"
            ]
          },
          "metadata": {},
          "execution_count": 121
        }
      ]
    },
    {
      "cell_type": "code",
      "source": [
        "y_pred = svm.predict(X_test)"
      ],
      "metadata": {
        "id": "y49alab4hqAk"
      },
      "execution_count": null,
      "outputs": []
    },
    {
      "cell_type": "code",
      "source": [
        "accuracy_score(y_test,y_pred)"
      ],
      "metadata": {
        "colab": {
          "base_uri": "https://localhost:8080/"
        },
        "outputId": "bfe65b1c-627e-4f68-b0a7-4aafd466079e",
        "id": "69vDw2T4hqAk"
      },
      "execution_count": null,
      "outputs": [
        {
          "output_type": "execute_result",
          "data": {
            "text/plain": [
              "0.966"
            ]
          },
          "metadata": {},
          "execution_count": 123
        }
      ]
    },
    {
      "cell_type": "markdown",
      "source": [
        "### Grid Search"
      ],
      "metadata": {
        "id": "XDfTNcJMeOjY"
      }
    },
    {
      "cell_type": "code",
      "source": [
        "# Tạo các mảng các giá trị của siêu tham số\n",
        "max_features_range = np.arange(1,6,1)\n",
        "n_estimators_range = np.arange(10,300,10)\n",
        "max_leaf_nodes_range = np.arange(2,35,1)"
      ],
      "metadata": {
        "id": "EdIrLAkoeRP_"
      },
      "execution_count": null,
      "outputs": []
    },
    {
      "cell_type": "code",
      "source": [
        "# Tạo một lưới các tham số\n",
        "param_grid = dict(max_features=max_features_range, \n",
        "                  n_estimators=n_estimators_range,\n",
        "                  max_leaf_nodes=max_leaf_nodes_range)"
      ],
      "metadata": {
        "id": "UtANw0j9eRP_"
      },
      "execution_count": null,
      "outputs": []
    },
    {
      "cell_type": "code",
      "source": [
        "# Khởi tạo mô hình cần tối ưu hóa các siêu tham số\n",
        "rf = RandomForestClassifier()"
      ],
      "metadata": {
        "id": "O4DNFDSLeRP_"
      },
      "execution_count": null,
      "outputs": []
    },
    {
      "cell_type": "code",
      "source": [
        "# Sử dụng hàm GridSearch của thư viện sklearn để điểu chỉnh siêu tham số\n",
        "grid = GridSearchCV(estimator=rf, param_grid=param_grid, scoring='roc_auc', cv=5)"
      ],
      "metadata": {
        "id": "YVvPaqMReRP_"
      },
      "execution_count": null,
      "outputs": []
    },
    {
      "cell_type": "code",
      "source": [
        "# Tiến hành đào tạo\n",
        "grid.fit(X_train, y_train)"
      ],
      "metadata": {
        "id": "6OV0ot23eRQA"
      },
      "execution_count": null,
      "outputs": []
    },
    {
      "cell_type": "code",
      "source": [
        "# In ra kết quả\n",
        "print(\"The best parameters are %s with a score of %0.2f\"\n",
        "      % (grid.best_params_, grid.best_score_))"
      ],
      "metadata": {
        "id": "p__ZkDtbeRQA"
      },
      "execution_count": null,
      "outputs": []
    },
    {
      "cell_type": "markdown",
      "metadata": {
        "id": "9BeyfT2s1mTR"
      },
      "source": [
        "## GASearchCV"
      ]
    },
    {
      "cell_type": "code",
      "execution_count": null,
      "metadata": {
        "id": "JAPCqOca1mTT"
      },
      "outputs": [],
      "source": [
        "param_grid = {'min_weight_fraction_leaf': Continuous(0.01, 0.5, distribution='log-uniform'),\n",
        "              'bootstrap': Categorical([True, False]),\n",
        "              'max_depth': Integer(2, 30), \n",
        "              'criterion': Categorical(['gini', 'entropy']),\n",
        "              'max_features': Categorical(['auto', 'sqrt', 'log2']),\n",
        "              'max_leaf_nodes': Integer(2, 35), \n",
        "              'n_estimators': Integer(10, 210)}"
      ]
    },
    {
      "cell_type": "code",
      "execution_count": null,
      "metadata": {
        "id": "VCHGkMeT1mTT"
      },
      "outputs": [],
      "source": [
        "clf = RandomForestClassifier()\n",
        "\n",
        "cv = StratifiedKFold(n_splits=3, shuffle=True)\n",
        "\n",
        "evolved_estimator = GASearchCV(estimator=clf,\n",
        "                               cv=cv,\n",
        "                               scoring='accuracy',\n",
        "                               population_size=10,\n",
        "                               generations=15,\n",
        "                               tournament_size=3,\n",
        "                               elitism=True,\n",
        "                               crossover_probability=0.8,\n",
        "                               mutation_probability=0.1,\n",
        "                               param_grid=param_grid,\n",
        "                               criteria='max',\n",
        "                               algorithm='eaMuPlusLambda',\n",
        "                               n_jobs=-1,\n",
        "                               verbose=True,\n",
        "                               keep_top_k=4)"
      ]
    },
    {
      "cell_type": "code",
      "execution_count": null,
      "metadata": {
        "colab": {
          "base_uri": "https://localhost:8080/"
        },
        "outputId": "60c00949-1821-471b-cf0a-84dc8ff7cc99",
        "id": "lQ5T_kny1mTU"
      },
      "outputs": [
        {
          "output_type": "stream",
          "name": "stdout",
          "text": [
            "gen\tnevals\tfitness \tfitness_std\tfitness_max\tfitness_min\n",
            "0  \t10    \t0.696042\t0.10448    \t0.855417   \t0.462917   \n",
            "1  \t17    \t0.746357\t0.104111   \t0.855417   \t0.481067   \n",
            "2  \t20    \t0.800155\t0.045511   \t0.855417   \t0.735417   \n",
            "3  \t18    \t0.836627\t0.0104193  \t0.850483   \t0.818083   \n",
            "4  \t19    \t0.847858\t0.00198388 \t0.849633   \t0.84285    \n",
            "5  \t19    \t0.849435\t0.00190104 \t0.85165    \t0.84585    \n",
            "6  \t19    \t0.850073\t0.00178066 \t0.85165    \t0.846283   \n",
            "7  \t20    \t0.850925\t0.00115888 \t0.853      \t0.84905    \n",
            "8  \t17    \t0.851347\t0.00075424 \t0.853      \t0.850467   \n",
            "9  \t17    \t0.851802\t0.000765777\t0.853167   \t0.85055    \n",
            "10 \t18    \t0.852832\t0.00129886 \t0.85515    \t0.851483   \n",
            "11 \t19    \t0.852823\t0.00126781 \t0.85515    \t0.851667   \n",
            "12 \t16    \t0.854317\t0.00112445 \t0.85515    \t0.852267   \n",
            "13 \t18    \t0.854948\t0.000760462\t0.85595    \t0.85355    \n",
            "14 \t15    \t0.855428\t0.000634737\t0.856483   \t0.8546     \n",
            "15 \t17    \t0.855785\t0.000526332\t0.8566     \t0.85465    \n"
          ]
        },
        {
          "output_type": "execute_result",
          "data": {
            "text/plain": [
              "GASearchCV(cv=StratifiedKFold(n_splits=3, random_state=None, shuffle=True),\n",
              "           estimator=RandomForestClassifier(max_depth=17, max_leaf_nodes=31,\n",
              "                                            min_weight_fraction_leaf=0.02326561288964513,\n",
              "                                            n_estimators=196),\n",
              "           generations=15, keep_top_k=4, n_jobs=-1,\n",
              "           param_grid={'max_depth': <sklearn_genetic.space.space.Integer object at 0x7f3735cdc790>,\n",
              "                       'max_leaf_nodes': <sklearn_genetic.space.space.Integer object at 0x7f3735cdc750>,\n",
              "                       'min_weight_fraction_leaf': <sklearn_genetic.space.space.Continuous object at 0x7f3735cdc590>,\n",
              "                       'n_estimators': <sklearn_genetic.space.space.Integer object at 0x7f3735cdc710>},\n",
              "           return_train_score=True, scoring='accuracy')"
            ]
          },
          "metadata": {},
          "execution_count": 8
        }
      ],
      "source": [
        "evolved_estimator.fit(X_train,y_train)"
      ]
    },
    {
      "cell_type": "code",
      "execution_count": null,
      "metadata": {
        "id": "wg6_Co8j1mTU"
      },
      "outputs": [],
      "source": [
        "y_predicy_ga = evolved_estimator.predict(X_test)"
      ]
    },
    {
      "cell_type": "code",
      "execution_count": null,
      "metadata": {
        "colab": {
          "base_uri": "https://localhost:8080/"
        },
        "outputId": "fb50b7dc-e7c2-4305-afa1-275da14ef44e",
        "id": "OFiDNofx1mTV"
      },
      "outputs": [
        {
          "output_type": "execute_result",
          "data": {
            "text/plain": [
              "0.8618"
            ]
          },
          "metadata": {},
          "execution_count": 10
        }
      ],
      "source": [
        "accuracy_score(y_test,y_predicy_ga)"
      ]
    },
    {
      "cell_type": "code",
      "execution_count": null,
      "metadata": {
        "colab": {
          "base_uri": "https://localhost:8080/",
          "height": 627
        },
        "outputId": "da332746-1848-46cd-fdcb-711451c7b7be",
        "id": "JkuXvL9S1mTV"
      },
      "outputs": [
        {
          "output_type": "display_data",
          "data": {
            "image/png": "[encoded data removed]",
            "text/plain": [
              "<Figure size 720x720 with 1 Axes>"
            ]
          },
          "metadata": {}
        }
      ],
      "source": [
        "plot_fitness_evolution(evolved_estimator)\n",
        "plt.show()"
      ]
    },
    {
      "cell_type": "code",
      "execution_count": null,
      "metadata": {
        "colab": {
          "base_uri": "https://localhost:8080/"
        },
        "outputId": "804434f9-584b-4dff-966c-9316497fce88",
        "id": "PWcPu9_a1mTW"
      },
      "outputs": [
        {
          "output_type": "execute_result",
          "data": {
            "text/plain": [
              "RandomForestClassifier(max_depth=17, max_leaf_nodes=31,\n",
              "                       min_weight_fraction_leaf=0.02326561288964513,\n",
              "                       n_estimators=196)"
            ]
          },
          "metadata": {},
          "execution_count": 12
        }
      ],
      "source": [
        "evolved_estimator.best_estimator_"
      ]
    },
    {
      "cell_type": "code",
      "execution_count": null,
      "metadata": {
        "colab": {
          "base_uri": "https://localhost:8080/"
        },
        "outputId": "dc40499d-f4bc-4367-ee81-b9cd25ec5812",
        "id": "yZdZeY7S1mTW"
      },
      "outputs": [
        {
          "output_type": "execute_result",
          "data": {
            "text/plain": [
              "{'max_depth': 17,\n",
              " 'max_leaf_nodes': 31,\n",
              " 'min_weight_fraction_leaf': 0.02326561288964513,\n",
              " 'n_estimators': 196}"
            ]
          },
          "metadata": {},
          "execution_count": 13
        }
      ],
      "source": [
        "evolved_estimator.best_params_"
      ]
    },
    {
      "cell_type": "code",
      "execution_count": null,
      "metadata": {
        "colab": {
          "base_uri": "https://localhost:8080/"
        },
        "outputId": "bfa03a6d-5d19-475e-b944-9d4c05aecadf",
        "id": "cYJpax201mTX"
      },
      "outputs": [
        {
          "output_type": "stream",
          "name": "stdout",
          "text": [
            "Best k solutions:\n"
          ]
        },
        {
          "output_type": "execute_result",
          "data": {
            "text/plain": [
              "{0: {'max_depth': 17,\n",
              "  'max_leaf_nodes': 31,\n",
              "  'min_weight_fraction_leaf': 0.02326561288964513,\n",
              "  'n_estimators': 196},\n",
              " 1: {'max_depth': 17,\n",
              "  'max_leaf_nodes': 35,\n",
              "  'min_weight_fraction_leaf': 0.02326561288964513,\n",
              "  'n_estimators': 196},\n",
              " 2: {'max_depth': 8,\n",
              "  'max_leaf_nodes': 31,\n",
              "  'min_weight_fraction_leaf': 0.02326561288964513,\n",
              "  'n_estimators': 196},\n",
              " 3: {'max_depth': 17,\n",
              "  'max_leaf_nodes': 32,\n",
              "  'min_weight_fraction_leaf': 0.02326561288964513,\n",
              "  'n_estimators': 196}}"
            ]
          },
          "metadata": {},
          "execution_count": 14
        }
      ],
      "source": [
        "print(\"Best k solutions:\")\n",
        "evolved_estimator.hof"
      ]
    },
    {
      "cell_type": "code",
      "execution_count": null,
      "metadata": {
        "id": "1DCg1dkuyjfk",
        "colab": {
          "base_uri": "https://localhost:8080/",
          "height": 724
        },
        "outputId": "eddbf3cc-1d6f-47c8-930f-b2a8f5572ddd"
      },
      "outputs": [
        {
          "output_type": "display_data",
          "data": {
            "image/png": "[encoded data removed]",
            "text/plain": [
              "<Figure size 720x720 with 30 Axes>"
            ]
          },
          "metadata": {}
        }
      ],
      "source": [
        "plot_search_space(evolved_estimator)\n",
        "plt.show()"
      ]
    },
    {
      "cell_type": "markdown",
      "metadata": {
        "id": "CfWTHUwW7007"
      },
      "source": [
        "## Tuning Using Evolutionary Algorithms"
      ]
    },
    {
      "cell_type": "code",
      "execution_count": null,
      "metadata": {
        "id": "Q6FDBV2y7008"
      },
      "outputs": [],
      "source": [
        "tic = time.perf_counter()\n",
        "fobj = open('/content/drive/MyDrive/LogForPython/MNIST.txt', 'w')\n",
        "fobj.write(\"number gen,num of evaluations,min weight fraction leaf,bootstrap,max depth,criterion,max features,max leaf nodes,n estimators,fitness\\n\")\n",
        "result_and_allParamater = DE(RandomforestWithK_fold,Randomforest, bounds = [(0,0.5),(1,2),(2,30),(1,2),(1,3),(2,35),(10,300)], popsize=256, max_evaluation=1300)\n",
        "fobj.close()\n",
        "toc = time.perf_counter()"
      ]
    },
    {
      "cell_type": "code",
      "execution_count": null,
      "metadata": {
        "id": "F3alrkiM7008"
      },
      "outputs": [],
      "source": [
        "result = result_and_allParamater[0]\n",
        "print(np.asarray(result).shape)\n",
        "print(result)\n",
        "for res in result:\n",
        "  print(res[-1])"
      ]
    },
    {
      "cell_type": "code",
      "execution_count": null,
      "metadata": {
        "id": "WlpGGiXL7009"
      },
      "outputs": [],
      "source": [
        "all_paramater = result_and_allParamater[1]\n",
        "all_paramater\n",
        "#[min_weight_fraction_leaf, bootstrap,max_depth,criterion,max_features,max_leaf_nodes,n_estimators,accuracy_score,recall_score,precision_score,f1_score,confusion_matrix]"
      ]
    },
    {
      "cell_type": "code",
      "execution_count": null,
      "metadata": {
        "id": "4X2XbEYQ7009"
      },
      "outputs": [],
      "source": [
        "print(f\"Accuracy: {all_paramater[7]}\")"
      ]
    },
    {
      "cell_type": "code",
      "execution_count": null,
      "metadata": {
        "id": "Oxzte1oV700-"
      },
      "outputs": [],
      "source": [
        "time_run = toc-tic\n",
        "print(f\"second:{time_run}-minute:{time_run/60}\")"
      ]
    },
    {
      "cell_type": "markdown",
      "source": [
        "## Compare Decision tree"
      ],
      "metadata": {
        "id": "GTLOHW6qY2my"
      }
    },
    {
      "cell_type": "code",
      "source": [
        "tic = time.perf_counter()\n",
        "clf = RandomForestClassifier()\n",
        "clf.fit(X_train, y_train)\n",
        "y_pred = clf.predict(X_test)\n",
        "print(accuracy_score(y_test,y_pred))\n",
        "toc = time.perf_counter()\n",
        "print(toc-tic)\n"
      ],
      "metadata": {
        "colab": {
          "base_uri": "https://localhost:8080/"
        },
        "id": "14VuxWhtY7ta",
        "outputId": "adad6e7a-8704-4c90-c5df-96ea32f61700"
      },
      "execution_count": null,
      "outputs": [
        {
          "output_type": "stream",
          "name": "stdout",
          "text": [
            "0.969\n",
            "54.08234558100003\n"
          ]
        }
      ]
    },
    {
      "cell_type": "code",
      "source": [
        "tic = time.perf_counter()\n",
        "print(Randomforest(0.0,False,26,'gini','sqrt',35,204)[7])\n",
        "toc = time.perf_counter()\n",
        "print(toc-tic)"
      ],
      "metadata": {
        "colab": {
          "base_uri": "https://localhost:8080/"
        },
        "outputId": "c6512c86-211a-4751-c47f-21d9c0f0f715",
        "id": "4bKgCaboY2mz"
      },
      "execution_count": null,
      "outputs": [
        {
          "output_type": "stream",
          "name": "stdout",
          "text": [
            "0.881\n",
            "51.24132998799996\n"
          ]
        }
      ]
    },
    {
      "cell_type": "code",
      "source": [
        "\n",
        "from sklearn.tree import DecisionTreeClassifier\n",
        "tic = time.perf_counter()\n",
        "clf = DecisionTreeClassifier()\n",
        "clf.fit(X_train, y_train)\n",
        "y_pred = clf.predict(X_test)\n",
        "toc = time.perf_counter()\n",
        "print(metrics.accuracy_score(y_test, y_pred))\n",
        "print(toc-tic)"
      ],
      "metadata": {
        "colab": {
          "base_uri": "https://localhost:8080/"
        },
        "outputId": "acd9c395-f340-41e4-a1f4-8e6f04f5870b",
        "id": "t64OF_YdY2m0"
      },
      "execution_count": null,
      "outputs": [
        {
          "output_type": "stream",
          "name": "stdout",
          "text": [
            "0.8761\n",
            "23.17211241699988\n"
          ]
        }
      ]
    },
    {
      "cell_type": "markdown",
      "source": [
        "# Olympics"
      ],
      "metadata": {
        "id": "2f4s92UWBb0x"
      }
    },
    {
      "cell_type": "code",
      "source": [
        "df4 = pd.read_csv(file_paths[0],encoding = \"ISO-8859-1\")\n",
        "df4 = df4.dropna()"
      ],
      "metadata": {
        "id": "XSAPU7fABcsR"
      },
      "execution_count": 17,
      "outputs": []
    },
    {
      "cell_type": "code",
      "source": [
        "df4.head(5)"
      ],
      "metadata": {
        "colab": {
          "base_uri": "https://localhost:8080/",
          "height": 206
        },
        "id": "sYxBXB-xxnnZ",
        "outputId": "bf10fbf0-aedf-44e2-ca3d-3a7cfb56acfb"
      },
      "execution_count": 18,
      "outputs": [
        {
          "output_type": "execute_result",
          "data": {
            "text/html": [
              "<div>\n",
              "<style scoped>\n",
              "    .dataframe tbody tr th:only-of-type {\n",
              "        vertical-align: middle;\n",
              "    }\n",
              "\n",
              "    .dataframe tbody tr th {\n",
              "        vertical-align: top;\n",
              "    }\n",
              "\n",
              "    .dataframe thead th {\n",
              "        text-align: right;\n",
              "    }\n",
              "</style>\n",
              "<table border=\"1\" class=\"dataframe\">\n",
              "  <thead>\n",
              "    <tr style=\"text-align: right;\">\n",
              "      <th></th>\n",
              "      <th>City</th>\n",
              "      <th>Year</th>\n",
              "      <th>Sport</th>\n",
              "      <th>Discipline</th>\n",
              "      <th>Event</th>\n",
              "      <th>Athlete</th>\n",
              "      <th>Gender</th>\n",
              "      <th>Country_Code</th>\n",
              "      <th>Country</th>\n",
              "      <th>Event_gender</th>\n",
              "      <th>Medal</th>\n",
              "    </tr>\n",
              "  </thead>\n",
              "  <tbody>\n",
              "    <tr>\n",
              "      <th>0</th>\n",
              "      <td>Montreal</td>\n",
              "      <td>1976.0</td>\n",
              "      <td>Aquatics</td>\n",
              "      <td>Diving</td>\n",
              "      <td>3m springboard</td>\n",
              "      <td>KÖHLER, Christa</td>\n",
              "      <td>Women</td>\n",
              "      <td>GDR</td>\n",
              "      <td>East Germany</td>\n",
              "      <td>W</td>\n",
              "      <td>Silver</td>\n",
              "    </tr>\n",
              "    <tr>\n",
              "      <th>1</th>\n",
              "      <td>Montreal</td>\n",
              "      <td>1976.0</td>\n",
              "      <td>Aquatics</td>\n",
              "      <td>Diving</td>\n",
              "      <td>3m springboard</td>\n",
              "      <td>KOSENKOV, Aleksandr</td>\n",
              "      <td>Men</td>\n",
              "      <td>URS</td>\n",
              "      <td>Soviet Union</td>\n",
              "      <td>M</td>\n",
              "      <td>Bronze</td>\n",
              "    </tr>\n",
              "    <tr>\n",
              "      <th>2</th>\n",
              "      <td>Montreal</td>\n",
              "      <td>1976.0</td>\n",
              "      <td>Aquatics</td>\n",
              "      <td>Diving</td>\n",
              "      <td>3m springboard</td>\n",
              "      <td>BOGGS, Philip George</td>\n",
              "      <td>Men</td>\n",
              "      <td>USA</td>\n",
              "      <td>United States</td>\n",
              "      <td>M</td>\n",
              "      <td>Gold</td>\n",
              "    </tr>\n",
              "    <tr>\n",
              "      <th>3</th>\n",
              "      <td>Montreal</td>\n",
              "      <td>1976.0</td>\n",
              "      <td>Aquatics</td>\n",
              "      <td>Diving</td>\n",
              "      <td>3m springboard</td>\n",
              "      <td>CAGNOTTO, Giorgio Franco</td>\n",
              "      <td>Men</td>\n",
              "      <td>ITA</td>\n",
              "      <td>Italy</td>\n",
              "      <td>M</td>\n",
              "      <td>Silver</td>\n",
              "    </tr>\n",
              "    <tr>\n",
              "      <th>4</th>\n",
              "      <td>Montreal</td>\n",
              "      <td>1976.0</td>\n",
              "      <td>Aquatics</td>\n",
              "      <td>Diving</td>\n",
              "      <td>10m platform</td>\n",
              "      <td>WILSON, Deborah Keplar</td>\n",
              "      <td>Women</td>\n",
              "      <td>USA</td>\n",
              "      <td>United States</td>\n",
              "      <td>W</td>\n",
              "      <td>Bronze</td>\n",
              "    </tr>\n",
              "  </tbody>\n",
              "</table>\n",
              "</div>"
            ],
            "text/plain": [
              "       City    Year     Sport  ...        Country Event_gender   Medal\n",
              "0  Montreal  1976.0  Aquatics  ...   East Germany            W  Silver\n",
              "1  Montreal  1976.0  Aquatics  ...   Soviet Union            M  Bronze\n",
              "2  Montreal  1976.0  Aquatics  ...  United States            M    Gold\n",
              "3  Montreal  1976.0  Aquatics  ...          Italy            M  Silver\n",
              "4  Montreal  1976.0  Aquatics  ...  United States            W  Bronze\n",
              "\n",
              "[5 rows x 11 columns]"
            ]
          },
          "metadata": {},
          "execution_count": 18
        }
      ]
    },
    {
      "cell_type": "code",
      "source": [
        "df4.info()"
      ],
      "metadata": {
        "colab": {
          "base_uri": "https://localhost:8080/"
        },
        "id": "k2gHJGC_xq_y",
        "outputId": "88f9161a-76a9-4d68-c6e0-3c119218d26a"
      },
      "execution_count": 19,
      "outputs": [
        {
          "output_type": "stream",
          "name": "stdout",
          "text": [
            "<class 'pandas.core.frame.DataFrame'>\n",
            "Int64Index: 15316 entries, 0 to 15432\n",
            "Data columns (total 11 columns):\n",
            " #   Column        Non-Null Count  Dtype  \n",
            "---  ------        --------------  -----  \n",
            " 0   City          15316 non-null  object \n",
            " 1   Year          15316 non-null  float64\n",
            " 2   Sport         15316 non-null  object \n",
            " 3   Discipline    15316 non-null  object \n",
            " 4   Event         15316 non-null  object \n",
            " 5   Athlete       15316 non-null  object \n",
            " 6   Gender        15316 non-null  object \n",
            " 7   Country_Code  15316 non-null  object \n",
            " 8   Country       15316 non-null  object \n",
            " 9   Event_gender  15316 non-null  object \n",
            " 10  Medal         15316 non-null  object \n",
            "dtypes: float64(1), object(10)\n",
            "memory usage: 1.4+ MB\n"
          ]
        }
      ]
    },
    {
      "cell_type": "code",
      "source": [
        "df4 = df4.drop(columns='Country')\n",
        "df4 = df4.drop(columns='Athlete')"
      ],
      "metadata": {
        "id": "xSaUvLS_ET-N"
      },
      "execution_count": null,
      "outputs": []
    },
    {
      "cell_type": "code",
      "source": [
        "y = df4['Medal']\n",
        "df4 = df4.drop(columns='Medal')"
      ],
      "metadata": {
        "id": "a2HvjN1qEvBK"
      },
      "execution_count": null,
      "outputs": []
    },
    {
      "cell_type": "code",
      "source": [
        "df4.City = pd.Categorical(df4.City)\n",
        "df4['City'] = df4.City.cat.codes\n",
        "df4.Year = pd.Categorical(df4.Year)\n",
        "df4['Year'] = df4.Year.cat.codes\n",
        "df4.Sport = pd.Categorical(df4.Sport)\n",
        "df4['Sport'] = df4.Sport.cat.codes\n",
        "df4.Event = pd.Categorical(df4.Event)\n",
        "df4['Event'] = df4.Event.cat.codes\n",
        "df4.Discipline = pd.Categorical(df4.Discipline)\n",
        "df4['Discipline'] = df4.Discipline.cat.codes\n",
        "df4.Gender = pd.Categorical(df4.Gender)\n",
        "df4['Gender'] = df4.Gender.cat.codes\n",
        "df4.Country_Code = pd.Categorical(df4.Country_Code)\n",
        "df4['Country_Code'] = df4.Country_Code.cat.codes\n",
        "df4.Event_gender = pd.Categorical(df4.Event_gender)\n",
        "df4['Event_gender'] = df4.Event_gender.cat.codes\n"
      ],
      "metadata": {
        "id": "b-iIAQstQjTa"
      },
      "execution_count": null,
      "outputs": []
    },
    {
      "cell_type": "code",
      "source": [
        "df4.info()"
      ],
      "metadata": {
        "colab": {
          "base_uri": "https://localhost:8080/"
        },
        "id": "f65Z_97LQwBn",
        "outputId": "2ec71fb5-9ebb-477a-9f5b-4dc00631710b"
      },
      "execution_count": null,
      "outputs": [
        {
          "output_type": "stream",
          "name": "stdout",
          "text": [
            "<class 'pandas.core.frame.DataFrame'>\n",
            "Int64Index: 15316 entries, 0 to 15432\n",
            "Data columns (total 8 columns):\n",
            " #   Column        Non-Null Count  Dtype\n",
            "---  ------        --------------  -----\n",
            " 0   City          15316 non-null  int8 \n",
            " 1   Year          15316 non-null  int8 \n",
            " 2   Sport         15316 non-null  int8 \n",
            " 3   Discipline    15316 non-null  int8 \n",
            " 4   Event         15316 non-null  int16\n",
            " 5   Gender        15316 non-null  int8 \n",
            " 6   Country_Code  15316 non-null  int16\n",
            " 7   Event_gender  15316 non-null  int8 \n",
            "dtypes: int16(2), int8(6)\n",
            "memory usage: 269.2 KB\n"
          ]
        }
      ]
    },
    {
      "cell_type": "code",
      "source": [
        "X = df4"
      ],
      "metadata": {
        "id": "OsCRBj0iFB1I"
      },
      "execution_count": null,
      "outputs": []
    },
    {
      "cell_type": "code",
      "source": [
        "y"
      ],
      "metadata": {
        "colab": {
          "base_uri": "https://localhost:8080/"
        },
        "id": "-caQhE46ajVc",
        "outputId": "49171d14-ab4d-42b8-b3e1-75369bc56802"
      },
      "execution_count": null,
      "outputs": [
        {
          "output_type": "execute_result",
          "data": {
            "text/plain": [
              "0        Silver\n",
              "1        Bronze\n",
              "2          Gold\n",
              "3        Silver\n",
              "4        Bronze\n",
              "          ...  \n",
              "15428    Bronze\n",
              "15429      Gold\n",
              "15430    Silver\n",
              "15431      Gold\n",
              "15432      Gold\n",
              "Name: Medal, Length: 15316, dtype: object"
            ]
          },
          "metadata": {},
          "execution_count": 35
        }
      ]
    },
    {
      "cell_type": "code",
      "source": [
        "X_train, X_test, y_train, y_test = train_test_split(X, y, test_size=0.2, random_state=42)"
      ],
      "metadata": {
        "id": "yrskgGvHE6WL"
      },
      "execution_count": null,
      "outputs": []
    },
    {
      "cell_type": "markdown",
      "metadata": {
        "id": "dAvZyiMzUdti"
      },
      "source": [
        "### Compare SVM"
      ]
    },
    {
      "cell_type": "code",
      "execution_count": null,
      "metadata": {
        "id": "Om_SFMlPUdtj"
      },
      "outputs": [],
      "source": [
        "svm =  make_pipeline(StandardScaler(), SVC())"
      ]
    },
    {
      "cell_type": "code",
      "execution_count": null,
      "metadata": {
        "colab": {
          "base_uri": "https://localhost:8080/"
        },
        "outputId": "26d6dd70-de30-4a7b-d943-41f726821a70",
        "id": "lzWo3IskUdtj"
      },
      "outputs": [
        {
          "output_type": "stream",
          "name": "stdout",
          "text": [
            "CPU times: user 1min 49s, sys: 269 ms, total: 1min 49s\n",
            "Wall time: 1min 49s\n"
          ]
        },
        {
          "output_type": "execute_result",
          "data": {
            "text/plain": [
              "Pipeline(steps=[('standardscaler', StandardScaler()), ('svc', SVC())])"
            ]
          },
          "metadata": {},
          "execution_count": 84
        }
      ],
      "source": [
        "%%time\n",
        "svm.fit(X_train, y_train)"
      ]
    },
    {
      "cell_type": "code",
      "execution_count": null,
      "metadata": {
        "id": "LXU7gi_4Udtk"
      },
      "outputs": [],
      "source": [
        "y_pred = svm.predict(X_test)"
      ]
    },
    {
      "cell_type": "code",
      "execution_count": null,
      "metadata": {
        "colab": {
          "base_uri": "https://localhost:8080/"
        },
        "outputId": "461bef34-afec-471f-a7e0-d1406be6aa04",
        "id": "PlnO3XHtUdtk"
      },
      "outputs": [
        {
          "output_type": "execute_result",
          "data": {
            "text/plain": [
              "0.4549608355091384"
            ]
          },
          "metadata": {},
          "execution_count": 86
        }
      ],
      "source": [
        "accuracy_score(y_test,y_pred)"
      ]
    },
    {
      "cell_type": "markdown",
      "metadata": {
        "id": "wELCKoeFUu_g"
      },
      "source": [
        "### GA Search"
      ]
    },
    {
      "cell_type": "code",
      "execution_count": null,
      "metadata": {
        "id": "8Jut0iU9Uu_h"
      },
      "outputs": [],
      "source": [
        "param_grid = {'min_weight_fraction_leaf': Continuous(0.01, 0.5, distribution='log-uniform'),\n",
        "              'bootstrap': Categorical([True, False]),\n",
        "              'max_depth': Integer(2, 30), \n",
        "              'criterion': Categorical(['gini', 'entropy']),\n",
        "              'max_features': Categorical(['auto', 'sqrt', 'log2']),\n",
        "              'max_leaf_nodes': Integer(2, 35), \n",
        "              'n_estimators': Integer(10, 300)}"
      ]
    },
    {
      "cell_type": "code",
      "execution_count": null,
      "metadata": {
        "id": "3rCYSx-gUu_i"
      },
      "outputs": [],
      "source": [
        "clf = RandomForestClassifier()"
      ]
    },
    {
      "cell_type": "code",
      "execution_count": null,
      "metadata": {
        "id": "hKwzIWfiUu_j"
      },
      "outputs": [],
      "source": [
        "cv = StratifiedKFold(n_splits=3, shuffle=True)"
      ]
    },
    {
      "cell_type": "code",
      "execution_count": null,
      "metadata": {
        "id": "PmrBMM1KUu_j"
      },
      "outputs": [],
      "source": [
        "evolved_estimator = GASearchCV(estimator=clf,\n",
        "                               cv=cv,\n",
        "                               scoring='accuracy',\n",
        "                               population_size=10,\n",
        "                               generations=20,\n",
        "                               tournament_size=3,\n",
        "                               elitism=True,\n",
        "                               crossover_probability=0.8,\n",
        "                               mutation_probability=0.1,\n",
        "                               param_grid=param_grid,\n",
        "                               criteria='max',\n",
        "                               algorithm='eaMuPlusLambda',\n",
        "                               n_jobs=-1,\n",
        "                               verbose=True,\n",
        "                               keep_top_k=4)"
      ]
    },
    {
      "cell_type": "code",
      "execution_count": null,
      "metadata": {
        "colab": {
          "base_uri": "https://localhost:8080/"
        },
        "outputId": "d057ec1d-421f-49bf-8635-9918bf04dacc",
        "id": "rhIF4eJEUu_k"
      },
      "outputs": [
        {
          "output_type": "stream",
          "name": "stderr",
          "text": [
            "/usr/local/lib/python3.7/dist-packages/deap/creator.py:141: RuntimeWarning: A class named 'FitnessMax' has already been created and it will be overwritten. Consider deleting previous creation of that class or rename it.\n",
            "  RuntimeWarning)\n",
            "/usr/local/lib/python3.7/dist-packages/deap/creator.py:141: RuntimeWarning: A class named 'Individual' has already been created and it will be overwritten. Consider deleting previous creation of that class or rename it.\n",
            "  RuntimeWarning)\n"
          ]
        },
        {
          "output_type": "stream",
          "name": "stdout",
          "text": [
            "gen\tnevals\tfitness \tfitness_std\tfitness_max\tfitness_min\n",
            "0  \t10    \t0.370821\t0.0220297  \t0.409158   \t0.345331   \n",
            "1  \t20    \t0.385594\t0.0219729  \t0.409484   \t0.354554   \n",
            "2  \t16    \t0.400939\t0.0149121  \t0.409484   \t0.370878   \n",
            "3  \t16    \t0.408684\t0.000955887\t0.409158   \t0.406056   \n",
            "4  \t19    \t0.410619\t0.00107443 \t0.411851   \t0.409158   \n",
            "5  \t19    \t0.4107  \t0.0013319  \t0.412178   \t0.40728    \n",
            "6  \t18    \t0.412104\t0.00167566 \t0.413402   \t0.408994   \n",
            "7  \t20    \t0.412259\t0.00113624 \t0.413402   \t0.410219   \n",
            "8  \t17    \t0.412977\t0.00119108 \t0.416014   \t0.411525   \n",
            "9  \t18    \t0.412243\t0.00195812 \t0.416014   \t0.409321   \n",
            "10 \t17    \t0.412439\t0.00195743 \t0.413728   \t0.407852   \n",
            "11 \t16    \t0.413647\t0.00182433 \t0.416748   \t0.410872   \n",
            "12 \t19    \t0.413353\t0.00335994 \t0.416748   \t0.404669   \n",
            "13 \t18    \t0.414789\t0.00171439 \t0.416748   \t0.411851   \n",
            "14 \t17    \t0.413214\t0.00329505 \t0.416748   \t0.40573    \n",
            "15 \t19    \t0.411778\t0.00158285 \t0.414055   \t0.409811   \n",
            "16 \t16    \t0.413426\t0.0023238  \t0.416585   \t0.409811   \n",
            "17 \t20    \t0.413451\t0.00203957 \t0.416585   \t0.409811   \n",
            "18 \t18    \t0.413883\t0.00286074 \t0.416585   \t0.407199   \n",
            "19 \t20    \t0.413737\t0.00191326 \t0.416259   \t0.410464   \n",
            "20 \t18    \t0.414308\t0.00221291 \t0.416259   \t0.409158   \n"
          ]
        },
        {
          "output_type": "execute_result",
          "data": {
            "text/plain": [
              "GASearchCV(cv=StratifiedKFold(n_splits=3, random_state=None, shuffle=True),\n",
              "           estimator=RandomForestClassifier(max_depth=21, max_features='sqrt',\n",
              "                                            max_leaf_nodes=14,\n",
              "                                            min_weight_fraction_leaf=0.014155911067460877,\n",
              "                                            n_estimators=168),\n",
              "           generations=20, keep_top_k=4, n_jobs=-1,\n",
              "           param_grid={'bootstrap': <sklearn_genetic.space.space.Categorical object at 0x7f184f931fd0>,\n",
              "                       'cr...\n",
              "                       'max_features': <sklearn_genetic.space.space.Categorical object at 0x7f184f931490>,\n",
              "                       'max_leaf_nodes': <sklearn_genetic.space.space.Integer object at 0x7f184f931550>,\n",
              "                       'min_weight_fraction_leaf': <sklearn_genetic.space.space.Continuous object at 0x7f181ccab550>,\n",
              "                       'n_estimators': <sklearn_genetic.space.space.Integer object at 0x7f184f931750>},\n",
              "           return_train_score=True, scoring='accuracy')"
            ]
          },
          "metadata": {},
          "execution_count": 91
        }
      ],
      "source": [
        "evolved_estimator.fit(X_train,y_train)"
      ]
    },
    {
      "cell_type": "code",
      "execution_count": null,
      "metadata": {
        "id": "93zNG1jNUu_k"
      },
      "outputs": [],
      "source": [
        "y_predicy_ga = evolved_estimator.predict(X_test)"
      ]
    },
    {
      "cell_type": "code",
      "execution_count": null,
      "metadata": {
        "colab": {
          "base_uri": "https://localhost:8080/"
        },
        "outputId": "1b5c5a64-4dbb-4b7b-b4bd-a70c5a67e255",
        "id": "lPyt_YSGUu_l"
      },
      "outputs": [
        {
          "data": {
            "text/plain": [
              "0.575"
            ]
          },
          "execution_count": 32,
          "metadata": {},
          "output_type": "execute_result"
        }
      ],
      "source": [
        "accuracy_score(y_test,y_predicy_ga)"
      ]
    },
    {
      "cell_type": "code",
      "execution_count": null,
      "metadata": {
        "colab": {
          "base_uri": "https://localhost:8080/",
          "height": 627
        },
        "outputId": "2fea0a68-13c1-437a-8ef2-ff7b6e1d7756",
        "id": "7_I9wnyyUu_l"
      },
      "outputs": [
        {
          "data": {
            "image/png": "[encoded data removed]",
            "text/plain": [
              "<Figure size 720x720 with 1 Axes>"
            ]
          },
          "metadata": {},
          "output_type": "display_data"
        }
      ],
      "source": [
        "plot_fitness_evolution(evolved_estimator)\n",
        "plt.show()"
      ]
    },
    {
      "cell_type": "code",
      "execution_count": null,
      "metadata": {
        "colab": {
          "base_uri": "https://localhost:8080/"
        },
        "outputId": "f8282c23-49ad-44ad-a48a-dc557f3f264e",
        "id": "uu6UHp3pUu_m"
      },
      "outputs": [
        {
          "data": {
            "text/plain": [
              "RandomForestClassifier(max_depth=7, max_features='sqrt', max_leaf_nodes=29,\n",
              "                       min_weight_fraction_leaf=0.014338259357692609,\n",
              "                       n_estimators=279)"
            ]
          },
          "execution_count": 34,
          "metadata": {},
          "output_type": "execute_result"
        }
      ],
      "source": [
        "evolved_estimator.best_estimator_"
      ]
    },
    {
      "cell_type": "code",
      "execution_count": null,
      "metadata": {
        "colab": {
          "base_uri": "https://localhost:8080/"
        },
        "outputId": "dbeb09f7-b9bb-4cda-8e1a-a14825af1b85",
        "id": "tKxdLWMDUu_m"
      },
      "outputs": [
        {
          "data": {
            "text/plain": [
              "{'bootstrap': True,\n",
              " 'criterion': 'gini',\n",
              " 'max_depth': 7,\n",
              " 'max_features': 'sqrt',\n",
              " 'max_leaf_nodes': 29,\n",
              " 'min_weight_fraction_leaf': 0.014338259357692609,\n",
              " 'n_estimators': 279}"
            ]
          },
          "execution_count": 35,
          "metadata": {},
          "output_type": "execute_result"
        }
      ],
      "source": [
        "evolved_estimator.best_params_"
      ]
    },
    {
      "cell_type": "code",
      "execution_count": null,
      "metadata": {
        "colab": {
          "base_uri": "https://localhost:8080/"
        },
        "outputId": "aecd2572-6c41-498f-9b94-6497b07bffd3",
        "id": "anEaEYjjUu_n"
      },
      "outputs": [
        {
          "name": "stdout",
          "output_type": "stream",
          "text": [
            "Best k solutions:\n"
          ]
        },
        {
          "data": {
            "text/plain": [
              "{0: {'bootstrap': True,\n",
              "  'criterion': 'gini',\n",
              "  'max_depth': 7,\n",
              "  'max_features': 'sqrt',\n",
              "  'max_leaf_nodes': 29,\n",
              "  'min_weight_fraction_leaf': 0.014338259357692609,\n",
              "  'n_estimators': 279},\n",
              " 1: {'bootstrap': True,\n",
              "  'criterion': 'gini',\n",
              "  'max_depth': 7,\n",
              "  'max_features': 'sqrt',\n",
              "  'max_leaf_nodes': 29,\n",
              "  'min_weight_fraction_leaf': 0.014338259357692609,\n",
              "  'n_estimators': 279},\n",
              " 2: {'bootstrap': True,\n",
              "  'criterion': 'gini',\n",
              "  'max_depth': 7,\n",
              "  'max_features': 'sqrt',\n",
              "  'max_leaf_nodes': 29,\n",
              "  'min_weight_fraction_leaf': 0.014338259357692609,\n",
              "  'n_estimators': 209},\n",
              " 3: {'bootstrap': True,\n",
              "  'criterion': 'entropy',\n",
              "  'max_depth': 7,\n",
              "  'max_features': 'sqrt',\n",
              "  'max_leaf_nodes': 29,\n",
              "  'min_weight_fraction_leaf': 0.014338259357692609,\n",
              "  'n_estimators': 279}}"
            ]
          },
          "execution_count": 36,
          "metadata": {},
          "output_type": "execute_result"
        }
      ],
      "source": [
        "print(\"Best k solutions:\")\n",
        "evolved_estimator.hof"
      ]
    },
    {
      "cell_type": "code",
      "execution_count": null,
      "metadata": {
        "colab": {
          "base_uri": "https://localhost:8080/",
          "height": 864
        },
        "outputId": "a39a2d74-29fe-45d5-e279-5dcf33fab0be",
        "id": "gUP7tYzsUu_n"
      },
      "outputs": [
        {
          "data": {
            "image/png": "[encoded data removed]",
            "text/plain": [
              "<Figure size 864x864 with 42 Axes>"
            ]
          },
          "metadata": {},
          "output_type": "display_data"
        }
      ],
      "source": [
        "plot_search_space(evolved_estimator)\n",
        "plt.show()"
      ]
    },
    {
      "cell_type": "markdown",
      "source": [
        "##Tuning Using Evolutionary Algorithms"
      ],
      "metadata": {
        "id": "eZhMQQjvdZiZ"
      }
    },
    {
      "cell_type": "code",
      "source": [
        "tic = time.perf_counter()\n",
        "fobj = open('/content/drive/MyDrive/LogForPython/Olympics.txt', 'w')\n",
        "fobj.write(\"number gen,num of evaluations,min weight fraction leaf,bootstrap,max depth,criterion,max features,max leaf nodes,n estimators,fitness\\n\")\n",
        "result_and_allParamater = DE(RandomforestWithK_fold,Randomforest, bounds = [(0,0.5),(1,2),(2,30),(1,2),(1,3),(2,35),(10,300)], popsize=128, max_evaluation=1300)\n",
        "fobj.close()\n",
        "toc = time.perf_counter()"
      ],
      "metadata": {
        "colab": {
          "base_uri": "https://localhost:8080/"
        },
        "id": "jseQ2Y3yFEAL",
        "outputId": "9bd25325-f430-418e-a09d-f1d5afa9d6b1"
      },
      "execution_count": null,
      "outputs": [
        {
          "output_type": "stream",
          "name": "stdout",
          "text": [
            "256\n",
            "0.5239144372559305\n",
            "384\n",
            "0.5292206596224781\n",
            "512\n",
            "0.5377918883587707\n",
            "640\n",
            "0.5381989192249728\n",
            "768\n",
            "0.5390123481461128\n",
            "896\n",
            "0.5390123481461128\n",
            "1024\n",
            "0.5390123481461128\n",
            "1152\n",
            "0.5390123481461128\n",
            "1280\n",
            "0.5398302733578131\n"
          ]
        }
      ]
    },
    {
      "cell_type": "code",
      "source": [
        "result = result_and_allParamater[0]\n",
        "print(np.asarray(result).shape)\n",
        "print(result)\n",
        "for res in result:\n",
        "  print(res[-1])"
      ],
      "metadata": {
        "id": "V5rDyfdwFLOU",
        "colab": {
          "base_uri": "https://localhost:8080/"
        },
        "outputId": "f9ec9eb2-08c3-4f2a-bd10-8dfa1cfc247b"
      },
      "execution_count": null,
      "outputs": [
        {
          "output_type": "stream",
          "name": "stdout",
          "text": [
            "(10, 2)\n",
            "[(array([5.05922391e-04, 1.05459436e+00, 1.93914364e+01, 1.29266695e+00,\n",
            "       1.74199705e+00, 2.63126378e+01, 1.45009734e+02]), 0.5022048476673411), (array([  0.        ,   1.        ,  20.15682079,   1.27436404,\n",
            "         1.34228451,  35.        , 230.8408267 ]), 0.5239144372559305), (array([  0.        ,   1.31245047,  14.51244806,   1.22182568,\n",
            "         2.74978043,  35.        , 239.87642717]), 0.5292206596224781), (array([  0.        ,   1.78854022,  27.01074767,   1.08039142,\n",
            "         1.06435436,  35.        , 125.77972637]), 0.5377918883587707), (array([  0.        ,   1.19362667,  14.45044769,   2.        ,\n",
            "         3.        ,  35.        , 235.34330442]), 0.5381989192249728), (array([  0.        ,   2.        ,  30.        ,   2.        ,\n",
            "         3.        ,  35.        , 226.16245923]), 0.5390123481461128), (array([  0.        ,   2.        ,  30.        ,   2.        ,\n",
            "         3.        ,  35.        , 226.16245923]), 0.5390123481461128), (array([  0.        ,   2.        ,  30.        ,   2.        ,\n",
            "         3.        ,  35.        , 226.16245923]), 0.5390123481461128), (array([  0.        ,   2.        ,  30.        ,   2.        ,\n",
            "         3.        ,  35.        , 226.16245923]), 0.5390123481461128), (array([  0.        ,   1.19362667,  30.        ,   2.        ,\n",
            "         3.        ,  35.        , 235.34330442]), 0.5398302733578131)]\n",
            "0.5022048476673411\n",
            "0.5239144372559305\n",
            "0.5292206596224781\n",
            "0.5377918883587707\n",
            "0.5381989192249728\n",
            "0.5390123481461128\n",
            "0.5390123481461128\n",
            "0.5390123481461128\n",
            "0.5390123481461128\n",
            "0.5398302733578131\n"
          ]
        },
        {
          "output_type": "stream",
          "name": "stderr",
          "text": [
            "/usr/local/lib/python3.7/dist-packages/numpy/core/_asarray.py:83: VisibleDeprecationWarning: Creating an ndarray from ragged nested sequences (which is a list-or-tuple of lists-or-tuples-or ndarrays with different lengths or shapes) is deprecated. If you meant to do this, you must specify 'dtype=object' when creating the ndarray\n",
            "  return array(a, dtype, copy=False, order=order)\n"
          ]
        }
      ]
    },
    {
      "cell_type": "code",
      "source": [
        "all_paramater = result_and_allParamater[1]\n",
        "print(all_paramater)\n",
        "#[min_weight_fraction_leaf, bootstrap,max_depth,criterion,max_features,max_leaf_nodes,n_estimators,accuracy_score,recall_score,precision_score,f1_score,confusion_matrix]"
      ],
      "metadata": {
        "id": "_EA_ElLuFNPB",
        "colab": {
          "base_uri": "https://localhost:8080/"
        },
        "outputId": "9a7e6eb4-b43b-48cf-d7f2-b7b315b51eb9"
      },
      "execution_count": null,
      "outputs": [
        {
          "output_type": "stream",
          "name": "stdout",
          "text": [
            "[0.0, True, 30, 'entropy', 'log2', 35, 235, 0.514686684073107, array([0.77409932, 0.40364334, 0.36317907]), array([0.44215795, 0.6057554 , 0.63222417]), array([0.56283186, 0.4844649 , 0.46134185]), array([[795, 135,  97],\n",
            "       [509, 421, 113],\n",
            "       [494, 139, 361]]), array(['Bronze', 'Bronze', 'Silver', ..., 'Gold', 'Gold', 'Gold'],\n",
            "      dtype=object)]\n"
          ]
        }
      ]
    },
    {
      "cell_type": "code",
      "source": [
        "print(f\"Accuracy: {all_paramater[7]}\")"
      ],
      "metadata": {
        "id": "G9DzNMOCFO8F",
        "colab": {
          "base_uri": "https://localhost:8080/"
        },
        "outputId": "9b9dcfd7-8f24-4b5a-c348-35e8daae12ef"
      },
      "execution_count": null,
      "outputs": [
        {
          "output_type": "stream",
          "name": "stdout",
          "text": [
            "Accuracy: 0.514686684073107\n"
          ]
        }
      ]
    },
    {
      "cell_type": "code",
      "source": [
        "time_run = toc-tic\n",
        "print(f\"second:{time_run}-minute:{time_run/60}\")"
      ],
      "metadata": {
        "id": "Vwo_fFOTFQve",
        "colab": {
          "base_uri": "https://localhost:8080/"
        },
        "outputId": "35e76c7b-2348-42c1-cf58-6cc4d5706325"
      },
      "execution_count": null,
      "outputs": [
        {
          "output_type": "stream",
          "name": "stdout",
          "text": [
            "second:4923.288291873001-minute:82.05480486455002\n"
          ]
        }
      ]
    },
    {
      "cell_type": "markdown",
      "source": [
        "## Compare Decision tree"
      ],
      "metadata": {
        "id": "NTkQl9Mfdl9i"
      }
    },
    {
      "cell_type": "code",
      "source": [
        "tic = time.perf_counter()\n",
        "clf = RandomForestClassifier()\n",
        "clf.fit(X_train, y_train)\n",
        "y_pred = clf.predict(X_test)\n",
        "print(accuracy_score(y_test,y_pred))\n",
        "toc = time.perf_counter()\n",
        "print(toc-tic)\n"
      ],
      "metadata": {
        "colab": {
          "base_uri": "https://localhost:8080/"
        },
        "outputId": "a9d21907-fe58-4559-fd1b-279bede09f63",
        "id": "ge9lk1UNdl9i"
      },
      "execution_count": null,
      "outputs": [
        {
          "output_type": "stream",
          "name": "stdout",
          "text": [
            "0.7121409921671018\n",
            "1.215362584000104\n"
          ]
        }
      ]
    },
    {
      "cell_type": "code",
      "source": [
        "tic = time.perf_counter()\n",
        "print(Randomforest(0.0,True,30,'entropy','log2',35,235)[7])\n",
        "toc = time.perf_counter()\n",
        "print(toc-tic)"
      ],
      "metadata": {
        "colab": {
          "base_uri": "https://localhost:8080/"
        },
        "outputId": "a5a2fdbb-87f1-4699-e1fa-2440b7e2268e",
        "id": "0z4hl_Dhdl9j"
      },
      "execution_count": null,
      "outputs": [
        {
          "output_type": "stream",
          "name": "stdout",
          "text": [
            "0.5218668407310705\n",
            "1.7408599959999265\n"
          ]
        }
      ]
    },
    {
      "cell_type": "code",
      "source": [
        "\n",
        "from sklearn.tree import DecisionTreeClassifier\n",
        "tic = time.perf_counter()\n",
        "clf = DecisionTreeClassifier()\n",
        "clf.fit(X_train, y_train)\n",
        "y_pred = clf.predict(X_test)\n",
        "toc = time.perf_counter()\n",
        "print(metrics.accuracy_score(y_test, y_pred))\n",
        "print(toc-tic)"
      ],
      "metadata": {
        "colab": {
          "base_uri": "https://localhost:8080/"
        },
        "outputId": "21029778-5ee3-414c-d39a-b4ea73b52137",
        "id": "EWuKot6Hdl9j"
      },
      "execution_count": null,
      "outputs": [
        {
          "output_type": "stream",
          "name": "stdout",
          "text": [
            "0.7389033942558747\n",
            "0.05707521499971335\n"
          ]
        }
      ]
    }
  ],
  "metadata": {
    "colab": {
      "collapsed_sections": [
        "AzomRxN8dO_f",
        "K_WaggZ4dtiH",
        "Ar-6xMsh4wkL",
        "1M7_cxR4eAgF",
        "jjplYL_8YNPj",
        "XDfTNcJMeOjY"
      ],
      "name": "finalProjectCS116.ipynb",
      "provenance": [],
      "toc_visible": true,
      "include_colab_link": true
    },
    "kernelspec": {
      "display_name": "Python 3",
      "name": "python3"
    },
    "language_info": {
      "name": "python"
    }
  },
  "nbformat": 4,
  "nbformat_minor": 0
}